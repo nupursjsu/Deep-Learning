{
  "nbformat": 4,
  "nbformat_minor": 0,
  "metadata": {
    "colab": {
      "name": "Keras_save_and_load.ipynb",
      "provenance": [],
      "collapsed_sections": [],
      "authorship_tag": "ABX9TyPTykxNuw+fdHkTo8zwGtHq",
      "include_colab_link": true
    },
    "kernelspec": {
      "name": "python3",
      "display_name": "Python 3"
    }
  },
  "cells": [
    {
      "cell_type": "markdown",
      "metadata": {
        "id": "view-in-github",
        "colab_type": "text"
      },
      "source": [
        "<a href=\"https://colab.research.google.com/github/nupursjsu/Deep-Learning/blob/master/Ungraded_Assignment5/Keras_save_and_load.ipynb\" target=\"_parent\"><img src=\"https://colab.research.google.com/assets/colab-badge.svg\" alt=\"Open In Colab\"/></a>"
      ]
    },
    {
      "cell_type": "markdown",
      "metadata": {
        "id": "COiHI0PeVdeT",
        "colab_type": "text"
      },
      "source": [
        "# Demonstrating saving and loading of Keras models"
      ]
    },
    {
      "cell_type": "markdown",
      "metadata": {
        "id": "b3T02u2xWN3v",
        "colab_type": "text"
      },
      "source": [
        "## Importing necessary libraries"
      ]
    },
    {
      "cell_type": "code",
      "metadata": {
        "id": "OcWMVvMdVYhP",
        "colab_type": "code",
        "colab": {
          "base_uri": "https://localhost:8080/",
          "height": 102
        },
        "outputId": "5e4770fd-6aca-4537-eaf9-5324d10cc776"
      },
      "source": [
        "!pip install pyyaml h5py\n",
        "import os\n",
        "\n",
        "import tensorflow as tf\n",
        "from tensorflow import keras\n",
        "\n",
        "print(tf.version.VERSION)"
      ],
      "execution_count": 1,
      "outputs": [
        {
          "output_type": "stream",
          "text": [
            "Requirement already satisfied: pyyaml in /usr/local/lib/python3.6/dist-packages (3.13)\n",
            "Requirement already satisfied: h5py in /usr/local/lib/python3.6/dist-packages (2.10.0)\n",
            "Requirement already satisfied: numpy>=1.7 in /usr/local/lib/python3.6/dist-packages (from h5py) (1.18.4)\n",
            "Requirement already satisfied: six in /usr/local/lib/python3.6/dist-packages (from h5py) (1.12.0)\n",
            "2.2.0\n"
          ],
          "name": "stdout"
        }
      ]
    },
    {
      "cell_type": "markdown",
      "metadata": {
        "id": "xgWbqBEPWVL_",
        "colab_type": "text"
      },
      "source": [
        "## Loading MNIST dataset"
      ]
    },
    {
      "cell_type": "code",
      "metadata": {
        "id": "E8snHusjWXxo",
        "colab_type": "code",
        "colab": {
          "base_uri": "https://localhost:8080/",
          "height": 51
        },
        "outputId": "38e66771-2681-48cc-bcfd-b4133bf2066a"
      },
      "source": [
        "(train_images, train_labels), (test_images, test_labels) = tf.keras.datasets.mnist.load_data()\n",
        "\n",
        "train_labels = train_labels[:1000]\n",
        "test_labels = test_labels[:1000]\n",
        "\n",
        "train_images = train_images[:1000].reshape(-1, 28 * 28) / 255.0\n",
        "test_images = test_images[:1000].reshape(-1, 28 * 28) / 255.0"
      ],
      "execution_count": 2,
      "outputs": [
        {
          "output_type": "stream",
          "text": [
            "Downloading data from https://storage.googleapis.com/tensorflow/tf-keras-datasets/mnist.npz\n",
            "11493376/11490434 [==============================] - 0s 0us/step\n"
          ],
          "name": "stdout"
        }
      ]
    },
    {
      "cell_type": "markdown",
      "metadata": {
        "id": "K1t8z1S0Wvul",
        "colab_type": "text"
      },
      "source": [
        "## Building the model"
      ]
    },
    {
      "cell_type": "code",
      "metadata": {
        "id": "99kI_oD9Wy9v",
        "colab_type": "code",
        "colab": {
          "base_uri": "https://localhost:8080/",
          "height": 255
        },
        "outputId": "7eda2d74-cc6d-49f8-8958-bf53c37d07e2"
      },
      "source": [
        "# Define a simple sequential model\n",
        "def build_model():\n",
        "  model = tf.keras.models.Sequential([\n",
        "    keras.layers.Dense(512, activation='relu', input_shape=(784,)),\n",
        "    keras.layers.Dropout(0.2),\n",
        "    keras.layers.Dense(10)\n",
        "  ])\n",
        "\n",
        "  model.compile(optimizer='adam',\n",
        "                loss=tf.losses.SparseCategoricalCrossentropy(from_logits=True),\n",
        "                metrics=['accuracy'])\n",
        "\n",
        "  return model\n",
        "\n",
        "# Create a basic model instance\n",
        "model = build_model()\n",
        "\n",
        "# Display the model's architecture\n",
        "model.summary()"
      ],
      "execution_count": 3,
      "outputs": [
        {
          "output_type": "stream",
          "text": [
            "Model: \"sequential\"\n",
            "_________________________________________________________________\n",
            "Layer (type)                 Output Shape              Param #   \n",
            "=================================================================\n",
            "dense (Dense)                (None, 512)               401920    \n",
            "_________________________________________________________________\n",
            "dropout (Dropout)            (None, 512)               0         \n",
            "_________________________________________________________________\n",
            "dense_1 (Dense)              (None, 10)                5130      \n",
            "=================================================================\n",
            "Total params: 407,050\n",
            "Trainable params: 407,050\n",
            "Non-trainable params: 0\n",
            "_________________________________________________________________\n"
          ],
          "name": "stdout"
        }
      ]
    },
    {
      "cell_type": "markdown",
      "metadata": {
        "id": "nOwbRPUAW8ph",
        "colab_type": "text"
      },
      "source": [
        "## Saving checkpoints during training"
      ]
    },
    {
      "cell_type": "code",
      "metadata": {
        "id": "d6OfmeKoW4vm",
        "colab_type": "code",
        "colab": {
          "base_uri": "https://localhost:8080/",
          "height": 714
        },
        "outputId": "86e4ef4b-859a-4756-830b-164f555eb678"
      },
      "source": [
        "checkpoint_path = \"training_1/cp.ckpt\"\n",
        "checkpoint_dir = os.path.dirname(checkpoint_path)\n",
        "\n",
        "# Create a callback that saves the model's weights\n",
        "cp_callback = tf.keras.callbacks.ModelCheckpoint(filepath=checkpoint_path,\n",
        "                                                 save_weights_only=True,\n",
        "                                                 verbose=1)\n",
        "\n",
        "# Train the model with the new callback\n",
        "model.fit(train_images, \n",
        "          train_labels,  \n",
        "          epochs=10,\n",
        "          validation_data=(test_images,test_labels),\n",
        "          callbacks=[cp_callback])"
      ],
      "execution_count": 4,
      "outputs": [
        {
          "output_type": "stream",
          "text": [
            "Epoch 1/10\n",
            "30/32 [===========================>..] - ETA: 0s - loss: 1.2316 - accuracy: 0.6375\n",
            "Epoch 00001: saving model to training_1/cp.ckpt\n",
            "32/32 [==============================] - 0s 11ms/step - loss: 1.2057 - accuracy: 0.6460 - val_loss: 0.7353 - val_accuracy: 0.7940\n",
            "Epoch 2/10\n",
            "28/32 [=========================>....] - ETA: 0s - loss: 0.4382 - accuracy: 0.8761\n",
            "Epoch 00002: saving model to training_1/cp.ckpt\n",
            "32/32 [==============================] - 0s 7ms/step - loss: 0.4393 - accuracy: 0.8770 - val_loss: 0.5636 - val_accuracy: 0.8200\n",
            "Epoch 3/10\n",
            "30/32 [===========================>..] - ETA: 0s - loss: 0.2964 - accuracy: 0.9208\n",
            "Epoch 00003: saving model to training_1/cp.ckpt\n",
            "32/32 [==============================] - 0s 7ms/step - loss: 0.2944 - accuracy: 0.9210 - val_loss: 0.4997 - val_accuracy: 0.8390\n",
            "Epoch 4/10\n",
            "32/32 [==============================] - ETA: 0s - loss: 0.2149 - accuracy: 0.9510\n",
            "Epoch 00004: saving model to training_1/cp.ckpt\n",
            "32/32 [==============================] - 0s 7ms/step - loss: 0.2149 - accuracy: 0.9510 - val_loss: 0.4429 - val_accuracy: 0.8540\n",
            "Epoch 5/10\n",
            "30/32 [===========================>..] - ETA: 0s - loss: 0.1578 - accuracy: 0.9625\n",
            "Epoch 00005: saving model to training_1/cp.ckpt\n",
            "32/32 [==============================] - 0s 7ms/step - loss: 0.1588 - accuracy: 0.9630 - val_loss: 0.4308 - val_accuracy: 0.8510\n",
            "Epoch 6/10\n",
            "30/32 [===========================>..] - ETA: 0s - loss: 0.1173 - accuracy: 0.9719\n",
            "Epoch 00006: saving model to training_1/cp.ckpt\n",
            "32/32 [==============================] - 0s 7ms/step - loss: 0.1211 - accuracy: 0.9720 - val_loss: 0.4053 - val_accuracy: 0.8640\n",
            "Epoch 7/10\n",
            "31/32 [============================>.] - ETA: 0s - loss: 0.0846 - accuracy: 0.9879\n",
            "Epoch 00007: saving model to training_1/cp.ckpt\n",
            "32/32 [==============================] - 0s 7ms/step - loss: 0.0894 - accuracy: 0.9860 - val_loss: 0.3840 - val_accuracy: 0.8690\n",
            "Epoch 8/10\n",
            "29/32 [==========================>...] - ETA: 0s - loss: 0.0709 - accuracy: 0.9871\n",
            "Epoch 00008: saving model to training_1/cp.ckpt\n",
            "32/32 [==============================] - 0s 7ms/step - loss: 0.0707 - accuracy: 0.9870 - val_loss: 0.4198 - val_accuracy: 0.8620\n",
            "Epoch 9/10\n",
            "27/32 [========================>.....] - ETA: 0s - loss: 0.0511 - accuracy: 0.9965\n",
            "Epoch 00009: saving model to training_1/cp.ckpt\n",
            "32/32 [==============================] - 0s 7ms/step - loss: 0.0514 - accuracy: 0.9960 - val_loss: 0.4113 - val_accuracy: 0.8630\n",
            "Epoch 10/10\n",
            "30/32 [===========================>..] - ETA: 0s - loss: 0.0416 - accuracy: 0.9969\n",
            "Epoch 00010: saving model to training_1/cp.ckpt\n",
            "32/32 [==============================] - 0s 7ms/step - loss: 0.0409 - accuracy: 0.9970 - val_loss: 0.4022 - val_accuracy: 0.8580\n"
          ],
          "name": "stdout"
        },
        {
          "output_type": "execute_result",
          "data": {
            "text/plain": [
              "<tensorflow.python.keras.callbacks.History at 0x7f45f34f8630>"
            ]
          },
          "metadata": {
            "tags": []
          },
          "execution_count": 4
        }
      ]
    },
    {
      "cell_type": "code",
      "metadata": {
        "id": "jA1EqzcUXH05",
        "colab_type": "code",
        "colab": {
          "base_uri": "https://localhost:8080/",
          "height": 34
        },
        "outputId": "9ed9ae55-c84f-4424-a4a5-c8bd38a1edfa"
      },
      "source": [
        "#createing a single collection of TensorFlow checkpoint files\n",
        "!ls {checkpoint_dir}"
      ],
      "execution_count": 5,
      "outputs": [
        {
          "output_type": "stream",
          "text": [
            "checkpoint  cp.ckpt.data-00000-of-00001  cp.ckpt.index\n"
          ],
          "name": "stdout"
        }
      ]
    },
    {
      "cell_type": "code",
      "metadata": {
        "id": "P8nXOfFBXQYE",
        "colab_type": "code",
        "colab": {
          "base_uri": "https://localhost:8080/",
          "height": 51
        },
        "outputId": "5fcd0554-3dd7-484b-e594-56f7cf2bf253"
      },
      "source": [
        "#Creating model instance\n",
        "model = build_model()\n",
        "\n",
        "#Evaluating the model\n",
        "loss, acc = model.evaluate(test_images,  test_labels, verbose=2)\n",
        "print(\"Untrained model, accuracy: {:5.2f}%\".format(100*acc))"
      ],
      "execution_count": 7,
      "outputs": [
        {
          "output_type": "stream",
          "text": [
            "32/32 - 0s - loss: 2.3376 - accuracy: 0.1100\n",
            "Untrained model, accuracy: 11.00%\n"
          ],
          "name": "stdout"
        }
      ]
    },
    {
      "cell_type": "code",
      "metadata": {
        "id": "PvOjUaa4XdaP",
        "colab_type": "code",
        "colab": {
          "base_uri": "https://localhost:8080/",
          "height": 51
        },
        "outputId": "8cf46362-01f4-4334-973a-17eba0961e99"
      },
      "source": [
        "# Loading the weights from the checkpoint and re-evaluating the model\n",
        "model.load_weights(checkpoint_path)\n",
        "\n",
        "loss,acc = model.evaluate(test_images,  test_labels, verbose=2)\n",
        "print(\"Restored model, accuracy: {:5.2f}%\".format(100*acc))"
      ],
      "execution_count": 8,
      "outputs": [
        {
          "output_type": "stream",
          "text": [
            "32/32 - 0s - loss: 0.4022 - accuracy: 0.8580\n",
            "Restored model, accuracy: 85.80%\n"
          ],
          "name": "stdout"
        }
      ]
    },
    {
      "cell_type": "markdown",
      "metadata": {
        "id": "EaTIuKuGXx-v",
        "colab_type": "text"
      },
      "source": [
        "## Saving weights of model manually"
      ]
    },
    {
      "cell_type": "code",
      "metadata": {
        "id": "W9M8IyyiXxRG",
        "colab_type": "code",
        "colab": {
          "base_uri": "https://localhost:8080/",
          "height": 51
        },
        "outputId": "e4baa2ed-8638-4197-ab3c-2318a6b80972"
      },
      "source": [
        "model.save_weights('./checkpoints/my_checkpoint')\n",
        "\n",
        "#Creating model instance and restoring weights\n",
        "model = build_model()\n",
        "model.load_weights('./checkpoints/my_checkpoint')\n",
        "\n",
        "#Evaluating the model\n",
        "loss,acc = model.evaluate(test_images,  test_labels, verbose=2)\n",
        "print(\"Restored model, accuracy: {:5.2f}%\".format(100*acc))"
      ],
      "execution_count": 10,
      "outputs": [
        {
          "output_type": "stream",
          "text": [
            "32/32 - 0s - loss: 0.4022 - accuracy: 0.8580\n",
            "Restored model, accuracy: 85.80%\n"
          ],
          "name": "stdout"
        }
      ]
    },
    {
      "cell_type": "markdown",
      "metadata": {
        "id": "KwlEmyAaYH1C",
        "colab_type": "text"
      },
      "source": [
        "## Saving the entire model in SavedModel format"
      ]
    },
    {
      "cell_type": "code",
      "metadata": {
        "id": "LAyHAV-oYDTJ",
        "colab_type": "code",
        "colab": {
          "base_uri": "https://localhost:8080/",
          "height": 275
        },
        "outputId": "def03af4-034b-4884-ccae-1f716e4f9699"
      },
      "source": [
        "#Creating a new model instance and saving the entire model\n",
        "model = build_model()\n",
        "model.fit(train_images, train_labels, epochs=5)\n",
        "\n",
        "!mkdir -p saved_model\n",
        "model.save('saved_model/my_model') "
      ],
      "execution_count": 11,
      "outputs": [
        {
          "output_type": "stream",
          "text": [
            "Epoch 1/5\n",
            "32/32 [==============================] - 0s 4ms/step - loss: 1.1875 - accuracy: 0.6540\n",
            "Epoch 2/5\n",
            "32/32 [==============================] - 0s 3ms/step - loss: 0.4314 - accuracy: 0.8830\n",
            "Epoch 3/5\n",
            "32/32 [==============================] - 0s 4ms/step - loss: 0.2975 - accuracy: 0.9190\n",
            "Epoch 4/5\n",
            "32/32 [==============================] - 0s 4ms/step - loss: 0.2243 - accuracy: 0.9460\n",
            "Epoch 5/5\n",
            "32/32 [==============================] - 0s 4ms/step - loss: 0.1593 - accuracy: 0.9660\n",
            "WARNING:tensorflow:From /usr/local/lib/python3.6/dist-packages/tensorflow/python/ops/resource_variable_ops.py:1817: calling BaseResourceVariable.__init__ (from tensorflow.python.ops.resource_variable_ops) with constraint is deprecated and will be removed in a future version.\n",
            "Instructions for updating:\n",
            "If using Keras pass *_constraint arguments to layers.\n",
            "INFO:tensorflow:Assets written to: saved_model/my_model/assets\n"
          ],
          "name": "stdout"
        }
      ]
    },
    {
      "cell_type": "code",
      "metadata": {
        "id": "ynR6MygKYn5a",
        "colab_type": "code",
        "colab": {
          "base_uri": "https://localhost:8080/",
          "height": 255
        },
        "outputId": "26e30afd-4f3e-4937-ffc4-4c32f5d97e08"
      },
      "source": [
        "#Reloading the save model\n",
        "new_model = tf.keras.models.load_model('saved_model/my_model')\n",
        "\n",
        "#Checking the architecture of the reloaded model\n",
        "new_model.summary()"
      ],
      "execution_count": 12,
      "outputs": [
        {
          "output_type": "stream",
          "text": [
            "Model: \"sequential_3\"\n",
            "_________________________________________________________________\n",
            "Layer (type)                 Output Shape              Param #   \n",
            "=================================================================\n",
            "dense_6 (Dense)              (None, 512)               401920    \n",
            "_________________________________________________________________\n",
            "dropout_3 (Dropout)          (None, 512)               0         \n",
            "_________________________________________________________________\n",
            "dense_7 (Dense)              (None, 10)                5130      \n",
            "=================================================================\n",
            "Total params: 407,050\n",
            "Trainable params: 407,050\n",
            "Non-trainable params: 0\n",
            "_________________________________________________________________\n"
          ],
          "name": "stdout"
        }
      ]
    },
    {
      "cell_type": "markdown",
      "metadata": {
        "id": "ibJYMuIxY0km",
        "colab_type": "text"
      },
      "source": [
        "It can be seen it is the same as the original model."
      ]
    },
    {
      "cell_type": "markdown",
      "metadata": {
        "id": "PN3OfvoSZHtU",
        "colab_type": "text"
      },
      "source": [
        "## Saving the entire model in HDF5 format"
      ]
    },
    {
      "cell_type": "code",
      "metadata": {
        "id": "sMbUDKWNYy_O",
        "colab_type": "code",
        "colab": {
          "base_uri": "https://localhost:8080/",
          "height": 187
        },
        "outputId": "d9e338ac-0ace-4008-e1f3-a6cd10b09f8a"
      },
      "source": [
        "#Creating a new model instance and saving the entire model as HDF5 file\n",
        "model = build_model()\n",
        "model.fit(train_images, train_labels, epochs=5)\n",
        "\n",
        "model.save('my_model.h5') "
      ],
      "execution_count": 14,
      "outputs": [
        {
          "output_type": "stream",
          "text": [
            "Epoch 1/5\n",
            "32/32 [==============================] - 0s 4ms/step - loss: 1.1698 - accuracy: 0.6670\n",
            "Epoch 2/5\n",
            "32/32 [==============================] - 0s 4ms/step - loss: 0.4109 - accuracy: 0.8840\n",
            "Epoch 3/5\n",
            "32/32 [==============================] - 0s 4ms/step - loss: 0.2822 - accuracy: 0.9200\n",
            "Epoch 4/5\n",
            "32/32 [==============================] - 0s 4ms/step - loss: 0.2121 - accuracy: 0.9430\n",
            "Epoch 5/5\n",
            "32/32 [==============================] - 0s 4ms/step - loss: 0.1500 - accuracy: 0.9670\n"
          ],
          "name": "stdout"
        }
      ]
    },
    {
      "cell_type": "code",
      "metadata": {
        "id": "WD6EV2BUZcfl",
        "colab_type": "code",
        "colab": {
          "base_uri": "https://localhost:8080/",
          "height": 255
        },
        "outputId": "cf6bc6f2-df3c-4e09-82e2-a84f3a4eab78"
      },
      "source": [
        "#Reloading the save model\n",
        "new_model = tf.keras.models.load_model('my_model.h5')\n",
        "\n",
        "#Checking the architecture of the reloaded model\n",
        "new_model.summary()"
      ],
      "execution_count": 15,
      "outputs": [
        {
          "output_type": "stream",
          "text": [
            "Model: \"sequential_4\"\n",
            "_________________________________________________________________\n",
            "Layer (type)                 Output Shape              Param #   \n",
            "=================================================================\n",
            "dense_8 (Dense)              (None, 512)               401920    \n",
            "_________________________________________________________________\n",
            "dropout_4 (Dropout)          (None, 512)               0         \n",
            "_________________________________________________________________\n",
            "dense_9 (Dense)              (None, 10)                5130      \n",
            "=================================================================\n",
            "Total params: 407,050\n",
            "Trainable params: 407,050\n",
            "Non-trainable params: 0\n",
            "_________________________________________________________________\n"
          ],
          "name": "stdout"
        }
      ]
    },
    {
      "cell_type": "code",
      "metadata": {
        "id": "wOv9eFnjZl0D",
        "colab_type": "code",
        "colab": {
          "base_uri": "https://localhost:8080/",
          "height": 51
        },
        "outputId": "3867bdfa-ea8c-4858-e167-c54ea9664aca"
      },
      "source": [
        "#Checking its accuracy\n",
        "loss, acc = new_model.evaluate(test_images,  test_labels, verbose=2)\n",
        "print('Restored model, accuracy: {:5.2f}%'.format(100*acc))"
      ],
      "execution_count": 16,
      "outputs": [
        {
          "output_type": "stream",
          "text": [
            "32/32 - 0s - loss: 0.4370 - accuracy: 0.8570\n",
            "Restored model, accuracy: 85.70%\n"
          ],
          "name": "stdout"
        }
      ]
    },
    {
      "cell_type": "markdown",
      "metadata": {
        "id": "fSYDFpi9ZwMG",
        "colab_type": "text"
      },
      "source": [
        "## Conclusion\n",
        "\n",
        "Using Keras save and load you can save the entire models with the same architecture, weight parameters etc"
      ]
    }
  ]
}