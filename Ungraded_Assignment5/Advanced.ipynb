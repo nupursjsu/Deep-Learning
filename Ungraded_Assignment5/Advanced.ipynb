{
  "nbformat": 4,
  "nbformat_minor": 0,
  "metadata": {
    "colab": {
      "name": "Advanced.ipynb",
      "provenance": [],
      "collapsed_sections": [],
      "authorship_tag": "ABX9TyNbesNBEGg2l8xLgNUUbpJn",
      "include_colab_link": true
    },
    "kernelspec": {
      "name": "python3",
      "display_name": "Python 3"
    }
  },
  "cells": [
    {
      "cell_type": "markdown",
      "metadata": {
        "id": "view-in-github",
        "colab_type": "text"
      },
      "source": [
        "<a href=\"https://colab.research.google.com/github/nupursjsu/Deep-Learning/blob/master/Ungraded_Assignment5/Advanced.ipynb\" target=\"_parent\"><img src=\"https://colab.research.google.com/assets/colab-badge.svg\" alt=\"Open In Colab\"/></a>"
      ]
    },
    {
      "cell_type": "markdown",
      "metadata": {
        "id": "Nn-XxZ-Mrydh",
        "colab_type": "text"
      },
      "source": [
        "## Importing necessary libraries"
      ]
    },
    {
      "cell_type": "code",
      "metadata": {
        "id": "CBnkMmoirp2C",
        "colab_type": "code",
        "colab": {}
      },
      "source": [
        "import tensorflow as tf\n",
        "from tensorflow.keras.layers import Dense, Flatten, Conv2D\n",
        "from tensorflow.keras import Model"
      ],
      "execution_count": 0,
      "outputs": []
    },
    {
      "cell_type": "markdown",
      "metadata": {
        "id": "K1QT_Xwqr8-U",
        "colab_type": "text"
      },
      "source": [
        "## Loading and Preprocessing MNIST dataset"
      ]
    },
    {
      "cell_type": "code",
      "metadata": {
        "id": "6VzoQ8A5r6QN",
        "colab_type": "code",
        "colab": {}
      },
      "source": [
        "df_mnist = tf.keras.datasets.mnist\n",
        "\n",
        "(train_images, train_labels), (test_images, test_labels) = df_mnist.load_data()\n",
        "\n",
        "#Scaling the images\n",
        "train_images, test_images = train_images / 255.0, test_images / 255.0"
      ],
      "execution_count": 0,
      "outputs": []
    },
    {
      "cell_type": "code",
      "metadata": {
        "id": "xXQjU4aqse2o",
        "colab_type": "code",
        "colab": {}
      },
      "source": [
        "#Adding a channels dimension\n",
        "train_images = train_images[..., tf.newaxis]\n",
        "test_images = test_images[..., tf.newaxis]"
      ],
      "execution_count": 0,
      "outputs": []
    },
    {
      "cell_type": "code",
      "metadata": {
        "id": "c1XJ2CJnsrow",
        "colab_type": "code",
        "colab": {}
      },
      "source": [
        "#Creating batch and shuffling the dataset\n",
        "train_ds = tf.data.Dataset.from_tensor_slices(\n",
        "    (train_images, train_labels)).shuffle(10000).batch(32)\n",
        "\n",
        "test_ds = tf.data.Dataset.from_tensor_slices((test_images, test_labels)).batch(32)"
      ],
      "execution_count": 0,
      "outputs": []
    },
    {
      "cell_type": "markdown",
      "metadata": {
        "id": "5DsZRDvWwRBA",
        "colab_type": "text"
      },
      "source": [
        "## Building the model"
      ]
    },
    {
      "cell_type": "code",
      "metadata": {
        "id": "7RaHgXOBtG9m",
        "colab_type": "code",
        "colab": {}
      },
      "source": [
        "#Building the Keras model\n",
        "class My_Model(Model):\n",
        "  def __init__(self):\n",
        "    super(My_Model, self).__init__()\n",
        "    self.conv1 = Conv2D(32, 3, activation='relu')\n",
        "    self.flatten = Flatten()\n",
        "    self.dense1 = Dense(128, activation='relu')\n",
        "    self.dense2 = Dense(10)\n",
        "\n",
        "  def call(self, x):\n",
        "    x = self.conv1(x)\n",
        "    x = self.flatten(x)\n",
        "    x = self.dense1(x)\n",
        "    return self.dense2(x)"
      ],
      "execution_count": 0,
      "outputs": []
    },
    {
      "cell_type": "code",
      "metadata": {
        "id": "wn5eboHLtiNI",
        "colab_type": "code",
        "colab": {}
      },
      "source": [
        "#Creating an instance of the model\n",
        "model = My_Model()"
      ],
      "execution_count": 0,
      "outputs": []
    },
    {
      "cell_type": "code",
      "metadata": {
        "id": "NlSVO-zvtnMD",
        "colab_type": "code",
        "colab": {}
      },
      "source": [
        "#Defining optimizer and loss function for training\n",
        "loss_obj = tf.keras.losses.SparseCategoricalCrossentropy(from_logits=True)\n",
        "\n",
        "optimizer = tf.keras.optimizers.Adam()"
      ],
      "execution_count": 0,
      "outputs": []
    },
    {
      "cell_type": "code",
      "metadata": {
        "id": "LozxNeAMtybg",
        "colab_type": "code",
        "colab": {}
      },
      "source": [
        "#Defining metrics to measure the loss and the accuracy of the model\n",
        "trainData_loss = tf.keras.metrics.Mean(name='trainData_loss')\n",
        "trainData_accuracy = tf.keras.metrics.SparseCategoricalAccuracy(name='trainData_accuracy')\n",
        "\n",
        "testData_loss = tf.keras.metrics.Mean(name='testData_loss')\n",
        "testData_accuracy = tf.keras.metrics.SparseCategoricalAccuracy(name='testData_accuracy')"
      ],
      "execution_count": 0,
      "outputs": []
    },
    {
      "cell_type": "code",
      "metadata": {
        "id": "0Df4qvI9uOzo",
        "colab_type": "code",
        "colab": {}
      },
      "source": [
        "#Training the model using tf.GradientTape\n",
        "@tf.function\n",
        "def train_model(imgs, labels):\n",
        "  with tf.GradientTape() as tape:\n",
        "    preds = model(imgs, training=True)\n",
        "    loss = loss_obj(labels, preds)\n",
        "  grads = tape.gradient(loss, model.trainable_variables)\n",
        "  optimizer.apply_gradients(zip(grads, model.trainable_variables))\n",
        "\n",
        "  trainData_loss(loss)\n",
        "  trainData_accuracy(labels, preds)"
      ],
      "execution_count": 0,
      "outputs": []
    },
    {
      "cell_type": "code",
      "metadata": {
        "id": "cvwnmNg6ur06",
        "colab_type": "code",
        "colab": {}
      },
      "source": [
        "#Testing the model\n",
        "@tf.function\n",
        "def test_model(imgs, labels):\n",
        "  preds = model(imgs, training=False)\n",
        "  test_loss = loss_obj(labels, preds)\n",
        "\n",
        "  testData_loss(test_loss)\n",
        "  testData_accuracy(labels, preds)"
      ],
      "execution_count": 0,
      "outputs": []
    },
    {
      "cell_type": "code",
      "metadata": {
        "id": "p77GSaPWu_T0",
        "colab_type": "code",
        "colab": {
          "base_uri": "https://localhost:8080/",
          "height": 224
        },
        "outputId": "4ea1f934-7c0d-414b-d559-5be862d7e9a6"
      },
      "source": [
        "#Running the model with 5 epochs\n",
        "EPOCHS = 5\n",
        "\n",
        "for i in range(EPOCHS):\n",
        "  #Reseting the metrics at the start of the next epoch\n",
        "  trainData_loss.reset_states()\n",
        "  trainData_accuracy.reset_states()\n",
        "  testData_loss.reset_states()\n",
        "  testData_accuracy.reset_states()\n",
        "\n",
        "  for imgs, labels in train_ds:\n",
        "    train_model(imgs, labels)\n",
        "\n",
        "  for test_imgs, test_labels in test_ds:\n",
        "    test_model(test_imgs, test_labels)\n",
        "\n",
        "  template = 'Epoch {}, Loss: {}, Accuracy: {}, Test Loss: {}, Test Accuracy: {}'\n",
        "  print(template.format(i + 1,\n",
        "                        trainData_loss.result(),\n",
        "                        trainData_accuracy.result() * 100,\n",
        "                        testData_loss.result(),\n",
        "                        testData_accuracy.result() * 100))"
      ],
      "execution_count": 48,
      "outputs": [
        {
          "output_type": "stream",
          "text": [
            "WARNING:tensorflow:Layer my__model_3 is casting an input tensor from dtype float64 to the layer's dtype of float32, which is new behavior in TensorFlow 2.  The layer has dtype float32 because it's dtype defaults to floatx.\n",
            "\n",
            "If you intended to run this layer in float32, you can safely ignore this warning. If in doubt, this warning is likely only an issue if you are porting a TensorFlow 1.X model to TensorFlow 2.\n",
            "\n",
            "To change all layers to have dtype float64 by default, call `tf.keras.backend.set_floatx('float64')`. To change just this layer, pass dtype='float64' to the layer constructor. If you are the author of this layer, you can disable autocasting by passing autocast=False to the base Layer constructor.\n",
            "\n",
            "Epoch 1, Loss: 0.14168325066566467, Accuracy: 95.71833801269531, Test Loss: 0.05956956744194031, Test Accuracy: 98.02999877929688\n",
            "Epoch 2, Loss: 0.04415746405720711, Accuracy: 98.62166595458984, Test Loss: 0.051343198865652084, Test Accuracy: 98.32999420166016\n",
            "Epoch 3, Loss: 0.022704968228936195, Accuracy: 99.22999572753906, Test Loss: 0.06628067791461945, Test Accuracy: 98.02999877929688\n",
            "Epoch 4, Loss: 0.014348485507071018, Accuracy: 99.54166412353516, Test Loss: 0.06172284856438637, Test Accuracy: 98.12999725341797\n",
            "Epoch 5, Loss: 0.009201114997267723, Accuracy: 99.68167114257812, Test Loss: 0.07301248610019684, Test Accuracy: 98.1199951171875\n"
          ],
          "name": "stdout"
        }
      ]
    },
    {
      "cell_type": "markdown",
      "metadata": {
        "id": "FFu7T_vHwhDW",
        "colab_type": "text"
      },
      "source": [
        "## Conclusion\n",
        "\n",
        "Our image classifier model is giving an accuracy of approx `98%` on MNIST dataset."
      ]
    }
  ]
}