{
  "nbformat": 4,
  "nbformat_minor": 0,
  "metadata": {
    "colab": {
      "name": "Keras_overfit_and_underfit.ipynb",
      "provenance": [],
      "collapsed_sections": [],
      "authorship_tag": "ABX9TyMFTJO2aAyluhr7LtHwUzwt",
      "include_colab_link": true
    },
    "kernelspec": {
      "name": "python3",
      "display_name": "Python 3"
    },
    "accelerator": "GPU"
  },
  "cells": [
    {
      "cell_type": "markdown",
      "metadata": {
        "id": "view-in-github",
        "colab_type": "text"
      },
      "source": [
        "<a href=\"https://colab.research.google.com/github/nupursjsu/Deep-Learning/blob/master/Ungraded_Assignment5/Keras_overfit_and_underfit.ipynb\" target=\"_parent\"><img src=\"https://colab.research.google.com/assets/colab-badge.svg\" alt=\"Open In Colab\"/></a>"
      ]
    },
    {
      "cell_type": "markdown",
      "metadata": {
        "id": "WgcVhs72KxaD",
        "colab_type": "text"
      },
      "source": [
        "# Dealing with overfitting and underfitting of models"
      ]
    },
    {
      "cell_type": "markdown",
      "metadata": {
        "id": "VpAc4LDuK4xV",
        "colab_type": "text"
      },
      "source": [
        "## Importing necessary libraries"
      ]
    },
    {
      "cell_type": "code",
      "metadata": {
        "id": "VGP3bk2DKUFS",
        "colab_type": "code",
        "colab": {
          "base_uri": "https://localhost:8080/",
          "height": 326
        },
        "outputId": "12c659ca-5f5b-474e-89a8-ab8d7a45f509"
      },
      "source": [
        "import tensorflow as tf\n",
        "from tensorflow.keras import layers\n",
        "from tensorflow.keras import regularizers\n",
        "print(tf.__version__)\n",
        "\n",
        "!pip install git+https://github.com/tensorflow/docs\n",
        "\n",
        "import tensorflow_docs as tfdocs\n",
        "import tensorflow_docs.modeling\n",
        "import tensorflow_docs.plots\n",
        "\n",
        "from  IPython import display\n",
        "from matplotlib import pyplot as plt\n",
        "\n",
        "import numpy as np\n",
        "\n",
        "import pathlib\n",
        "import shutil\n",
        "import tempfile\n"
      ],
      "execution_count": 1,
      "outputs": [
        {
          "output_type": "stream",
          "text": [
            "2.2.0\n",
            "Collecting git+https://github.com/tensorflow/docs\n",
            "  Cloning https://github.com/tensorflow/docs to /tmp/pip-req-build-iqktiwul\n",
            "  Running command git clone -q https://github.com/tensorflow/docs /tmp/pip-req-build-iqktiwul\n",
            "Requirement already satisfied: astor in /usr/local/lib/python3.6/dist-packages (from tensorflow-docs===0.0.0f8569aef3a0a4674d43a7a8ced3367c36ca95401-) (0.8.1)\n",
            "Requirement already satisfied: absl-py in /usr/local/lib/python3.6/dist-packages (from tensorflow-docs===0.0.0f8569aef3a0a4674d43a7a8ced3367c36ca95401-) (0.9.0)\n",
            "Requirement already satisfied: six in /usr/local/lib/python3.6/dist-packages (from tensorflow-docs===0.0.0f8569aef3a0a4674d43a7a8ced3367c36ca95401-) (1.12.0)\n",
            "Collecting pathlib2\n",
            "  Downloading https://files.pythonhosted.org/packages/e9/45/9c82d3666af4ef9f221cbb954e1d77ddbb513faf552aea6df5f37f1a4859/pathlib2-2.3.5-py2.py3-none-any.whl\n",
            "Requirement already satisfied: pyyaml in /usr/local/lib/python3.6/dist-packages (from tensorflow-docs===0.0.0f8569aef3a0a4674d43a7a8ced3367c36ca95401-) (3.13)\n",
            "Building wheels for collected packages: tensorflow-docs\n",
            "  Building wheel for tensorflow-docs (setup.py) ... \u001b[?25l\u001b[?25hdone\n",
            "  Created wheel for tensorflow-docs: filename=tensorflow_docs-0.0.0f8569aef3a0a4674d43a7a8ced3367c36ca95401_-cp36-none-any.whl size=101461 sha256=76588f15deb9165fc1bed023bf16e5f150d6112d182d826c2c33838dd94b7a15\n",
            "  Stored in directory: /tmp/pip-ephem-wheel-cache-onu3m6ig/wheels/eb/1b/35/fce87697be00d2fc63e0b4b395b0d9c7e391a10e98d9a0d97f\n",
            "Successfully built tensorflow-docs\n",
            "Installing collected packages: pathlib2, tensorflow-docs\n",
            "Successfully installed pathlib2-2.3.5 tensorflow-docs-0.0.0f8569aef3a0a4674d43a7a8ced3367c36ca95401-\n"
          ],
          "name": "stdout"
        }
      ]
    },
    {
      "cell_type": "code",
      "metadata": {
        "id": "kGXYJtzzLJU_",
        "colab_type": "code",
        "colab": {}
      },
      "source": [
        "logdir = pathlib.Path(tempfile.mkdtemp())/\"tensorboard_logs\"\n",
        "shutil.rmtree(logdir, ignore_errors=True)"
      ],
      "execution_count": 0,
      "outputs": []
    },
    {
      "cell_type": "markdown",
      "metadata": {
        "id": "69HUJREtLclH",
        "colab_type": "text"
      },
      "source": [
        "## Loading The Higgs Dataset"
      ]
    },
    {
      "cell_type": "code",
      "metadata": {
        "id": "1dqgR3qoLgCb",
        "colab_type": "code",
        "colab": {
          "base_uri": "https://localhost:8080/",
          "height": 51
        },
        "outputId": "56e4f2a9-0a8f-45b8-f57d-af9e8589fcea"
      },
      "source": [
        "gz = tf.keras.utils.get_file('HIGGS.csv.gz', 'http://mlphysics.ics.uci.edu/data/higgs/HIGGS.csv.gz')"
      ],
      "execution_count": 3,
      "outputs": [
        {
          "output_type": "stream",
          "text": [
            "Downloading data from http://mlphysics.ics.uci.edu/data/higgs/HIGGS.csv.gz\n",
            "2816409600/2816407858 [==============================] - 122s 0us/step\n"
          ],
          "name": "stdout"
        }
      ]
    },
    {
      "cell_type": "code",
      "metadata": {
        "id": "NC_obpt6LmXJ",
        "colab_type": "code",
        "colab": {}
      },
      "source": [
        "FEATURES = 28"
      ],
      "execution_count": 0,
      "outputs": []
    },
    {
      "cell_type": "code",
      "metadata": {
        "id": "Y8WWJqxVLsxL",
        "colab_type": "code",
        "colab": {}
      },
      "source": [
        "#Reading csv records from gzip file\n",
        "ds = tf.data.experimental.CsvDataset(gz,[float(),]*(FEATURES+1), compression_type=\"GZIP\")"
      ],
      "execution_count": 0,
      "outputs": []
    },
    {
      "cell_type": "code",
      "metadata": {
        "id": "JIICLaTAL5QA",
        "colab_type": "code",
        "colab": {}
      },
      "source": [
        "#Repacking that list of scalars into a (feature_vector, label) pair.\n",
        "def pack_row(*row):\n",
        "  label = row[0]\n",
        "  features = tf.stack(row[1:],1)\n",
        "  return features, label"
      ],
      "execution_count": 0,
      "outputs": []
    },
    {
      "cell_type": "code",
      "metadata": {
        "id": "19-PngL3L-hB",
        "colab_type": "code",
        "colab": {}
      },
      "source": [
        "#Making a batches of 10000 examples to repack those\n",
        "packed_ds = ds.batch(10000).map(pack_row).unbatch()"
      ],
      "execution_count": 0,
      "outputs": []
    },
    {
      "cell_type": "code",
      "metadata": {
        "id": "c-0Nr-fzMUOz",
        "colab_type": "code",
        "colab": {
          "base_uri": "https://localhost:8080/",
          "height": 367
        },
        "outputId": "af5ad084-052f-40a8-b319-3d16efe21f16"
      },
      "source": [
        "for features,label in packed_ds.batch(1000).take(1):\n",
        "  print(features[0])\n",
        "  plt.hist(features.numpy().flatten(), bins = 101)"
      ],
      "execution_count": 8,
      "outputs": [
        {
          "output_type": "stream",
          "text": [
            "tf.Tensor(\n",
            "[ 0.8692932  -0.6350818   0.22569026  0.32747006 -0.6899932   0.75420225\n",
            " -0.24857314 -1.0920639   0.          1.3749921  -0.6536742   0.9303491\n",
            "  1.1074361   1.1389043  -1.5781983  -1.0469854   0.          0.65792954\n",
            " -0.01045457 -0.04576717  3.1019614   1.35376     0.9795631   0.97807616\n",
            "  0.92000484  0.72165745  0.98875093  0.87667835], shape=(28,), dtype=float32)\n"
          ],
          "name": "stdout"
        },
        {
          "output_type": "display_data",
          "data": {
            "image/png": "[encoded data removed]",
            "text/plain": [
              "<Figure size 432x288 with 1 Axes>"
            ]
          },
          "metadata": {
            "tags": [],
            "needs_background": "light"
          }
        }
      ]
    },
    {
      "cell_type": "code",
      "metadata": {
        "id": "GohsVmsXMVn7",
        "colab_type": "code",
        "colab": {}
      },
      "source": [
        "#Splitting dataset into train and validation with 10,000 and 1000 samples respectively\n",
        "N_VALIDATION = int(1e3)\n",
        "N_TRAIN = int(1e4)\n",
        "BUFFER_SIZE = int(1e4)\n",
        "BATCH_SIZE = 500\n",
        "STEPS_PER_EPOCH = N_TRAIN//BATCH_SIZE"
      ],
      "execution_count": 0,
      "outputs": []
    },
    {
      "cell_type": "code",
      "metadata": {
        "id": "AQvAR22yNXMZ",
        "colab_type": "code",
        "colab": {
          "base_uri": "https://localhost:8080/",
          "height": 34
        },
        "outputId": "0d1fe4a4-cebb-4e0b-afdb-cb11bc0fbddf"
      },
      "source": [
        "validate_ds = packed_ds.take(N_VALIDATION).cache()\n",
        "train_ds = packed_ds.skip(N_VALIDATION).take(N_TRAIN).cache()\n",
        "\n",
        "train_ds"
      ],
      "execution_count": 10,
      "outputs": [
        {
          "output_type": "execute_result",
          "data": {
            "text/plain": [
              "<CacheDataset shapes: ((28,), ()), types: (tf.float32, tf.float32)>"
            ]
          },
          "metadata": {
            "tags": []
          },
          "execution_count": 10
        }
      ]
    },
    {
      "cell_type": "markdown",
      "metadata": {
        "id": "j7qRw2lhN5Db",
        "colab_type": "text"
      },
      "source": [
        "We have used the Dataset.cache method to ensure that the loader doesn't need to re-read the data from the file on each epoch"
      ]
    },
    {
      "cell_type": "code",
      "metadata": {
        "id": "mC2dVusjNzud",
        "colab_type": "code",
        "colab": {}
      },
      "source": [
        "#Creating batches of appropriate size for training\n",
        "validate_ds = validate_ds.batch(BATCH_SIZE)\n",
        "train_ds = train_ds.shuffle(BUFFER_SIZE).repeat().batch(BATCH_SIZE)"
      ],
      "execution_count": 0,
      "outputs": []
    },
    {
      "cell_type": "markdown",
      "metadata": {
        "id": "oqcGzHpAOM5j",
        "colab_type": "text"
      },
      "source": [
        "## Showing Overfitting"
      ]
    },
    {
      "cell_type": "markdown",
      "metadata": {
        "id": "ikldCJdZOTEy",
        "colab_type": "text"
      },
      "source": [
        "### Procedure to train"
      ]
    },
    {
      "cell_type": "code",
      "metadata": {
        "id": "yInIaO0nOZLT",
        "colab_type": "code",
        "colab": {}
      },
      "source": [
        "lr_schedule = tf.keras.optimizers.schedules.InverseTimeDecay(\n",
        "  0.001,\n",
        "  decay_steps=STEPS_PER_EPOCH*1000,\n",
        "  decay_rate=1,\n",
        "  staircase=False)\n",
        "\n",
        "def get_optimizer():\n",
        "  return tf.keras.optimizers.Adam(lr_schedule)"
      ],
      "execution_count": 0,
      "outputs": []
    },
    {
      "cell_type": "markdown",
      "metadata": {
        "id": "4VnTtOK0O7RC",
        "colab_type": "text"
      },
      "source": [
        "The above code is decreasing the learning rate to 1/2 of the base rate after every 1000 epochs and 1/3 at 2000 epochs and so on."
      ]
    },
    {
      "cell_type": "code",
      "metadata": {
        "id": "wsaaePwyOqyK",
        "colab_type": "code",
        "colab": {
          "base_uri": "https://localhost:8080/",
          "height": 388
        },
        "outputId": "77c8184f-8f71-40be-d251-4aece0909141"
      },
      "source": [
        "step = np.linspace(0,100000)\n",
        "lr = lr_schedule(step)\n",
        "plt.figure(figsize = (8,6))\n",
        "plt.plot(step/STEPS_PER_EPOCH, lr)\n",
        "plt.ylim([0,max(plt.ylim())])\n",
        "plt.xlabel('Epoch')\n",
        "_ = plt.ylabel('Learning Rate')"
      ],
      "execution_count": 13,
      "outputs": [
        {
          "output_type": "display_data",
          "data": {
            "image/png": "[encoded data removed]",
            "text/plain": [
              "<Figure size 576x432 with 1 Axes>"
            ]
          },
          "metadata": {
            "tags": [],
            "needs_background": "light"
          }
        }
      ]
    },
    {
      "cell_type": "code",
      "metadata": {
        "id": "qTtlYFDjPSgM",
        "colab_type": "code",
        "colab": {}
      },
      "source": [
        "#Function to generate tensorboard logs for the training\n",
        "def get_callbacks(name):\n",
        "  return [\n",
        "    tfdocs.modeling.EpochDots(),\n",
        "    tf.keras.callbacks.EarlyStopping(monitor='val_binary_crossentropy', patience=200),\n",
        "    tf.keras.callbacks.TensorBoard(logdir/name),\n",
        "  ]"
      ],
      "execution_count": 0,
      "outputs": []
    },
    {
      "cell_type": "code",
      "metadata": {
        "id": "FQhdXY_nPo_6",
        "colab_type": "code",
        "colab": {}
      },
      "source": [
        "#Compiling and fitting the model\n",
        "def compile_and_fit(model, name, optimizer=None, max_epochs=10000):\n",
        "  if optimizer is None:\n",
        "    optimizer = get_optimizer()\n",
        "  model.compile(optimizer=optimizer,\n",
        "                loss=tf.keras.losses.BinaryCrossentropy(from_logits=True),\n",
        "                metrics=[\n",
        "                  tf.keras.losses.BinaryCrossentropy(\n",
        "                      from_logits=True, name='binary_crossentropy'),\n",
        "                  'accuracy'])\n",
        "\n",
        "  model.summary()\n",
        "\n",
        "  history = model.fit(\n",
        "    train_ds,\n",
        "    steps_per_epoch = STEPS_PER_EPOCH,\n",
        "    epochs=max_epochs,\n",
        "    validation_data=validate_ds,\n",
        "    callbacks=get_callbacks(name),\n",
        "    verbose=0)\n",
        "  return history"
      ],
      "execution_count": 0,
      "outputs": []
    },
    {
      "cell_type": "markdown",
      "metadata": {
        "id": "-CHtay8PPvnN",
        "colab_type": "text"
      },
      "source": [
        "### Building a Tiny model"
      ]
    },
    {
      "cell_type": "code",
      "metadata": {
        "id": "3Je1gsF_PsAs",
        "colab_type": "code",
        "colab": {}
      },
      "source": [
        "tiny_model = tf.keras.Sequential([\n",
        "    layers.Dense(16, activation='elu', input_shape=(FEATURES,)),\n",
        "    layers.Dense(1)\n",
        "])"
      ],
      "execution_count": 0,
      "outputs": []
    },
    {
      "cell_type": "code",
      "metadata": {
        "id": "H-v6FtyYPzgT",
        "colab_type": "code",
        "colab": {
          "base_uri": "https://localhost:8080/",
          "height": 578
        },
        "outputId": "6ddd3a8f-f7f2-4868-c2cf-af8b4443c37c"
      },
      "source": [
        "size_histories = {}\n",
        "size_histories['Tiny'] = compile_and_fit(tiny_model, 'sizes/Tiny')"
      ],
      "execution_count": 17,
      "outputs": [
        {
          "output_type": "stream",
          "text": [
            "Model: \"sequential\"\n",
            "_________________________________________________________________\n",
            "Layer (type)                 Output Shape              Param #   \n",
            "=================================================================\n",
            "dense (Dense)                (None, 16)                464       \n",
            "_________________________________________________________________\n",
            "dense_1 (Dense)              (None, 1)                 17        \n",
            "=================================================================\n",
            "Total params: 481\n",
            "Trainable params: 481\n",
            "Non-trainable params: 0\n",
            "_________________________________________________________________\n",
            "\n",
            "Epoch: 0, accuracy:0.4934,  binary_crossentropy:0.7792,  loss:0.7792,  val_accuracy:0.5170,  val_binary_crossentropy:0.7220,  val_loss:0.7220,  \n",
            "....................................................................................................\n",
            "Epoch: 100, accuracy:0.6001,  binary_crossentropy:0.6252,  loss:0.6252,  val_accuracy:0.6000,  val_binary_crossentropy:0.6247,  val_loss:0.6247,  \n",
            "....................................................................................................\n",
            "Epoch: 200, accuracy:0.6224,  binary_crossentropy:0.6124,  loss:0.6124,  val_accuracy:0.6090,  val_binary_crossentropy:0.6168,  val_loss:0.6168,  \n",
            "....................................................................................................\n",
            "Epoch: 300, accuracy:0.6389,  binary_crossentropy:0.6033,  loss:0.6033,  val_accuracy:0.6210,  val_binary_crossentropy:0.6060,  val_loss:0.6060,  \n",
            "....................................................................................................\n",
            "Epoch: 400, accuracy:0.6495,  binary_crossentropy:0.5954,  loss:0.5954,  val_accuracy:0.6490,  val_binary_crossentropy:0.5965,  val_loss:0.5965,  \n",
            "....................................................................................................\n",
            "Epoch: 500, accuracy:0.6616,  binary_crossentropy:0.5890,  loss:0.5890,  val_accuracy:0.6210,  val_binary_crossentropy:0.5932,  val_loss:0.5932,  \n",
            "....................................................................................................\n",
            "Epoch: 600, accuracy:0.6666,  binary_crossentropy:0.5855,  loss:0.5855,  val_accuracy:0.6410,  val_binary_crossentropy:0.5897,  val_loss:0.5897,  \n",
            "....................................................................................................\n",
            "Epoch: 700, accuracy:0.6718,  binary_crossentropy:0.5818,  loss:0.5818,  val_accuracy:0.6610,  val_binary_crossentropy:0.5886,  val_loss:0.5886,  \n",
            "....................................................................................................\n",
            "Epoch: 800, accuracy:0.6763,  binary_crossentropy:0.5795,  loss:0.5795,  val_accuracy:0.6330,  val_binary_crossentropy:0.5930,  val_loss:0.5930,  \n",
            "....................................................................................................\n",
            "Epoch: 900, accuracy:0.6707,  binary_crossentropy:0.5776,  loss:0.5776,  val_accuracy:0.6670,  val_binary_crossentropy:0.5884,  val_loss:0.5884,  \n",
            "..............................................................................................."
          ],
          "name": "stdout"
        }
      ]
    },
    {
      "cell_type": "code",
      "metadata": {
        "id": "iQ3MlBROP4Md",
        "colab_type": "code",
        "colab": {
          "base_uri": "https://localhost:8080/",
          "height": 300
        },
        "outputId": "bd130120-fd34-4510-94d1-6e28902252de"
      },
      "source": [
        "#Checking the model performance\n",
        "plotter = tfdocs.plots.HistoryPlotter(metric = 'binary_crossentropy', smoothing_std=10)\n",
        "plotter.plot(size_histories)\n",
        "plt.ylim([0.5, 0.7])"
      ],
      "execution_count": 18,
      "outputs": [
        {
          "output_type": "execute_result",
          "data": {
            "text/plain": [
              "(0.5, 0.7)"
            ]
          },
          "metadata": {
            "tags": []
          },
          "execution_count": 18
        },
        {
          "output_type": "display_data",
          "data": {
            "image/png": "[encoded data removed]",
            "text/plain": [
              "<Figure size 432x288 with 1 Axes>"
            ]
          },
          "metadata": {
            "tags": [],
            "needs_background": "light"
          }
        }
      ]
    },
    {
      "cell_type": "markdown",
      "metadata": {
        "id": "mp_6RCJXQLm4",
        "colab_type": "text"
      },
      "source": [
        "### Building a small model"
      ]
    },
    {
      "cell_type": "code",
      "metadata": {
        "id": "BSFHRqG-QO1l",
        "colab_type": "code",
        "colab": {}
      },
      "source": [
        "small_model = tf.keras.Sequential([\n",
        "    # `input_shape` is only required here so that `.summary` works.\n",
        "    layers.Dense(16, activation='elu', input_shape=(FEATURES,)),\n",
        "    layers.Dense(16, activation='elu'),\n",
        "    layers.Dense(1)\n",
        "])"
      ],
      "execution_count": 0,
      "outputs": []
    },
    {
      "cell_type": "code",
      "metadata": {
        "id": "uFW178qgQXwb",
        "colab_type": "code",
        "colab": {
          "base_uri": "https://localhost:8080/",
          "height": 918
        },
        "outputId": "60939c0d-e0cd-4cfe-e38e-879b01918450"
      },
      "source": [
        "size_histories['Small'] = compile_and_fit(small_model, 'sizes/Small')"
      ],
      "execution_count": 20,
      "outputs": [
        {
          "output_type": "stream",
          "text": [
            "Model: \"sequential_1\"\n",
            "_________________________________________________________________\n",
            "Layer (type)                 Output Shape              Param #   \n",
            "=================================================================\n",
            "dense_2 (Dense)              (None, 16)                464       \n",
            "_________________________________________________________________\n",
            "dense_3 (Dense)              (None, 16)                272       \n",
            "_________________________________________________________________\n",
            "dense_4 (Dense)              (None, 1)                 17        \n",
            "=================================================================\n",
            "Total params: 753\n",
            "Trainable params: 753\n",
            "Non-trainable params: 0\n",
            "_________________________________________________________________\n",
            "\n",
            "Epoch: 0, accuracy:0.4940,  binary_crossentropy:0.9660,  loss:0.9660,  val_accuracy:0.5060,  val_binary_crossentropy:0.8002,  val_loss:0.8002,  \n",
            "....................................................................................................\n",
            "Epoch: 100, accuracy:0.6123,  binary_crossentropy:0.6216,  loss:0.6216,  val_accuracy:0.5800,  val_binary_crossentropy:0.6176,  val_loss:0.6176,  \n",
            "....................................................................................................\n",
            "Epoch: 200, accuracy:0.6515,  binary_crossentropy:0.5963,  loss:0.5963,  val_accuracy:0.6480,  val_binary_crossentropy:0.5899,  val_loss:0.5899,  \n",
            "....................................................................................................\n",
            "Epoch: 300, accuracy:0.6647,  binary_crossentropy:0.5840,  loss:0.5840,  val_accuracy:0.6530,  val_binary_crossentropy:0.5840,  val_loss:0.5840,  \n",
            "....................................................................................................\n",
            "Epoch: 400, accuracy:0.6775,  binary_crossentropy:0.5766,  loss:0.5766,  val_accuracy:0.6320,  val_binary_crossentropy:0.5881,  val_loss:0.5881,  \n",
            "....................................................................................................\n",
            "Epoch: 500, accuracy:0.6850,  binary_crossentropy:0.5705,  loss:0.5705,  val_accuracy:0.6690,  val_binary_crossentropy:0.5809,  val_loss:0.5809,  \n",
            "....................................................................................................\n",
            "Epoch: 600, accuracy:0.6877,  binary_crossentropy:0.5647,  loss:0.5647,  val_accuracy:0.6730,  val_binary_crossentropy:0.5809,  val_loss:0.5809,  \n",
            "....................................................................................................\n",
            "Epoch: 700, accuracy:0.6914,  binary_crossentropy:0.5606,  loss:0.5606,  val_accuracy:0.6810,  val_binary_crossentropy:0.5816,  val_loss:0.5816,  \n",
            "....................................................................................................\n",
            "Epoch: 800, accuracy:0.6960,  binary_crossentropy:0.5566,  loss:0.5566,  val_accuracy:0.6780,  val_binary_crossentropy:0.5790,  val_loss:0.5790,  \n",
            "....................................................................................................\n",
            "Epoch: 900, accuracy:0.6980,  binary_crossentropy:0.5537,  loss:0.5537,  val_accuracy:0.6770,  val_binary_crossentropy:0.5794,  val_loss:0.5794,  \n",
            "....................................................................................................\n",
            "Epoch: 1000, accuracy:0.7008,  binary_crossentropy:0.5506,  loss:0.5506,  val_accuracy:0.6770,  val_binary_crossentropy:0.5789,  val_loss:0.5789,  \n",
            "....................................................................................................\n",
            "Epoch: 1100, accuracy:0.7017,  binary_crossentropy:0.5482,  loss:0.5482,  val_accuracy:0.6860,  val_binary_crossentropy:0.5751,  val_loss:0.5751,  \n",
            "....................................................................................................\n",
            "Epoch: 1200, accuracy:0.7016,  binary_crossentropy:0.5464,  loss:0.5464,  val_accuracy:0.6790,  val_binary_crossentropy:0.5770,  val_loss:0.5770,  \n",
            "....................................................................................................\n",
            "Epoch: 1300, accuracy:0.7024,  binary_crossentropy:0.5457,  loss:0.5457,  val_accuracy:0.6820,  val_binary_crossentropy:0.5741,  val_loss:0.5741,  \n",
            "....................................................................................................\n",
            "Epoch: 1400, accuracy:0.7067,  binary_crossentropy:0.5429,  loss:0.5429,  val_accuracy:0.6890,  val_binary_crossentropy:0.5721,  val_loss:0.5721,  \n",
            "....................................................................................................\n",
            "Epoch: 1500, accuracy:0.7068,  binary_crossentropy:0.5407,  loss:0.5407,  val_accuracy:0.6880,  val_binary_crossentropy:0.5718,  val_loss:0.5718,  \n",
            "....................................................................................................\n",
            "Epoch: 1600, accuracy:0.7103,  binary_crossentropy:0.5394,  loss:0.5394,  val_accuracy:0.6820,  val_binary_crossentropy:0.5722,  val_loss:0.5722,  \n",
            "....................................................................................................\n",
            "Epoch: 1700, accuracy:0.7095,  binary_crossentropy:0.5377,  loss:0.5377,  val_accuracy:0.6810,  val_binary_crossentropy:0.5731,  val_loss:0.5731,  \n",
            "....................................................................................................\n",
            "Epoch: 1800, accuracy:0.7098,  binary_crossentropy:0.5365,  loss:0.5365,  val_accuracy:0.6960,  val_binary_crossentropy:0.5718,  val_loss:0.5718,  \n",
            "............."
          ],
          "name": "stdout"
        }
      ]
    },
    {
      "cell_type": "markdown",
      "metadata": {
        "id": "GNx2PimMQbyO",
        "colab_type": "text"
      },
      "source": [
        "### Building a Medium model"
      ]
    },
    {
      "cell_type": "code",
      "metadata": {
        "id": "im2fhXfKQe0i",
        "colab_type": "code",
        "colab": {}
      },
      "source": [
        "medium_model = tf.keras.Sequential([\n",
        "    layers.Dense(64, activation='elu', input_shape=(FEATURES,)),\n",
        "    layers.Dense(64, activation='elu'),\n",
        "    layers.Dense(64, activation='elu'),\n",
        "    layers.Dense(1)\n",
        "])"
      ],
      "execution_count": 0,
      "outputs": []
    },
    {
      "cell_type": "code",
      "metadata": {
        "id": "rHuuly6DQpuH",
        "colab_type": "code",
        "colab": {
          "base_uri": "https://localhost:8080/",
          "height": 408
        },
        "outputId": "99ebd880-6b2b-43a6-8dc6-fc06add36fae"
      },
      "source": [
        "size_histories['Medium']  = compile_and_fit(medium_model, \"sizes/Medium\")"
      ],
      "execution_count": 22,
      "outputs": [
        {
          "output_type": "stream",
          "text": [
            "Model: \"sequential_2\"\n",
            "_________________________________________________________________\n",
            "Layer (type)                 Output Shape              Param #   \n",
            "=================================================================\n",
            "dense_5 (Dense)              (None, 64)                1856      \n",
            "_________________________________________________________________\n",
            "dense_6 (Dense)              (None, 64)                4160      \n",
            "_________________________________________________________________\n",
            "dense_7 (Dense)              (None, 64)                4160      \n",
            "_________________________________________________________________\n",
            "dense_8 (Dense)              (None, 1)                 65        \n",
            "=================================================================\n",
            "Total params: 10,241\n",
            "Trainable params: 10,241\n",
            "Non-trainable params: 0\n",
            "_________________________________________________________________\n",
            "\n",
            "Epoch: 0, accuracy:0.4844,  binary_crossentropy:0.6995,  loss:0.6995,  val_accuracy:0.4660,  val_binary_crossentropy:0.6874,  val_loss:0.6874,  \n",
            "....................................................................................................\n",
            "Epoch: 100, accuracy:0.7159,  binary_crossentropy:0.5330,  loss:0.5330,  val_accuracy:0.6610,  val_binary_crossentropy:0.6134,  val_loss:0.6134,  \n",
            "....................................................................................................\n",
            "Epoch: 200, accuracy:0.7838,  binary_crossentropy:0.4331,  loss:0.4331,  val_accuracy:0.6550,  val_binary_crossentropy:0.6832,  val_loss:0.6832,  \n",
            "............................................................."
          ],
          "name": "stdout"
        }
      ]
    },
    {
      "cell_type": "markdown",
      "metadata": {
        "id": "gpWcd9bfSEbj",
        "colab_type": "text"
      },
      "source": [
        "### Building a Large model"
      ]
    },
    {
      "cell_type": "code",
      "metadata": {
        "id": "uSy1SqMdSHc_",
        "colab_type": "code",
        "colab": {}
      },
      "source": [
        "large_model = tf.keras.Sequential([\n",
        "    layers.Dense(512, activation='elu', input_shape=(FEATURES,)),\n",
        "    layers.Dense(512, activation='elu'),\n",
        "    layers.Dense(512, activation='elu'),\n",
        "    layers.Dense(512, activation='elu'),\n",
        "    layers.Dense(1)\n",
        "])"
      ],
      "execution_count": 0,
      "outputs": []
    },
    {
      "cell_type": "code",
      "metadata": {
        "id": "82fFFPYwSK0c",
        "colab_type": "code",
        "colab": {
          "base_uri": "https://localhost:8080/",
          "height": 442
        },
        "outputId": "e8be4429-4651-49f7-ce90-f94891ea85fd"
      },
      "source": [
        "size_histories['large'] = compile_and_fit(large_model, \"sizes/large\")"
      ],
      "execution_count": 24,
      "outputs": [
        {
          "output_type": "stream",
          "text": [
            "Model: \"sequential_3\"\n",
            "_________________________________________________________________\n",
            "Layer (type)                 Output Shape              Param #   \n",
            "=================================================================\n",
            "dense_9 (Dense)              (None, 512)               14848     \n",
            "_________________________________________________________________\n",
            "dense_10 (Dense)             (None, 512)               262656    \n",
            "_________________________________________________________________\n",
            "dense_11 (Dense)             (None, 512)               262656    \n",
            "_________________________________________________________________\n",
            "dense_12 (Dense)             (None, 512)               262656    \n",
            "_________________________________________________________________\n",
            "dense_13 (Dense)             (None, 1)                 513       \n",
            "=================================================================\n",
            "Total params: 803,329\n",
            "Trainable params: 803,329\n",
            "Non-trainable params: 0\n",
            "_________________________________________________________________\n",
            "\n",
            "Epoch: 0, accuracy:0.5034,  binary_crossentropy:0.8192,  loss:0.8192,  val_accuracy:0.4680,  val_binary_crossentropy:0.6865,  val_loss:0.6865,  \n",
            "....................................................................................................\n",
            "Epoch: 100, accuracy:1.0000,  binary_crossentropy:0.0023,  loss:0.0023,  val_accuracy:0.6450,  val_binary_crossentropy:1.8043,  val_loss:1.8043,  \n",
            "....................................................................................................\n",
            "Epoch: 200, accuracy:1.0000,  binary_crossentropy:0.0001,  loss:0.0001,  val_accuracy:0.6410,  val_binary_crossentropy:2.4457,  val_loss:2.4457,  \n",
            ".................."
          ],
          "name": "stdout"
        }
      ]
    },
    {
      "cell_type": "markdown",
      "metadata": {
        "id": "SaR5P2naSPgR",
        "colab_type": "text"
      },
      "source": [
        "###Plotting graphs for the training and validation losses"
      ]
    },
    {
      "cell_type": "code",
      "metadata": {
        "id": "oMvR9K76SVjn",
        "colab_type": "code",
        "colab": {
          "base_uri": "https://localhost:8080/",
          "height": 304
        },
        "outputId": "e41d1009-b87d-4482-b76f-30e67631e02d"
      },
      "source": [
        "plotter.plot(size_histories)\n",
        "a = plt.xscale('log')\n",
        "plt.xlim([5, max(plt.xlim())])\n",
        "plt.ylim([0.5, 0.7])\n",
        "plt.xlabel(\"Epochs [Log Scale]\")"
      ],
      "execution_count": 25,
      "outputs": [
        {
          "output_type": "execute_result",
          "data": {
            "text/plain": [
              "Text(0.5, 0, 'Epochs [Log Scale]')"
            ]
          },
          "metadata": {
            "tags": []
          },
          "execution_count": 25
        },
        {
          "output_type": "display_data",
          "data": {
            "image/png": "[encoded data removed]",
            "text/plain": [
              "<Figure size 432x288 with 1 Axes>"
            ]
          },
          "metadata": {
            "tags": [],
            "needs_background": "light"
          }
        }
      ]
    },
    {
      "cell_type": "markdown",
      "metadata": {
        "id": "zXT5b6n2Saa7",
        "colab_type": "text"
      },
      "source": [
        "### Tensorboard visualization"
      ]
    },
    {
      "cell_type": "code",
      "metadata": {
        "id": "Pn9osj6CSeuB",
        "colab_type": "code",
        "colab": {
          "base_uri": "https://localhost:8080/",
          "height": 34
        },
        "outputId": "38204651-50f7-41c1-d4ce-16d88e0607be"
      },
      "source": [
        "%tensorboard --logdir {logdir}/sizes"
      ],
      "execution_count": 26,
      "outputs": [
        {
          "output_type": "stream",
          "text": [
            "UsageError: Line magic function `%tensorboard` not found.\n"
          ],
          "name": "stderr"
        }
      ]
    },
    {
      "cell_type": "code",
      "metadata": {
        "id": "etqN_jwFSjIQ",
        "colab_type": "code",
        "colab": {}
      },
      "source": [
        "display.IFrame(\n",
        "    src=\"https://tensorboard.dev/experiment/vW7jmmF9TmKmy3rbheMQpw/#scalars&_smoothingWeight=0.97\",\n",
        "    width=\"100%\", height=\"800px\")"
      ],
      "execution_count": 0,
      "outputs": []
    },
    {
      "cell_type": "code",
      "metadata": {
        "id": "1w3hHC00Smjh",
        "colab_type": "code",
        "colab": {
          "base_uri": "https://localhost:8080/",
          "height": 649
        },
        "outputId": "02d47cbb-b09b-411f-eb98-43c09296b38a"
      },
      "source": [
        "!tensorboard dev upload --logdir  {logdir}/sizes"
      ],
      "execution_count": 27,
      "outputs": [
        {
          "output_type": "stream",
          "text": [
            "2020-05-17 06:20:28.338223: I tensorflow/stream_executor/platform/default/dso_loader.cc:44] Successfully opened dynamic library libcudart.so.10.1\n",
            "\n",
            "***** TensorBoard Uploader *****\n",
            "\n",
            "This will upload your TensorBoard logs to https://tensorboard.dev/ from\n",
            "the following directory:\n",
            "\n",
            "/tmp/tmpu50rpsd5/tensorboard_logs/sizes\n",
            "\n",
            "This TensorBoard will be visible to everyone. Do not upload sensitive\n",
            "data.\n",
            "\n",
            "Your use of this service is subject to Google's Terms of Service\n",
            "<https://policies.google.com/terms> and Privacy Policy\n",
            "<https://policies.google.com/privacy>, and TensorBoard.dev's Terms of Service\n",
            "<https://tensorboard.dev/policy/terms/>.\n",
            "\n",
            "This notice will not be shown again while you are logged into the uploader.\n",
            "To log out, run `tensorboard dev auth revoke`.\n",
            "\n",
            "Continue? (yes/NO) yes\n",
            "\n",
            "Please visit this URL to authorize this application: https://accounts.google.com/o/oauth2/auth?response_type=code&client_id=373649185512-8v619h5kft38l4456nm2dj4ubeqsrvh6.apps.googleusercontent.com&redirect_uri=urn%3Aietf%3Awg%3Aoauth%3A2.0%3Aoob&scope=openid+https%3A%2F%2Fwww.googleapis.com%2Fauth%2Fuserinfo.email&state=SoUaEOGwaKNi7qiIy8qh4coU3fHyhv&prompt=consent&access_type=offline\n",
            "Enter the authorization code: 4/zwF9RrD15tjcneAHpbTfR2E1Gsk85mySxHdrz7aKuL_JLvAcF7ik9sI\n",
            "\n",
            "Data for the \"graphs\" plugin is now uploaded to TensorBoard.dev! Note that uploaded data is public. If you do not want to upload data for this plugin, use the \"--plugins\" command line argument.\n",
            "Upload started and will continue reading any new data as it's added\n",
            "to the logdir. To stop uploading, press Ctrl-C.\n",
            "View your TensorBoard live at: https://tensorboard.dev/experiment/i0FwIrmuR4GAGAyeTWgeFA/\n",
            "\n",
            "Upload stopped. View your TensorBoard at https://tensorboard.dev/experiment/i0FwIrmuR4GAGAyeTWgeFA/\n",
            "Exception ignored in: <bound method Channel.__del__ of <grpc._channel.Channel object at 0x7f06cc40bb00>>\n",
            "Traceback (most recent call last):\n",
            "  File \"/usr/local/lib/python3.6/dist-packages/grpc/_channel.py\", line 1439, in __del__\n",
            "    def __del__(self):\n",
            "KeyboardInterrupt\n"
          ],
          "name": "stdout"
        }
      ]
    },
    {
      "cell_type": "markdown",
      "metadata": {
        "id": "JiRbLT-DS1VJ",
        "colab_type": "text"
      },
      "source": [
        "## Discussing some strategies to prevent overfitting"
      ]
    },
    {
      "cell_type": "code",
      "metadata": {
        "id": "GsQ3iHqrTBIU",
        "colab_type": "code",
        "colab": {
          "base_uri": "https://localhost:8080/",
          "height": 34
        },
        "outputId": "c3335c63-2cb3-4ac6-d0dc-d3cb6f2fa240"
      },
      "source": [
        "#Getting training logs from tiny model to use it as baseline for our comparision\n",
        "shutil.rmtree(logdir/'regularizers/Tiny', ignore_errors=True)\n",
        "shutil.copytree(logdir/'sizes/Tiny', logdir/'regularizers/Tiny')"
      ],
      "execution_count": 28,
      "outputs": [
        {
          "output_type": "execute_result",
          "data": {
            "text/plain": [
              "PosixPath('/tmp/tmpu50rpsd5/tensorboard_logs/regularizers/Tiny')"
            ]
          },
          "metadata": {
            "tags": []
          },
          "execution_count": 28
        }
      ]
    },
    {
      "cell_type": "code",
      "metadata": {
        "id": "_HYTEutoTQ8C",
        "colab_type": "code",
        "colab": {}
      },
      "source": [
        "regularizer_histories = {}\n",
        "regularizer_histories['Tiny'] = size_histories['Tiny']"
      ],
      "execution_count": 0,
      "outputs": []
    },
    {
      "cell_type": "markdown",
      "metadata": {
        "id": "iJ5oDrCNTWEd",
        "colab_type": "text"
      },
      "source": [
        "### Using weight regularization\n",
        "\n",
        "I have used L2 regularizer\n"
      ]
    },
    {
      "cell_type": "code",
      "metadata": {
        "id": "ThJ7JxymTTVV",
        "colab_type": "code",
        "colab": {
          "base_uri": "https://localhost:8080/",
          "height": 544
        },
        "outputId": "8614c80c-fe0a-41c1-f80c-c93b8d3bc88d"
      },
      "source": [
        "l2_model = tf.keras.Sequential([\n",
        "    layers.Dense(512, activation='elu',\n",
        "                 kernel_regularizer=regularizers.l2(0.001),\n",
        "                 input_shape=(FEATURES,)),\n",
        "    layers.Dense(512, activation='elu',\n",
        "                 kernel_regularizer=regularizers.l2(0.001)),\n",
        "    layers.Dense(512, activation='elu',\n",
        "                 kernel_regularizer=regularizers.l2(0.001)),\n",
        "    layers.Dense(512, activation='elu',\n",
        "                 kernel_regularizer=regularizers.l2(0.001)),\n",
        "    layers.Dense(1)\n",
        "])\n",
        "\n",
        "regularizer_histories['l2'] = compile_and_fit(l2_model, \"regularizers/l2\")"
      ],
      "execution_count": 30,
      "outputs": [
        {
          "output_type": "stream",
          "text": [
            "Model: \"sequential_4\"\n",
            "_________________________________________________________________\n",
            "Layer (type)                 Output Shape              Param #   \n",
            "=================================================================\n",
            "dense_14 (Dense)             (None, 512)               14848     \n",
            "_________________________________________________________________\n",
            "dense_15 (Dense)             (None, 512)               262656    \n",
            "_________________________________________________________________\n",
            "dense_16 (Dense)             (None, 512)               262656    \n",
            "_________________________________________________________________\n",
            "dense_17 (Dense)             (None, 512)               262656    \n",
            "_________________________________________________________________\n",
            "dense_18 (Dense)             (None, 1)                 513       \n",
            "=================================================================\n",
            "Total params: 803,329\n",
            "Trainable params: 803,329\n",
            "Non-trainable params: 0\n",
            "_________________________________________________________________\n",
            "\n",
            "Epoch: 0, accuracy:0.5082,  binary_crossentropy:0.8192,  loss:2.3384,  val_accuracy:0.4640,  val_binary_crossentropy:0.6985,  val_loss:2.1406,  \n",
            "....................................................................................................\n",
            "Epoch: 100, accuracy:0.6564,  binary_crossentropy:0.5965,  loss:0.6206,  val_accuracy:0.6740,  val_binary_crossentropy:0.5829,  val_loss:0.6068,  \n",
            "....................................................................................................\n",
            "Epoch: 200, accuracy:0.6733,  binary_crossentropy:0.5803,  loss:0.6037,  val_accuracy:0.6700,  val_binary_crossentropy:0.5865,  val_loss:0.6099,  \n",
            "....................................................................................................\n",
            "Epoch: 300, accuracy:0.6742,  binary_crossentropy:0.5789,  loss:0.6040,  val_accuracy:0.6840,  val_binary_crossentropy:0.5849,  val_loss:0.6107,  \n",
            "....................................................................................................\n",
            "Epoch: 400, accuracy:0.6891,  binary_crossentropy:0.5684,  loss:0.5938,  val_accuracy:0.6420,  val_binary_crossentropy:0.5988,  val_loss:0.6243,  \n",
            "....................................................................................................\n",
            "Epoch: 500, accuracy:0.6992,  binary_crossentropy:0.5569,  loss:0.5847,  val_accuracy:0.6820,  val_binary_crossentropy:0.5768,  val_loss:0.6045,  \n",
            ".........................."
          ],
          "name": "stdout"
        }
      ]
    },
    {
      "cell_type": "code",
      "metadata": {
        "id": "QC5ev6JUTpfa",
        "colab_type": "code",
        "colab": {
          "base_uri": "https://localhost:8080/",
          "height": 300
        },
        "outputId": "21e689e4-e22e-4bae-a6f8-2a3af6a90c27"
      },
      "source": [
        "plotter.plot(regularizer_histories)\n",
        "plt.ylim([0.5, 0.7])"
      ],
      "execution_count": 31,
      "outputs": [
        {
          "output_type": "execute_result",
          "data": {
            "text/plain": [
              "(0.5, 0.7)"
            ]
          },
          "metadata": {
            "tags": []
          },
          "execution_count": 31
        },
        {
          "output_type": "display_data",
          "data": {
            "image/png": "[encoded data removed]",
            "text/plain": [
              "<Figure size 432x288 with 1 Axes>"
            ]
          },
          "metadata": {
            "tags": [],
            "needs_background": "light"
          }
        }
      ]
    },
    {
      "cell_type": "markdown",
      "metadata": {
        "id": "iwFVsY7zT7_z",
        "colab_type": "text"
      },
      "source": [
        "We can see L2 model is much more competitive than Tiny model and much more resistant to overfitting than the Large model."
      ]
    },
    {
      "cell_type": "markdown",
      "metadata": {
        "id": "s0816AATUPXZ",
        "colab_type": "text"
      },
      "source": [
        "### Dropout Regularization"
      ]
    },
    {
      "cell_type": "code",
      "metadata": {
        "id": "sp7LvbKyT7TX",
        "colab_type": "code",
        "colab": {
          "base_uri": "https://localhost:8080/",
          "height": 612
        },
        "outputId": "d8f4b15a-e254-4480-8112-a324547b63e9"
      },
      "source": [
        "dropout_model = tf.keras.Sequential([\n",
        "    layers.Dense(512, activation='elu', input_shape=(FEATURES,)),\n",
        "    layers.Dropout(0.5),\n",
        "    layers.Dense(512, activation='elu'),\n",
        "    layers.Dropout(0.5),\n",
        "    layers.Dense(512, activation='elu'),\n",
        "    layers.Dropout(0.5),\n",
        "    layers.Dense(512, activation='elu'),\n",
        "    layers.Dropout(0.5),\n",
        "    layers.Dense(1)\n",
        "])\n",
        "\n",
        "regularizer_histories['dropout'] = compile_and_fit(dropout_model, \"regularizers/dropout\")"
      ],
      "execution_count": 32,
      "outputs": [
        {
          "output_type": "stream",
          "text": [
            "Model: \"sequential_5\"\n",
            "_________________________________________________________________\n",
            "Layer (type)                 Output Shape              Param #   \n",
            "=================================================================\n",
            "dense_19 (Dense)             (None, 512)               14848     \n",
            "_________________________________________________________________\n",
            "dropout (Dropout)            (None, 512)               0         \n",
            "_________________________________________________________________\n",
            "dense_20 (Dense)             (None, 512)               262656    \n",
            "_________________________________________________________________\n",
            "dropout_1 (Dropout)          (None, 512)               0         \n",
            "_________________________________________________________________\n",
            "dense_21 (Dense)             (None, 512)               262656    \n",
            "_________________________________________________________________\n",
            "dropout_2 (Dropout)          (None, 512)               0         \n",
            "_________________________________________________________________\n",
            "dense_22 (Dense)             (None, 512)               262656    \n",
            "_________________________________________________________________\n",
            "dropout_3 (Dropout)          (None, 512)               0         \n",
            "_________________________________________________________________\n",
            "dense_23 (Dense)             (None, 1)                 513       \n",
            "=================================================================\n",
            "Total params: 803,329\n",
            "Trainable params: 803,329\n",
            "Non-trainable params: 0\n",
            "_________________________________________________________________\n",
            "\n",
            "Epoch: 0, accuracy:0.4976,  binary_crossentropy:0.8277,  loss:0.8277,  val_accuracy:0.5400,  val_binary_crossentropy:0.6735,  val_loss:0.6735,  \n",
            "....................................................................................................\n",
            "Epoch: 100, accuracy:0.6629,  binary_crossentropy:0.5950,  loss:0.5950,  val_accuracy:0.6740,  val_binary_crossentropy:0.5782,  val_loss:0.5782,  \n",
            "....................................................................................................\n",
            "Epoch: 200, accuracy:0.6910,  binary_crossentropy:0.5584,  loss:0.5584,  val_accuracy:0.6900,  val_binary_crossentropy:0.5866,  val_loss:0.5866,  \n",
            "....................................................................................................\n",
            "Epoch: 300, accuracy:0.7228,  binary_crossentropy:0.5114,  loss:0.5114,  val_accuracy:0.6870,  val_binary_crossentropy:0.5960,  val_loss:0.5960,  \n",
            "..................................................."
          ],
          "name": "stdout"
        }
      ]
    },
    {
      "cell_type": "code",
      "metadata": {
        "id": "WBVm8_SvUXr_",
        "colab_type": "code",
        "colab": {
          "base_uri": "https://localhost:8080/",
          "height": 300
        },
        "outputId": "623afff8-eb17-4e79-eb03-0224b73925e9"
      },
      "source": [
        "plotter.plot(regularizer_histories)\n",
        "plt.ylim([0.5, 0.7])"
      ],
      "execution_count": 33,
      "outputs": [
        {
          "output_type": "execute_result",
          "data": {
            "text/plain": [
              "(0.5, 0.7)"
            ]
          },
          "metadata": {
            "tags": []
          },
          "execution_count": 33
        },
        {
          "output_type": "display_data",
          "data": {
            "image/png": "[encoded data removed]",
            "text/plain": [
              "<Figure size 432x288 with 1 Axes>"
            ]
          },
          "metadata": {
            "tags": [],
            "needs_background": "light"
          }
        }
      ]
    },
    {
      "cell_type": "markdown",
      "metadata": {
        "id": "mccdRxXwUdFR",
        "colab_type": "text"
      },
      "source": [
        "We can see regularization has improved the behavior of the Large model but still not better than Tiny model baseline."
      ]
    },
    {
      "cell_type": "markdown",
      "metadata": {
        "id": "ngcK7XagUoXF",
        "colab_type": "text"
      },
      "source": [
        "### Combining both L2 and dropout techniques"
      ]
    },
    {
      "cell_type": "code",
      "metadata": {
        "id": "ZevnHkhxUuEe",
        "colab_type": "code",
        "colab": {
          "base_uri": "https://localhost:8080/",
          "height": 918
        },
        "outputId": "9179fe29-dc7a-4658-b3d1-588c22182d5d"
      },
      "source": [
        "combined_model = tf.keras.Sequential([\n",
        "    layers.Dense(512, kernel_regularizer=regularizers.l2(0.0001),\n",
        "                 activation='elu', input_shape=(FEATURES,)),\n",
        "    layers.Dropout(0.5),\n",
        "    layers.Dense(512, kernel_regularizer=regularizers.l2(0.0001),\n",
        "                 activation='elu'),\n",
        "    layers.Dropout(0.5),\n",
        "    layers.Dense(512, kernel_regularizer=regularizers.l2(0.0001),\n",
        "                 activation='elu'),\n",
        "    layers.Dropout(0.5),\n",
        "    layers.Dense(512, kernel_regularizer=regularizers.l2(0.0001),\n",
        "                 activation='elu'),\n",
        "    layers.Dropout(0.5),\n",
        "    layers.Dense(1)\n",
        "])\n",
        "\n",
        "regularizer_histories['combined'] = compile_and_fit(combined_model, \"regularizers/combined\")"
      ],
      "execution_count": 34,
      "outputs": [
        {
          "output_type": "stream",
          "text": [
            "Model: \"sequential_6\"\n",
            "_________________________________________________________________\n",
            "Layer (type)                 Output Shape              Param #   \n",
            "=================================================================\n",
            "dense_24 (Dense)             (None, 512)               14848     \n",
            "_________________________________________________________________\n",
            "dropout_4 (Dropout)          (None, 512)               0         \n",
            "_________________________________________________________________\n",
            "dense_25 (Dense)             (None, 512)               262656    \n",
            "_________________________________________________________________\n",
            "dropout_5 (Dropout)          (None, 512)               0         \n",
            "_________________________________________________________________\n",
            "dense_26 (Dense)             (None, 512)               262656    \n",
            "_________________________________________________________________\n",
            "dropout_6 (Dropout)          (None, 512)               0         \n",
            "_________________________________________________________________\n",
            "dense_27 (Dense)             (None, 512)               262656    \n",
            "_________________________________________________________________\n",
            "dropout_7 (Dropout)          (None, 512)               0         \n",
            "_________________________________________________________________\n",
            "dense_28 (Dense)             (None, 1)                 513       \n",
            "=================================================================\n",
            "Total params: 803,329\n",
            "Trainable params: 803,329\n",
            "Non-trainable params: 0\n",
            "_________________________________________________________________\n",
            "\n",
            "Epoch: 0, accuracy:0.5042,  binary_crossentropy:0.7985,  loss:0.9570,  val_accuracy:0.5250,  val_binary_crossentropy:0.6762,  val_loss:0.8340,  \n",
            "....................................................................................................\n",
            "Epoch: 100, accuracy:0.6438,  binary_crossentropy:0.6056,  loss:0.6346,  val_accuracy:0.6510,  val_binary_crossentropy:0.5851,  val_loss:0.6140,  \n",
            "....................................................................................................\n",
            "Epoch: 200, accuracy:0.6658,  binary_crossentropy:0.5902,  loss:0.6157,  val_accuracy:0.6510,  val_binary_crossentropy:0.5805,  val_loss:0.6059,  \n",
            "....................................................................................................\n",
            "Epoch: 300, accuracy:0.6707,  binary_crossentropy:0.5822,  loss:0.6103,  val_accuracy:0.6670,  val_binary_crossentropy:0.5696,  val_loss:0.5977,  \n",
            "....................................................................................................\n",
            "Epoch: 400, accuracy:0.6739,  binary_crossentropy:0.5785,  loss:0.6078,  val_accuracy:0.6860,  val_binary_crossentropy:0.5631,  val_loss:0.5924,  \n",
            "....................................................................................................\n",
            "Epoch: 500, accuracy:0.6777,  binary_crossentropy:0.5735,  loss:0.6054,  val_accuracy:0.6990,  val_binary_crossentropy:0.5555,  val_loss:0.5875,  \n",
            "....................................................................................................\n",
            "Epoch: 600, accuracy:0.6835,  binary_crossentropy:0.5682,  loss:0.6018,  val_accuracy:0.6990,  val_binary_crossentropy:0.5426,  val_loss:0.5761,  \n",
            "....................................................................................................\n",
            "Epoch: 700, accuracy:0.6896,  binary_crossentropy:0.5616,  loss:0.5965,  val_accuracy:0.6900,  val_binary_crossentropy:0.5429,  val_loss:0.5778,  \n",
            "....................................................................................................\n",
            "Epoch: 800, accuracy:0.6950,  binary_crossentropy:0.5569,  loss:0.5931,  val_accuracy:0.7010,  val_binary_crossentropy:0.5451,  val_loss:0.5812,  \n",
            "....................................................................................................\n",
            "Epoch: 900, accuracy:0.6927,  binary_crossentropy:0.5545,  loss:0.5914,  val_accuracy:0.6970,  val_binary_crossentropy:0.5421,  val_loss:0.5791,  \n",
            "....................................................................................................\n",
            "Epoch: 1000, accuracy:0.7035,  binary_crossentropy:0.5510,  loss:0.5891,  val_accuracy:0.6930,  val_binary_crossentropy:0.5450,  val_loss:0.5832,  \n",
            "....................................................................................................\n",
            "Epoch: 1100, accuracy:0.6959,  binary_crossentropy:0.5496,  loss:0.5888,  val_accuracy:0.7010,  val_binary_crossentropy:0.5435,  val_loss:0.5827,  \n",
            "....................................................................................................\n",
            "Epoch: 1200, accuracy:0.6975,  binary_crossentropy:0.5498,  loss:0.5900,  val_accuracy:0.6950,  val_binary_crossentropy:0.5468,  val_loss:0.5870,  \n",
            "........"
          ],
          "name": "stdout"
        }
      ]
    },
    {
      "cell_type": "code",
      "metadata": {
        "id": "4TSRWLfdUzMQ",
        "colab_type": "code",
        "colab": {
          "base_uri": "https://localhost:8080/",
          "height": 300
        },
        "outputId": "e786eb7a-0579-470c-fd0d-376ae1c4be57"
      },
      "source": [
        "plotter.plot(regularizer_histories)\n",
        "plt.ylim([0.5, 0.7])"
      ],
      "execution_count": 35,
      "outputs": [
        {
          "output_type": "execute_result",
          "data": {
            "text/plain": [
              "(0.5, 0.7)"
            ]
          },
          "metadata": {
            "tags": []
          },
          "execution_count": 35
        },
        {
          "output_type": "display_data",
          "data": {
            "image/png": "[encoded data removed]",
            "text/plain": [
              "<Figure size 432x288 with 1 Axes>"
            ]
          },
          "metadata": {
            "tags": [],
            "needs_background": "light"
          }
        }
      ]
    },
    {
      "cell_type": "markdown",
      "metadata": {
        "id": "TOiWWGyTU2cK",
        "colab_type": "text"
      },
      "source": [
        "### Tensorboard Visualization"
      ]
    },
    {
      "cell_type": "code",
      "metadata": {
        "id": "Pl2XIdSxU5II",
        "colab_type": "code",
        "colab": {
          "base_uri": "https://localhost:8080/",
          "height": 34
        },
        "outputId": "c7c51b09-67cd-421b-e464-dc3ce3af1cc7"
      },
      "source": [
        "%tensorboard --logdir {logdir}/regularizers"
      ],
      "execution_count": 36,
      "outputs": [
        {
          "output_type": "stream",
          "text": [
            "UsageError: Line magic function `%tensorboard` not found.\n"
          ],
          "name": "stderr"
        }
      ]
    },
    {
      "cell_type": "code",
      "metadata": {
        "id": "tGIzOw8NU79E",
        "colab_type": "code",
        "colab": {
          "base_uri": "https://localhost:8080/",
          "height": 821
        },
        "outputId": "30e621b7-0250-4a91-ef41-e99c1f7bad8e"
      },
      "source": [
        "display.IFrame(\n",
        "    src=\"https://tensorboard.dev/experiment/fGInKDo8TXes1z7HQku9mw/#scalars&_smoothingWeight=0.97\",\n",
        "    width = \"100%\",\n",
        "    height=\"800px\")"
      ],
      "execution_count": 37,
      "outputs": [
        {
          "output_type": "execute_result",
          "data": {
            "text/html": [
              "\n",
              "        <iframe\n",
              "            width=\"100%\"\n",
              "            height=\"800px\"\n",
              "            src=\"https://tensorboard.dev/experiment/fGInKDo8TXes1z7HQku9mw/#scalars&_smoothingWeight=0.97\"\n",
              "            frameborder=\"0\"\n",
              "            allowfullscreen\n",
              "        ></iframe>\n",
              "        "
            ],
            "text/plain": [
              "<IPython.lib.display.IFrame at 0x7fd87da35940>"
            ]
          },
          "metadata": {
            "tags": []
          },
          "execution_count": 37
        }
      ]
    },
    {
      "cell_type": "markdown",
      "metadata": {
        "id": "kZ250ypOVAqz",
        "colab_type": "text"
      },
      "source": [
        "## Conclusion\n",
        "\n",
        "So in this exercise we learned how regularization techniques can help overcome the problem of overfitting of models"
      ]
    }
  ]
}