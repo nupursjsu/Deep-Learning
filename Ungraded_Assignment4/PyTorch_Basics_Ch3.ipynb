{
  "nbformat": 4,
  "nbformat_minor": 0,
  "metadata": {
    "colab": {
      "name": "PyTorch_Basics_Ch3.ipynb",
      "provenance": [],
      "collapsed_sections": [],
      "authorship_tag": "ABX9TyPF1yLEODab7eWR1wtvwTMh",
      "include_colab_link": true
    },
    "kernelspec": {
      "name": "python3",
      "display_name": "Python 3"
    }
  },
  "cells": [
    {
      "cell_type": "markdown",
      "metadata": {
        "id": "view-in-github",
        "colab_type": "text"
      },
      "source": [
        "<a href=\"https://colab.research.google.com/github/nupursjsu/Deep-Learning/blob/master/Ungraded_Assignment4/PyTorch_Basics_Ch3.ipynb\" target=\"_parent\"><img src=\"https://colab.research.google.com/assets/colab-badge.svg\" alt=\"Open In Colab\"/></a>"
      ]
    },
    {
      "cell_type": "markdown",
      "metadata": {
        "id": "laaJhJskHv11",
        "colab_type": "text"
      },
      "source": [
        "# PyTorch Basics chapter 3\n"
      ]
    },
    {
      "cell_type": "markdown",
      "metadata": {
        "id": "OZvP6QZGH3J0",
        "colab_type": "text"
      },
      "source": [
        "## Importing necessary libraries"
      ]
    },
    {
      "cell_type": "code",
      "metadata": {
        "id": "1SuPwIVBlPAv",
        "colab_type": "code",
        "colab": {}
      },
      "source": [
        "import numpy as np\n",
        "import pandas as pd\n",
        "import csv\n",
        "import torch\n",
        "torch.set_printoptions(edgeitems=2, precision=2)"
      ],
      "execution_count": 0,
      "outputs": []
    },
    {
      "cell_type": "markdown",
      "metadata": {
        "id": "KwjzsUoQIAvH",
        "colab_type": "text"
      },
      "source": [
        "## Loading wine quality dataset"
      ]
    },
    {
      "cell_type": "code",
      "metadata": {
        "id": "Vx8BdAXLIJix",
        "colab_type": "code",
        "colab": {}
      },
      "source": [
        "# Code to read data file into Colaboratory:\n",
        "!pip install -U -q PyDrive\n",
        "from pydrive.auth import GoogleAuth\n",
        "from pydrive.drive import GoogleDrive\n",
        "from google.colab import auth\n",
        "from oauth2client.client import GoogleCredentials\n",
        "# Authenticate and create the PyDrive client.\n",
        "auth.authenticate_user()\n",
        "gauth = GoogleAuth()\n",
        "gauth.credentials = GoogleCredentials.get_application_default()\n",
        "drive = GoogleDrive(gauth)"
      ],
      "execution_count": 0,
      "outputs": []
    },
    {
      "cell_type": "code",
      "metadata": {
        "id": "QNX0edyKIMR6",
        "colab_type": "code",
        "colab": {
          "base_uri": "https://localhost:8080/",
          "height": 34
        },
        "outputId": "1edcdb83-a1e8-4a5c-da3a-c380cecfcb45"
      },
      "source": [
        "#Getting wine quality datset\n",
        "link = 'https://drive.google.com/open?id=1bxf8g4P7XFvsT-GCrO91dQ74mCExlmjr'\n",
        "fluff, id = link.split('=')\n",
        "print (id) # Verify that you have everything after '='\n",
        "\n",
        "downloaded = drive.CreateFile({'id':id}) \n",
        "downloaded.GetContentFile('winequality-white.csv')"
      ],
      "execution_count": 10,
      "outputs": [
        {
          "output_type": "stream",
          "text": [
            "1bxf8g4P7XFvsT-GCrO91dQ74mCExlmjr\n"
          ],
          "name": "stdout"
        }
      ]
    },
    {
      "cell_type": "code",
      "metadata": {
        "id": "TtGmM7velsC6",
        "colab_type": "code",
        "outputId": "5bf378e0-54b9-4e04-e40c-62b4f8b111bf",
        "colab": {
          "base_uri": "https://localhost:8080/",
          "height": 136
        }
      },
      "source": [
        "df = pd.read_csv('winequality-white.csv', encoding='utf-8', dtype=np.float32, delimiter=\";\", skiprows=1)\n",
        "#Converting pandas dataframe to numpy array\n",
        "df_numpy = df.values\n",
        "df_numpy"
      ],
      "execution_count": 20,
      "outputs": [
        {
          "output_type": "execute_result",
          "data": {
            "text/plain": [
              "array([[ 6.3 ,  0.3 ,  0.34, ...,  0.49,  9.5 ,  6.  ],\n",
              "       [ 8.1 ,  0.28,  0.4 , ...,  0.44, 10.1 ,  6.  ],\n",
              "       [ 7.2 ,  0.23,  0.32, ...,  0.4 ,  9.9 ,  6.  ],\n",
              "       ...,\n",
              "       [ 6.5 ,  0.24,  0.19, ...,  0.46,  9.4 ,  6.  ],\n",
              "       [ 5.5 ,  0.29,  0.3 , ...,  0.38, 12.8 ,  7.  ],\n",
              "       [ 6.  ,  0.21,  0.38, ...,  0.32, 11.8 ,  6.  ]], dtype=float32)"
            ]
          },
          "metadata": {
            "tags": []
          },
          "execution_count": 20
        }
      ]
    },
    {
      "cell_type": "code",
      "metadata": {
        "id": "YRHjvRuLLHrZ",
        "colab_type": "code",
        "colab": {
          "base_uri": "https://localhost:8080/",
          "height": 238
        },
        "outputId": "8f385850-8d3f-4a12-ed64-d18ae78a51cf"
      },
      "source": [
        "columns = next(csv.reader(open('winequality-white.csv'), delimiter=';'))\n",
        "\n",
        "#Displaying shape of array and column labels\n",
        "df_numpy.shape, columns"
      ],
      "execution_count": 22,
      "outputs": [
        {
          "output_type": "execute_result",
          "data": {
            "text/plain": [
              "((4897, 12),\n",
              " ['fixed acidity',\n",
              "  'volatile acidity',\n",
              "  'citric acid',\n",
              "  'residual sugar',\n",
              "  'chlorides',\n",
              "  'free sulfur dioxide',\n",
              "  'total sulfur dioxide',\n",
              "  'density',\n",
              "  'pH',\n",
              "  'sulphates',\n",
              "  'alcohol',\n",
              "  'quality'])"
            ]
          },
          "metadata": {
            "tags": []
          },
          "execution_count": 22
        }
      ]
    },
    {
      "cell_type": "markdown",
      "metadata": {
        "id": "GnQi1sDPNCej",
        "colab_type": "text"
      },
      "source": [
        "## Converting Numpy array to PyTorch tensor and performing prediction"
      ]
    },
    {
      "cell_type": "code",
      "metadata": {
        "id": "0EIhJ3M7LkDf",
        "colab_type": "code",
        "colab": {
          "base_uri": "https://localhost:8080/",
          "height": 34
        },
        "outputId": "16c6e309-fec2-4bbe-d2f2-265eb98ce16b"
      },
      "source": [
        "#Converting the NumPy array to a PyTorch tensor\n",
        "wine_data = torch.from_numpy(df_numpy)\n",
        "wine_data.shape, wine_data.type()"
      ],
      "execution_count": 23,
      "outputs": [
        {
          "output_type": "execute_result",
          "data": {
            "text/plain": [
              "(torch.Size([4897, 12]), 'torch.FloatTensor')"
            ]
          },
          "metadata": {
            "tags": []
          },
          "execution_count": 23
        }
      ]
    },
    {
      "cell_type": "code",
      "metadata": {
        "id": "cEhA-nlmMX5p",
        "colab_type": "code",
        "colab": {
          "base_uri": "https://localhost:8080/",
          "height": 102
        },
        "outputId": "1594e2f5-020f-4bc0-aa33-6fa8a4c77c92"
      },
      "source": [
        "#Selecting all rows and all columns except the last\n",
        "final_data = wine_data[:, :-1] \n",
        "final_data, final_data.shape"
      ],
      "execution_count": 24,
      "outputs": [
        {
          "output_type": "execute_result",
          "data": {
            "text/plain": [
              "(tensor([[ 6.30,  0.30,  ...,  0.49,  9.50],\n",
              "         [ 8.10,  0.28,  ...,  0.44, 10.10],\n",
              "         ...,\n",
              "         [ 5.50,  0.29,  ...,  0.38, 12.80],\n",
              "         [ 6.00,  0.21,  ...,  0.32, 11.80]]), torch.Size([4897, 11]))"
            ]
          },
          "metadata": {
            "tags": []
          },
          "execution_count": 24
        }
      ]
    },
    {
      "cell_type": "code",
      "metadata": {
        "id": "EaNKWltWMkPD",
        "colab_type": "code",
        "colab": {
          "base_uri": "https://localhost:8080/",
          "height": 34
        },
        "outputId": "75f00459-add1-40a5-95a8-fe814e6e9e60"
      },
      "source": [
        "#Selecting all rows and the last column\n",
        "label = wine_data[:, -1] # <2>\n",
        "label, label.shape"
      ],
      "execution_count": 25,
      "outputs": [
        {
          "output_type": "execute_result",
          "data": {
            "text/plain": [
              "(tensor([6., 6.,  ..., 7., 6.]), torch.Size([4897]))"
            ]
          },
          "metadata": {
            "tags": []
          },
          "execution_count": 25
        }
      ]
    },
    {
      "cell_type": "code",
      "metadata": {
        "id": "IEkTO2KQM52S",
        "colab_type": "code",
        "colab": {
          "base_uri": "https://localhost:8080/",
          "height": 34
        },
        "outputId": "40a6eee5-5b82-498d-a1cf-5c69acba0420"
      },
      "source": [
        "#Converting label tensor into integer values\n",
        "label = wine_data[:, -1].long() \n",
        "label"
      ],
      "execution_count": 26,
      "outputs": [
        {
          "output_type": "execute_result",
          "data": {
            "text/plain": [
              "tensor([6, 6,  ..., 7, 6])"
            ]
          },
          "metadata": {
            "tags": []
          },
          "execution_count": 26
        }
      ]
    },
    {
      "cell_type": "code",
      "metadata": {
        "id": "ZyVtc8RqNr4I",
        "colab_type": "code",
        "colab": {
          "base_uri": "https://localhost:8080/",
          "height": 102
        },
        "outputId": "08f10535-1516-43b0-8e79-4ab635bf4f1f"
      },
      "source": [
        "#Onehot encoding the label column of categorical values\n",
        "label_onehot = torch.zeros(label.shape[0], 10)\n",
        "label_onehot.scatter_(1, label.unsqueeze(1), 1.0)"
      ],
      "execution_count": 27,
      "outputs": [
        {
          "output_type": "execute_result",
          "data": {
            "text/plain": [
              "tensor([[0., 0.,  ..., 0., 0.],\n",
              "        [0., 0.,  ..., 0., 0.],\n",
              "        ...,\n",
              "        [0., 0.,  ..., 0., 0.],\n",
              "        [0., 0.,  ..., 0., 0.]])"
            ]
          },
          "metadata": {
            "tags": []
          },
          "execution_count": 27
        }
      ]
    },
    {
      "cell_type": "code",
      "metadata": {
        "id": "JoZbAagxN7Yl",
        "colab_type": "code",
        "colab": {
          "base_uri": "https://localhost:8080/",
          "height": 102
        },
        "outputId": "1f3d765a-90c4-4bd9-a513-637ccaaa1117"
      },
      "source": [
        "#Adding an extra dummy dimension to label by using unsqueeze\n",
        "label_unsqueezed = label.unsqueeze(1) \n",
        "label_unsqueezed"
      ],
      "execution_count": 29,
      "outputs": [
        {
          "output_type": "execute_result",
          "data": {
            "text/plain": [
              "tensor([[6],\n",
              "        [6],\n",
              "        ...,\n",
              "        [7],\n",
              "        [6]])"
            ]
          },
          "metadata": {
            "tags": []
          },
          "execution_count": 29
        }
      ]
    },
    {
      "cell_type": "code",
      "metadata": {
        "id": "YwIfrVRUOVL3",
        "colab_type": "code",
        "colab": {
          "base_uri": "https://localhost:8080/",
          "height": 51
        },
        "outputId": "736c24e6-f82f-425c-a9ff-368f8b2e9e7e"
      },
      "source": [
        "#Finding means and standard deviations for each column\n",
        "final_data_mean = torch.mean(final_data, dim=0) \n",
        "final_data_mean"
      ],
      "execution_count": 30,
      "outputs": [
        {
          "output_type": "execute_result",
          "data": {
            "text/plain": [
              "tensor([6.85e+00, 2.78e-01, 3.34e-01, 6.39e+00, 4.58e-02, 3.53e+01, 1.38e+02,\n",
              "        9.94e-01, 3.19e+00, 4.90e-01, 1.05e+01])"
            ]
          },
          "metadata": {
            "tags": []
          },
          "execution_count": 30
        }
      ]
    },
    {
      "cell_type": "code",
      "metadata": {
        "id": "i-_ZiQuEOmKi",
        "colab_type": "code",
        "colab": {
          "base_uri": "https://localhost:8080/",
          "height": 51
        },
        "outputId": "e20c05cb-c067-4ca0-b2d1-44132c8ed710"
      },
      "source": [
        "final_data_var = torch.var(final_data, dim=0) \n",
        "final_data_var"
      ],
      "execution_count": 31,
      "outputs": [
        {
          "output_type": "execute_result",
          "data": {
            "text/plain": [
              "tensor([7.12e-01, 1.02e-02, 1.46e-02, 2.57e+01, 4.77e-04, 2.89e+02, 1.81e+03,\n",
              "        8.94e-06, 2.28e-02, 1.30e-02, 1.51e+00])"
            ]
          },
          "metadata": {
            "tags": []
          },
          "execution_count": 31
        }
      ]
    },
    {
      "cell_type": "code",
      "metadata": {
        "id": "Pjg_TeqjOsSD",
        "colab_type": "code",
        "colab": {
          "base_uri": "https://localhost:8080/",
          "height": 102
        },
        "outputId": "1a66bc3b-e5f3-47b9-d925-f6ae951b9ec8"
      },
      "source": [
        "#Normalizing the data by subtracting the mean and dividing by the standard deviation\n",
        "final_data_normalized = (final_data - final_data_mean) / torch.sqrt(final_data_var) \n",
        "final_data_normalized"
      ],
      "execution_count": 32,
      "outputs": [
        {
          "output_type": "execute_result",
          "data": {
            "text/plain": [
              "tensor([[-6.57e-01,  2.16e-01,  ...,  1.27e-03, -8.25e-01],\n",
              "        [ 1.48e+00,  1.74e-02,  ..., -4.37e-01, -3.37e-01],\n",
              "        ...,\n",
              "        [-1.61e+00,  1.17e-01,  ..., -9.62e-01,  1.86e+00],\n",
              "        [-1.01e+00, -6.77e-01,  ..., -1.49e+00,  1.04e+00]])"
            ]
          },
          "metadata": {
            "tags": []
          },
          "execution_count": 32
        }
      ]
    },
    {
      "cell_type": "markdown",
      "metadata": {
        "id": "C37ufWwxO9OT",
        "colab_type": "text"
      },
      "source": [
        "Normalizing will help in the learning process"
      ]
    },
    {
      "cell_type": "code",
      "metadata": {
        "id": "2W8kWruzPB66",
        "colab_type": "code",
        "colab": {
          "base_uri": "https://localhost:8080/",
          "height": 34
        },
        "outputId": "21f020f1-0158-4f1b-e98c-d66e80b6258a"
      },
      "source": [
        "#Using the torch.le function to determine which rows in target correspond to a score less than or equal to 3\n",
        "bad_idx = torch.le(label, 3) \n",
        "bad_idx.shape, bad_idx.dtype, bad_idx.sum()"
      ],
      "execution_count": 33,
      "outputs": [
        {
          "output_type": "execute_result",
          "data": {
            "text/plain": [
              "(torch.Size([4897]), torch.bool, tensor(20))"
            ]
          },
          "metadata": {
            "tags": []
          },
          "execution_count": 33
        }
      ]
    },
    {
      "cell_type": "markdown",
      "metadata": {
        "id": "ySPgASTJP3cd",
        "colab_type": "text"
      },
      "source": [
        "Note that only 20 of the bad_indexes entries are set to 1!"
      ]
    },
    {
      "cell_type": "code",
      "metadata": {
        "id": "SkUA6wqOQBVS",
        "colab_type": "code",
        "colab": {
          "base_uri": "https://localhost:8080/",
          "height": 34
        },
        "outputId": "3dba0674-267f-4dea-fe2e-b2a43972cedd"
      },
      "source": [
        "#Filtering data to be only items (or rows) that correspond to 1 in the indexing tensor\n",
        "bad_final_data = final_data[bad_idx] \n",
        "bad_final_data.shape"
      ],
      "execution_count": 34,
      "outputs": [
        {
          "output_type": "execute_result",
          "data": {
            "text/plain": [
              "torch.Size([20, 11])"
            ]
          },
          "metadata": {
            "tags": []
          },
          "execution_count": 34
        }
      ]
    },
    {
      "cell_type": "code",
      "metadata": {
        "id": "F2XuawCzQNBH",
        "colab_type": "code",
        "colab": {}
      },
      "source": [
        "#Getting information about wines grouped into good, middling, and bad categories. Take the .mean() of each column\n",
        "bad_final_data = final_data[torch.le(label, 3)] \n",
        "mid_final_data = final_data[torch.gt(label, 3) & torch.lt(label, 7)] \n",
        "good_final_data = final_data[torch.ge(label, 7)]\n",
        "\n",
        "bad_mean = torch.mean(bad_final_data, dim=0) \n",
        "mid_mean = torch.mean(mid_final_data, dim=0) \n",
        "good_mean = torch.mean(good_final_data, dim=0)"
      ],
      "execution_count": 0,
      "outputs": []
    },
    {
      "cell_type": "code",
      "metadata": {
        "id": "kldYql8jQ4NY",
        "colab_type": "code",
        "colab": {
          "base_uri": "https://localhost:8080/",
          "height": 204
        },
        "outputId": "0e4f7309-7929-49e1-9786-12ca5ba0dda5"
      },
      "source": [
        "for i, args in enumerate(zip(columns, bad_mean, mid_mean, good_mean)):\n",
        "  print('{:2} {:20} {:6.2f} {:6.2f} {:6.2f}'.format(i, *args))"
      ],
      "execution_count": 37,
      "outputs": [
        {
          "output_type": "stream",
          "text": [
            " 0 fixed acidity          7.60   6.89   6.73\n",
            " 1 volatile acidity       0.33   0.28   0.27\n",
            " 2 citric acid            0.34   0.34   0.33\n",
            " 3 residual sugar         6.39   6.70   5.26\n",
            " 4 chlorides              0.05   0.05   0.04\n",
            " 5 free sulfur dioxide   53.33  35.42  34.55\n",
            " 6 total sulfur dioxide 170.60 141.83 125.25\n",
            " 7 density                0.99   0.99   0.99\n",
            " 8 pH                     3.19   3.18   3.22\n",
            " 9 sulphates              0.47   0.49   0.50\n",
            "10 alcohol               10.34  10.27  11.42\n"
          ],
          "name": "stdout"
        }
      ]
    },
    {
      "cell_type": "markdown",
      "metadata": {
        "id": "H5AxZjCbRMGR",
        "colab_type": "text"
      },
      "source": [
        "The bad wines seem to have higher total sulfur dioxide, among other differences. You could use a threshold on total sulfur dioxide as a crude criterion for discriminating good wines from bad ones."
      ]
    },
    {
      "cell_type": "code",
      "metadata": {
        "id": "b7Kw_AHrQ_4Y",
        "colab_type": "code",
        "colab": {
          "base_uri": "https://localhost:8080/",
          "height": 34
        },
        "outputId": "82f8ea48-4930-409c-9073-0c10d0b22614"
      },
      "source": [
        "#Getting the indexes in which the total sulfur dioxide column is below the midpoint you calculated earlier\n",
        "threshold_sulphur = 141.83 \n",
        "data_sulphur= final_data[:,6] \n",
        "pred_idxs = torch.lt(data_sulphur, threshold_sulphur)\n",
        "\n",
        "pred_idxs.shape, pred_idxs.dtype, pred_idxs.sum()"
      ],
      "execution_count": 39,
      "outputs": [
        {
          "output_type": "execute_result",
          "data": {
            "text/plain": [
              "(torch.Size([4897]), torch.bool, tensor(2727))"
            ]
          },
          "metadata": {
            "tags": []
          },
          "execution_count": 39
        }
      ]
    },
    {
      "cell_type": "code",
      "metadata": {
        "id": "F6Q4GIAgRrwS",
        "colab_type": "code",
        "colab": {
          "base_uri": "https://localhost:8080/",
          "height": 34
        },
        "outputId": "4bb7266c-7c4e-4eba-a93d-d12296bf140d"
      },
      "source": [
        "#Getting the indexes of the good wines\n",
        "actual_idxs = torch.gt(label, 5)\n",
        "actual_idxs.shape, actual_idxs.dtype, actual_idxs.sum()"
      ],
      "execution_count": 40,
      "outputs": [
        {
          "output_type": "execute_result",
          "data": {
            "text/plain": [
              "(torch.Size([4897]), torch.bool, tensor(3257))"
            ]
          },
          "metadata": {
            "tags": []
          },
          "execution_count": 40
        }
      ]
    },
    {
      "cell_type": "markdown",
      "metadata": {
        "id": "qEotAKKwSEYR",
        "colab_type": "text"
      },
      "source": [
        "Because you have about 500 more good wines than your threshold predicted, you already have hard evidence that the threshold isn’t perfect."
      ]
    },
    {
      "cell_type": "code",
      "metadata": {
        "id": "yHLOPVhnR5Il",
        "colab_type": "code",
        "colab": {
          "base_uri": "https://localhost:8080/",
          "height": 34
        },
        "outputId": "301d0ea9-4e27-4886-b951-1ac01c67dfaf"
      },
      "source": [
        "#Seeing how well your predictions line up with the actual rankings.\n",
        "total_matches = torch.sum(actual_idxs & pred_idxs).item() \n",
        "total_predicted = torch.sum(pred_idxs).item() \n",
        "total_actual = torch.sum(actual_idxs).item()\n",
        "\n",
        "total_matches, total_matches / total_predicted, total_matches / total_actual"
      ],
      "execution_count": 41,
      "outputs": [
        {
          "output_type": "execute_result",
          "data": {
            "text/plain": [
              "(2018, 0.74000733406674, 0.6195885784464231)"
            ]
          },
          "metadata": {
            "tags": []
          },
          "execution_count": 41
        }
      ]
    },
    {
      "cell_type": "markdown",
      "metadata": {
        "id": "NUvD9ikAScku",
        "colab_type": "text"
      },
      "source": [
        "We got around 2,018 wines correct! Because we had 2,700 wines predicted, a 74 percent chance exists that if we predict a wine to be high-quality, it is. Unfortunately, we have 3,200 good wines and identified only 61 percent of them. The result is barely better than random."
      ]
    }
  ]
}