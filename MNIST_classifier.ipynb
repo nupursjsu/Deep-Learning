{
  "nbformat": 4,
  "nbformat_minor": 0,
  "metadata": {
    "colab": {
      "name": "MNIST_classifier.ipynb",
      "provenance": [],
      "collapsed_sections": [],
      "machine_shape": "hm",
      "authorship_tag": "ABX9TyMfgqM3M8In82HHEosN8env",
      "include_colab_link": true
    },
    "kernelspec": {
      "name": "python3",
      "display_name": "Python 3"
    },
    "accelerator": "GPU"
  },
  "cells": [
    {
      "cell_type": "markdown",
      "metadata": {
        "id": "view-in-github",
        "colab_type": "text"
      },
      "source": [
        "<a href=\"https://colab.research.google.com/github/nupursjsu/Deep-Learning/blob/master/MNIST_classifier.ipynb\" target=\"_parent\"><img src=\"https://colab.research.google.com/assets/colab-badge.svg\" alt=\"Open In Colab\"/></a>"
      ]
    },
    {
      "cell_type": "markdown",
      "metadata": {
        "id": "_fl1TYh-ijUA",
        "colab_type": "text"
      },
      "source": [
        "# Implementing MNIST classifier using numpy and python"
      ]
    },
    {
      "cell_type": "code",
      "metadata": {
        "id": "M_T4Ru7RgECp",
        "colab_type": "code",
        "colab": {}
      },
      "source": [
        "# Importing necessary libraries\n",
        "import numpy as np\n",
        "import matplotlib.pyplot as plt\n",
        "%matplotlib inline\n",
        "import itertools\n",
        "from sklearn.metrics import confusion_matrix\n",
        "from tqdm import trange\n",
        "from keras.preprocessing.image import ImageDataGenerator\n",
        "import tensorflow as tf"
      ],
      "execution_count": 0,
      "outputs": []
    },
    {
      "cell_type": "markdown",
      "metadata": {
        "id": "55EdkKFYoFqp",
        "colab_type": "text"
      },
      "source": [
        "## Loading the MNIST dataset"
      ]
    },
    {
      "cell_type": "code",
      "metadata": {
        "id": "mr6hVOvvjVqy",
        "colab_type": "code",
        "colab": {}
      },
      "source": [
        "from keras.datasets import mnist\n",
        "(train_images, train_labels), (test_images, test_labels) = mnist.load_data()"
      ],
      "execution_count": 0,
      "outputs": []
    },
    {
      "cell_type": "markdown",
      "metadata": {
        "id": "p_RCxchboWrM",
        "colab_type": "text"
      },
      "source": [
        "Loading the MNIST dataset returns four numpy arrays. The images are numpy arrays of 28X28 with pixel values ranging from 0 to 255. The labels are an array of integers with values 0 to 9. "
      ]
    },
    {
      "cell_type": "markdown",
      "metadata": {
        "id": "DIL_i4qwpipK",
        "colab_type": "text"
      },
      "source": [
        "## Exploring the MNIST dataset"
      ]
    },
    {
      "cell_type": "code",
      "metadata": {
        "id": "VoP4PEfxlfyI",
        "colab_type": "code",
        "outputId": "1191781e-e2c9-420f-ea67-478aba9d9757",
        "colab": {
          "base_uri": "https://localhost:8080/",
          "height": 34
        }
      },
      "source": [
        "# Checking the shape of the training data\n",
        "train_images.shape"
      ],
      "execution_count": 104,
      "outputs": [
        {
          "output_type": "execute_result",
          "data": {
            "text/plain": [
              "(60000, 28, 28)"
            ]
          },
          "metadata": {
            "tags": []
          },
          "execution_count": 104
        }
      ]
    },
    {
      "cell_type": "markdown",
      "metadata": {
        "id": "UgqJl3wsl60R",
        "colab_type": "text"
      },
      "source": [
        "The training data contains 60000 images of 28 by 28 pixels."
      ]
    },
    {
      "cell_type": "code",
      "metadata": {
        "id": "TdKROhAImGQA",
        "colab_type": "code",
        "outputId": "33a60fee-f13c-4be1-8873-c029c78c0e02",
        "colab": {
          "base_uri": "https://localhost:8080/",
          "height": 34
        }
      },
      "source": [
        "train_labels"
      ],
      "execution_count": 105,
      "outputs": [
        {
          "output_type": "execute_result",
          "data": {
            "text/plain": [
              "array([5, 0, 4, ..., 5, 6, 8], dtype=uint8)"
            ]
          },
          "metadata": {
            "tags": []
          },
          "execution_count": 105
        }
      ]
    },
    {
      "cell_type": "markdown",
      "metadata": {
        "id": "gHWu9BLIm9wx",
        "colab_type": "text"
      },
      "source": [
        "train_labels consists of labels that range from digit 0 to 9."
      ]
    },
    {
      "cell_type": "code",
      "metadata": {
        "id": "WT02iWCinE1K",
        "colab_type": "code",
        "outputId": "38d094cb-5b26-4ee4-9644-275e31050b4c",
        "colab": {
          "base_uri": "https://localhost:8080/",
          "height": 34
        }
      },
      "source": [
        "# Checking the shape of the test data\n",
        "test_images.shape"
      ],
      "execution_count": 106,
      "outputs": [
        {
          "output_type": "execute_result",
          "data": {
            "text/plain": [
              "(10000, 28, 28)"
            ]
          },
          "metadata": {
            "tags": []
          },
          "execution_count": 106
        }
      ]
    },
    {
      "cell_type": "markdown",
      "metadata": {
        "id": "mIvw7LZgqB7D",
        "colab_type": "text"
      },
      "source": [
        "The training data contains 10000 images of 28 by 28 pixels.\n",
        "\n"
      ]
    },
    {
      "cell_type": "markdown",
      "metadata": {
        "id": "Oxi6DUwvssOo",
        "colab_type": "text"
      },
      "source": [
        "## Preprocessing the data"
      ]
    },
    {
      "cell_type": "markdown",
      "metadata": {
        "id": "GUrmlLPH04Rj",
        "colab_type": "text"
      },
      "source": [
        "### Scaling the input"
      ]
    },
    {
      "cell_type": "code",
      "metadata": {
        "id": "Pkm8fBN4vvWO",
        "colab_type": "code",
        "outputId": "69c4bc55-81f1-45b8-f59d-e80fee3eab6f",
        "colab": {
          "base_uri": "https://localhost:8080/",
          "height": 265
        }
      },
      "source": [
        "# Inspecting the first image in our training set\n",
        "plt.figure()\n",
        "plt.imshow(train_images[0], cmap=plt.cm.binary)\n",
        "plt.colorbar()\n",
        "plt.grid(False)\n",
        "plt.show()"
      ],
      "execution_count": 107,
      "outputs": [
        {
          "output_type": "display_data",
          "data": {
            "image/png": "[encoded data removed]",
            "text/plain": [
              "<Figure size 432x288 with 2 Axes>"
            ]
          },
          "metadata": {
            "tags": []
          }
        }
      ]
    },
    {
      "cell_type": "markdown",
      "metadata": {
        "id": "6fB1lg6Uv9QR",
        "colab_type": "text"
      },
      "source": [
        "We can see in the above image that the pixel value ranges from 0 to 255. So, we need to scale these values to a range of 0 to 1 before feeding the data to the model. We need to preprocess both the training data as well as test data."
      ]
    },
    {
      "cell_type": "code",
      "metadata": {
        "id": "VCUPYmZtwtSF",
        "colab_type": "code",
        "colab": {}
      },
      "source": [
        "train_images = train_images.astype(float)/255.\n",
        "test_images = test_images.astype(float)/255."
      ],
      "execution_count": 0,
      "outputs": []
    },
    {
      "cell_type": "markdown",
      "metadata": {
        "id": "rwi3FwrOWxdb",
        "colab_type": "text"
      },
      "source": [
        "### Augmenting data to prevent overfitting"
      ]
    },
    {
      "cell_type": "code",
      "metadata": {
        "id": "0xRo_wGhSOcK",
        "colab_type": "code",
        "colab": {}
      },
      "source": [
        "def augment_imagedata(df, df_labels, aug_factor=1, random_rotation=True, random_shear=True, random_shift=True):\n",
        "\taug_image = []\n",
        "\taug_image_labels = []\n",
        "\n",
        "\tfor num in range (0, df.shape[0]):\n",
        "\n",
        "\t\tfor i in range(0, aug_factor):\n",
        "\t\t\t# original image:\n",
        "\t\t\taug_image.append(df[num])\n",
        "\t\t\taug_image_labels.append(df_labels[num])\n",
        "\n",
        "\t\t\tif random_rotation:\n",
        "\t\t\t\taug_image.append(tf.contrib.keras.preprocessing.image.random_rotation(df[num], 20, row_axis=0, col_axis=1, channel_axis=2))\n",
        "\t\t\t\taug_image_labels.append(df_labels[num])\n",
        "\n",
        "\t\t\tif random_shear:\n",
        "\t\t\t\taug_image.append(tf.contrib.keras.preprocessing.image.random_shear(df[num], 0.2, row_axis=0, col_axis=1, channel_axis=2))\n",
        "\t\t\t\taug_image_labels.append(df_labels[num])\n",
        "\n",
        "\t\t\tif random_shift:\n",
        "\t\t\t\taug_image.append(tf.contrib.keras.preprocessing.image.random_shift(df[num], 0.2, 0.2, row_axis=0, col_axis=1, channel_axis=2))\n",
        "\t\t\t\taug_image_labels.append(df_labels[num])\n",
        "\n",
        "\treturn np.array(aug_image), np.array(aug_image_labels)"
      ],
      "execution_count": 0,
      "outputs": []
    },
    {
      "cell_type": "code",
      "metadata": {
        "id": "gkMrCkJsdfyy",
        "colab_type": "code",
        "colab": {}
      },
      "source": [
        "train_images = train_images.reshape((train_images.shape[0], 28, 28, 1))\n",
        "train_images, train_labels = augment_imagedata(train_images, train_labels, aug_factor=1, random_rotation=True, random_shift=True, random_shear=True)\n"
      ],
      "execution_count": 0,
      "outputs": []
    },
    {
      "cell_type": "code",
      "metadata": {
        "id": "idfRUs5N8DsM",
        "colab_type": "code",
        "outputId": "5571cb16-4cde-4067-f2db-a9a021f400dd",
        "colab": {
          "base_uri": "https://localhost:8080/",
          "height": 34
        }
      },
      "source": [
        "print(train_images.shape, test_images.shape)"
      ],
      "execution_count": 111,
      "outputs": [
        {
          "output_type": "stream",
          "text": [
            "(240000, 28, 28, 1) (10000, 28, 28)\n"
          ],
          "name": "stdout"
        }
      ]
    },
    {
      "cell_type": "markdown",
      "metadata": {
        "id": "-Hp4WgbR8gsp",
        "colab_type": "text"
      },
      "source": [
        "The number of images in the training set has increased from **60000 to 240000 after data augmentation.**"
      ]
    },
    {
      "cell_type": "markdown",
      "metadata": {
        "id": "92CLspYSPw4l",
        "colab_type": "text"
      },
      "source": [
        "Displaying the first 25 images after data augmentation to verify if our data is in the correct format or not before building and training our model."
      ]
    },
    {
      "cell_type": "code",
      "metadata": {
        "id": "A1GfBuf1Uq9M",
        "colab_type": "code",
        "outputId": "ade26aa3-c8d1-4543-eb3b-5cd9c62d1364",
        "colab": {
          "base_uri": "https://localhost:8080/",
          "height": 589
        }
      },
      "source": [
        "plt.figure(figsize=(10,10))\n",
        "for i in range(25):\n",
        "    plt.subplot(5,5,i+1)\n",
        "    plt.xticks([])\n",
        "    plt.yticks([])\n",
        "    plt.grid(False)\n",
        "    plt.imshow(train_images[i].reshape(28,28), cmap=plt.cm.binary)\n",
        "    plt.xlabel([train_labels[i]])\n",
        "plt.show()"
      ],
      "execution_count": 112,
      "outputs": [
        {
          "output_type": "display_data",
          "data": {
            "image/png": "[encoded data removed]",
            "text/plain": [
              "<Figure size 720x720 with 25 Axes>"
            ]
          },
          "metadata": {
            "tags": []
          }
        }
      ]
    },
    {
      "cell_type": "markdown",
      "metadata": {
        "id": "ENnxU7_vHE9W",
        "colab_type": "text"
      },
      "source": [
        "### Flattening the train and test sets"
      ]
    },
    {
      "cell_type": "code",
      "metadata": {
        "id": "koAf3syuHDkq",
        "colab_type": "code",
        "colab": {}
      },
      "source": [
        "train_images = train_images.reshape([train_images.shape[0], -1])\n",
        "test_images = test_images.reshape([test_images.shape[0], -1])"
      ],
      "execution_count": 0,
      "outputs": []
    },
    {
      "cell_type": "code",
      "metadata": {
        "id": "RqmT0xGtJbF1",
        "colab_type": "code",
        "outputId": "1e95ed0c-f651-4440-a6d4-fc82e9a108f2",
        "colab": {
          "base_uri": "https://localhost:8080/",
          "height": 34
        }
      },
      "source": [
        "print(train_images.shape, test_images.shape)"
      ],
      "execution_count": 114,
      "outputs": [
        {
          "output_type": "stream",
          "text": [
            "(240000, 784) (10000, 784)\n"
          ],
          "name": "stdout"
        }
      ]
    },
    {
      "cell_type": "code",
      "metadata": {
        "id": "Wo7wjjvUHK-2",
        "colab_type": "code",
        "outputId": "87a5dae5-9b66-441b-e041-45a693e3157f",
        "colab": {
          "base_uri": "https://localhost:8080/",
          "height": 34
        }
      },
      "source": [
        "print(train_labels.shape, test_labels.shape)"
      ],
      "execution_count": 115,
      "outputs": [
        {
          "output_type": "stream",
          "text": [
            "(240000,) (10000,)\n"
          ],
          "name": "stdout"
        }
      ]
    },
    {
      "cell_type": "markdown",
      "metadata": {
        "id": "fIJx2RKtXrCy",
        "colab_type": "text"
      },
      "source": [
        "## Building our own neural network"
      ]
    },
    {
      "cell_type": "markdown",
      "metadata": {
        "id": "4pVh2G_yX2Hh",
        "colab_type": "text"
      },
      "source": [
        "### Creating network layer"
      ]
    },
    {
      "cell_type": "code",
      "metadata": {
        "id": "VmAJO5bYWtZU",
        "colab_type": "code",
        "colab": {}
      },
      "source": [
        "class NetworkLayer:\n",
        "  def __init__(self):\n",
        "    self.weights = np.zeros(shape=(X.shape[1], 10))\n",
        "    bias = np.zeros(shape=(10,))\n",
        "\n",
        "  def fwd(self, input):\n",
        "        output = np.matmul(input, self.weights) + bias\n",
        "        return output"
      ],
      "execution_count": 0,
      "outputs": []
    },
    {
      "cell_type": "markdown",
      "metadata": {
        "id": "9SkLbgvoX-9T",
        "colab_type": "text"
      },
      "source": [
        "### Creating dense network layer and passing learning rate (alpha) as input to it."
      ]
    },
    {
      "cell_type": "code",
      "metadata": {
        "id": "Mr7bNt96YMWq",
        "colab_type": "code",
        "colab": {}
      },
      "source": [
        "class DenseNetworkLayer(NetworkLayer):\n",
        "    def __init__(self, inputs, outputs, alpha=0.1):\n",
        "        # initializing weights as small random numbers using normal distribution\n",
        "        self.weights = np.random.randn(inputs, outputs)*0.01\n",
        "        self.bias = np.zeros(outputs)\n",
        "        self.alpha = alpha\n",
        "\n",
        "    def fwd(self,input):\n",
        "        return np.matmul(input, self.weights) + self.bias\n",
        "\n",
        "    def bwd(self,input,grad_output):\n",
        "        grad_input = np.dot(grad_output,np.transpose(self.weights))\n",
        "        grad_weights = np.transpose(np.dot(np.transpose(grad_output),input))\n",
        "        grad_bias = np.sum(grad_output, axis = 0)\n",
        "        # using stochastic gradient descent method in our model\n",
        "        self.bias = self.bias - self.alpha * grad_bias\n",
        "        self.weights = self.weights - self.alpha * grad_weights\n",
        "        return grad_input"
      ],
      "execution_count": 0,
      "outputs": []
    },
    {
      "cell_type": "markdown",
      "metadata": {
        "id": "_f-jAlmnTYIQ",
        "colab_type": "text"
      },
      "source": [
        "### Creating Activation class (using ReLu)"
      ]
    },
    {
      "cell_type": "code",
      "metadata": {
        "id": "Cm8YrFhyx86r",
        "colab_type": "code",
        "colab": {}
      },
      "source": [
        "class ReLu(NetworkLayer):\n",
        "    def __init__(self):\n",
        "        pass\n",
        "\n",
        "    def fwd(self, input):\n",
        "        return np.maximum(0,input)\n",
        "\n",
        "    def bwd(self, input, grad_output):\n",
        "        return grad_output*(input > 0)"
      ],
      "execution_count": 0,
      "outputs": []
    },
    {
      "cell_type": "markdown",
      "metadata": {
        "id": "d7cZIDIwVBqx",
        "colab_type": "text"
      },
      "source": [
        "### Defining loss function"
      ]
    },
    {
      "cell_type": "code",
      "metadata": {
        "id": "8tGVtboAU5q6",
        "colab_type": "code",
        "colab": {}
      },
      "source": [
        "def crossentropy(lg,res):\n",
        "    ans = lg[np.arange(len(lg)),res]\n",
        "    f_Entropy = - ans + np.log(np.sum(np.exp(lg),axis=-1))\n",
        "    return f_Entropy\n",
        "\n",
        "def grad_crossentropy(lg,res):\n",
        "    one_ans = np.zeros_like(lg)\n",
        "    one_ans[np.arange(len(lg)),res] = 1 \n",
        "    softmax = np.exp(lg) / np.exp(lg).sum(axis=-1,keepdims=True) \n",
        "    return (- one_ans + softmax) / lg.shape[0]"
      ],
      "execution_count": 0,
      "outputs": []
    },
    {
      "cell_type": "markdown",
      "metadata": {
        "id": "anheTvIgehBt",
        "colab_type": "text"
      },
      "source": [
        "### Defining our 3 layers network model using RELU as activation layer. Also, using different learning rates at different layers"
      ]
    },
    {
      "cell_type": "code",
      "metadata": {
        "id": "7FQwrCOveflj",
        "colab_type": "code",
        "colab": {}
      },
      "source": [
        "#creating a list for our network layers\n",
        "nn = []\n",
        "#defining input layer\n",
        "nn.append(DenseNetworkLayer(train_images.shape[1],200))\n",
        "nn.append(ReLu())\n",
        "#defining Hidden_Layer 1\n",
        "nn.append(DenseNetworkLayer(200,100,alpha=0.5))\n",
        "nn.append(ReLu())\n",
        "#defining Hidden_Layer 2\n",
        "nn.append(DenseNetworkLayer(100,200,alpha=0.3))\n",
        "nn.append(ReLu())\n",
        "#defining output layer\n",
        "nn.append(DenseNetworkLayer(200,10))"
      ],
      "execution_count": 0,
      "outputs": []
    },
    {
      "cell_type": "markdown",
      "metadata": {
        "id": "Vvr_o22cgqxs",
        "colab_type": "text"
      },
      "source": [
        "### Passing the above created neural network list to the forward function as input and iterating through all the defined layers."
      ]
    },
    {
      "cell_type": "code",
      "metadata": {
        "id": "lSQujcb2grib",
        "colab_type": "code",
        "colab": {}
      },
      "source": [
        "def fwd(nn, batch):\n",
        "  res = []\n",
        "  input = batch\n",
        "  for i in range(len(nn)):\n",
        "    res.append(nn[i].fwd(batch))\n",
        "    batch = nn[i].fwd(batch)\n",
        "  assert len(res) == len(nn)\n",
        "  return res"
      ],
      "execution_count": 0,
      "outputs": []
    },
    {
      "cell_type": "markdown",
      "metadata": {
        "id": "G4JjnjclijDK",
        "colab_type": "text"
      },
      "source": [
        "### Making predictions on our neural network"
      ]
    },
    {
      "cell_type": "code",
      "metadata": {
        "id": "rncRhZUmijon",
        "colab_type": "code",
        "colab": {}
      },
      "source": [
        "def pred(nn,batch):\n",
        "  lg = fwd(nn,batch)[-1]\n",
        "  return lg.argmax(axis=-1)"
      ],
      "execution_count": 0,
      "outputs": []
    },
    {
      "cell_type": "markdown",
      "metadata": {
        "id": "QqjkALrai4vF",
        "colab_type": "text"
      },
      "source": [
        "### Using batch 'a' and 'b' to train our network batch"
      ]
    },
    {
      "cell_type": "code",
      "metadata": {
        "id": "r2llBxqfi5SD",
        "colab_type": "code",
        "colab": {}
      },
      "source": [
        "def trainNetwork(nn,a,b):\n",
        "  #getting layer activations for our model\n",
        "  l_act = fwd(nn,a)\n",
        "  lg = l_act[-1]\n",
        "    \n",
        "  #computing init gradient and loss\n",
        "  loss = crossentropy(lg,b)\n",
        "  layer_grad = grad_crossentropy(lg,b)\n",
        "  for i in range(1, len(nn)):\n",
        "      layer_grad = nn[len(nn) - i].bwd(l_act[len(nn) - i - 1], layer_grad)\n",
        "  return np.mean(loss)"
      ],
      "execution_count": 0,
      "outputs": []
    },
    {
      "cell_type": "markdown",
      "metadata": {
        "id": "0r59ihmIlnYD",
        "colab_type": "text"
      },
      "source": [
        "### Defining minibatch gradient descent"
      ]
    },
    {
      "cell_type": "code",
      "metadata": {
        "id": "54IvcgpDlnyc",
        "colab_type": "code",
        "colab": {}
      },
      "source": [
        "def miniBatchGrad(inputs, res, batch_size, shuffle=False):\n",
        "    assert len(inputs) == len(res)\n",
        "    if shuffle:\n",
        "        idx = np.random.permutation(len(inputs))\n",
        "    for idx_1 in trange(0, len(inputs) - batch_size + 1, batch_size):\n",
        "        if shuffle:\n",
        "            x = idx[idx_1:idx_1 + batch_size]\n",
        "        else:\n",
        "            x = slice(idx_1, idx_1 + batch_size)\n",
        "        yield inputs[x], res[x]"
      ],
      "execution_count": 0,
      "outputs": []
    },
    {
      "cell_type": "markdown",
      "metadata": {
        "id": "t39WGwgym29w",
        "colab_type": "text"
      },
      "source": [
        "## Training our model using minibatch gradient descent"
      ]
    },
    {
      "cell_type": "code",
      "metadata": {
        "id": "BrR-r6iUm3X4",
        "colab_type": "code",
        "outputId": "433ffdd1-460a-4325-cca6-d2e379b3dcaf",
        "colab": {
          "base_uri": "https://localhost:8080/",
          "height": 612
        }
      },
      "source": [
        "#Creating below two lists to store the values obtained for each cycle\n",
        "train_log = []\n",
        "test_log = []\n",
        "\n",
        "for i in range(5):\n",
        "  #using minibatch function for obtaining training data batches\n",
        "  for batch_1,batch_2 in miniBatchGrad(train_images,train_labels,batch_size=32,shuffle=True):\n",
        "    trainNetwork(nn,batch_1,batch_2)\n",
        "  #updating lists with each cycle results accuracies\n",
        "  train_log.append(np.mean(pred(nn,train_images)==train_labels))\n",
        "  test_log.append(np.mean(pred(nn,test_images)==test_labels))\n",
        "    \n",
        "  #displaying the results obtained\n",
        "  print(\"\\n Cycle\",i)\n",
        "  print(\"\\n Training accuracy:\",train_log[-1])\n",
        "  print(\"\\n Test accuracy:\",test_log[-1])"
      ],
      "execution_count": 125,
      "outputs": [
        {
          "output_type": "stream",
          "text": [
            "100%|██████████| 7500/7500 [00:20<00:00, 361.95it/s]\n",
            "  0%|          | 32/7500 [00:00<00:23, 317.04it/s]"
          ],
          "name": "stderr"
        },
        {
          "output_type": "stream",
          "text": [
            "\n",
            " Cycle 0\n",
            "\n",
            " Training accuracy: 0.8505958333333333\n",
            "\n",
            " Test accuracy: 0.9266\n"
          ],
          "name": "stdout"
        },
        {
          "output_type": "stream",
          "text": [
            "100%|██████████| 7500/7500 [00:21<00:00, 355.09it/s]\n",
            "  0%|          | 36/7500 [00:00<00:20, 355.52it/s]"
          ],
          "name": "stderr"
        },
        {
          "output_type": "stream",
          "text": [
            "\n",
            " Cycle 1\n",
            "\n",
            " Training accuracy: 0.8957458333333334\n",
            "\n",
            " Test accuracy: 0.9475\n"
          ],
          "name": "stdout"
        },
        {
          "output_type": "stream",
          "text": [
            "100%|██████████| 7500/7500 [00:20<00:00, 358.96it/s]\n",
            "  1%|          | 39/7500 [00:00<00:19, 387.98it/s]"
          ],
          "name": "stderr"
        },
        {
          "output_type": "stream",
          "text": [
            "\n",
            " Cycle 2\n",
            "\n",
            " Training accuracy: 0.9210208333333333\n",
            "\n",
            " Test accuracy: 0.9545\n"
          ],
          "name": "stdout"
        },
        {
          "output_type": "stream",
          "text": [
            "100%|██████████| 7500/7500 [00:20<00:00, 362.80it/s]\n",
            "  1%|          | 38/7500 [00:00<00:19, 378.30it/s]"
          ],
          "name": "stderr"
        },
        {
          "output_type": "stream",
          "text": [
            "\n",
            " Cycle 3\n",
            "\n",
            " Training accuracy: 0.9361166666666667\n",
            "\n",
            " Test accuracy: 0.9597\n"
          ],
          "name": "stdout"
        },
        {
          "output_type": "stream",
          "text": [
            "100%|██████████| 7500/7500 [00:20<00:00, 362.34it/s]\n"
          ],
          "name": "stderr"
        },
        {
          "output_type": "stream",
          "text": [
            "\n",
            " Cycle 4\n",
            "\n",
            " Training accuracy: 0.9430583333333333\n",
            "\n",
            " Test accuracy: 0.9626\n"
          ],
          "name": "stdout"
        }
      ]
    },
    {
      "cell_type": "markdown",
      "metadata": {
        "id": "gz40PJoQe8DF",
        "colab_type": "text"
      },
      "source": [
        "## Evaluating model"
      ]
    },
    {
      "cell_type": "code",
      "metadata": {
        "id": "rFsXHo_XdxD4",
        "colab_type": "code",
        "colab": {}
      },
      "source": [
        "# Predicting the labels for the test dataset\n",
        "y_pred = pred(nn, test_images)"
      ],
      "execution_count": 0,
      "outputs": []
    },
    {
      "cell_type": "code",
      "metadata": {
        "id": "aCaZiNvNLLsP",
        "colab_type": "code",
        "outputId": "ba94c7c2-86e2-4bd8-e81b-8510802000f0",
        "colab": {
          "base_uri": "https://localhost:8080/",
          "height": 34
        }
      },
      "source": [
        "# Computing accuracy for test data prediction\n",
        "from sklearn.metrics import accuracy_score\n",
        "accuracy_score(test_labels,y_pred)*100"
      ],
      "execution_count": 127,
      "outputs": [
        {
          "output_type": "execute_result",
          "data": {
            "text/plain": [
              "96.26"
            ]
          },
          "metadata": {
            "tags": []
          },
          "execution_count": 127
        }
      ]
    },
    {
      "cell_type": "markdown",
      "metadata": {
        "id": "SRIVeKjR9U50",
        "colab_type": "text"
      },
      "source": [
        "**Our model is yielding an accuracy of approx 96% which is pretty good.**"
      ]
    },
    {
      "cell_type": "markdown",
      "metadata": {
        "id": "VelMyuW6fML-",
        "colab_type": "text"
      },
      "source": [
        "### Confusion Matrix plot"
      ]
    },
    {
      "cell_type": "code",
      "metadata": {
        "id": "X5Umi38jqzd8",
        "colab_type": "code",
        "outputId": "475dffde-b5cc-464e-b57f-074019a02455",
        "colab": {
          "base_uri": "https://localhost:8080/",
          "height": 311
        }
      },
      "source": [
        "def confusion_matrix_plot(cm, classes,\n",
        "                          normalize=False,\n",
        "                          title='Confusion matrix',\n",
        "                          cmap=plt.cm.Blues):\n",
        "    \n",
        "    plt.imshow(cm, interpolation='nearest', cmap=cmap)\n",
        "    plt.title(title)\n",
        "    plt.colorbar()\n",
        "    tick_marks = np.arange(len(classes))\n",
        "    plt.xticks(tick_marks, classes, rotation=45)\n",
        "    plt.yticks(tick_marks, classes)\n",
        "\n",
        "    if normalize:\n",
        "        cm = cm.astype('float') / cm.sum(axis=1)[:, np.newaxis]\n",
        "\n",
        "    thresh = cm.max() / 2.\n",
        "    for i, j in itertools.product(range(cm.shape[0]), range(cm.shape[1])):\n",
        "        plt.text(j, i, cm[i, j],\n",
        "                 horizontalalignment=\"center\",\n",
        "                 color=\"white\" if cm[i, j] > thresh else \"black\")\n",
        "\n",
        "    plt.tight_layout()\n",
        "    plt.ylabel('True label')\n",
        "    plt.xlabel('Predicted label')\n",
        "\n",
        "# Predicting the labels for the test dataset\n",
        "y_pred = pred(nn, test_images)\n",
        "# computing the confusion matrix\n",
        "conf_mtx = confusion_matrix(test_labels, y_pred) \n",
        "# plotting the confusion matrix by calling the above function\n",
        "confusion_matrix_plot(conf_mtx, classes = range(10)) "
      ],
      "execution_count": 128,
      "outputs": [
        {
          "output_type": "display_data",
          "data": {
            "image/png": "[encoded data removed]",
            "text/plain": [
              "<Figure size 432x288 with 2 Axes>"
            ]
          },
          "metadata": {
            "tags": []
          }
        }
      ]
    },
    {
      "cell_type": "markdown",
      "metadata": {
        "id": "1ZtyBHBdfZxe",
        "colab_type": "text"
      },
      "source": [
        "### Displaying top 25 errors"
      ]
    },
    {
      "cell_type": "code",
      "metadata": {
        "id": "ENRcJcfJumWv",
        "colab_type": "code",
        "colab": {
          "base_uri": "https://localhost:8080/",
          "height": 589
        },
        "outputId": "4283681f-5425-46ad-b994-72868e2bcb37"
      },
      "source": [
        "y_pred = pred(nn, test_images)\n",
        "errors_indices = []\n",
        "for i in range(0, len(y_pred)):\n",
        "  #print(\"y_pred = \" + str(y_pred[i]))\n",
        "  #print(\"test_lable = \" + str(test_labels[i]))\n",
        "  if(y_pred[i] != test_labels[i]):\n",
        "    errors_indices.append(i)\n",
        "\n",
        "plt.figure(figsize=(10,10))\n",
        "for i in range(25):\n",
        "    plt.subplot(5,5,i+1)\n",
        "    plt.xticks([])\n",
        "    plt.yticks([])\n",
        "    plt.grid(False)\n",
        "    plt.imshow(test_images[errors_indices[i]].reshape(28,28), cmap=plt.cm.binary)\n",
        "    plt.xlabel(\"Predicted Label:\" + str([y_pred[errors_indices[i]]]))\n",
        "plt.show()"
      ],
      "execution_count": 129,
      "outputs": [
        {
          "output_type": "display_data",
          "data": {
            "image/png": "[encoded data removed]",
            "text/plain": [
              "<Figure size 720x720 with 25 Axes>"
            ]
          },
          "metadata": {
            "tags": []
          }
        }
      ]
    }
  ]
}