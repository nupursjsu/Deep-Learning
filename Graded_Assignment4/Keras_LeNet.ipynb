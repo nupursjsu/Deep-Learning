{
  "nbformat": 4,
  "nbformat_minor": 0,
  "metadata": {
    "colab": {
      "name": "Keras_LeNet.ipynb",
      "provenance": [],
      "authorship_tag": "ABX9TyORT3qqnPGhwY4br5a/YFfb",
      "include_colab_link": true
    },
    "kernelspec": {
      "name": "python3",
      "display_name": "Python 3"
    },
    "accelerator": "GPU"
  },
  "cells": [
    {
      "cell_type": "markdown",
      "metadata": {
        "id": "view-in-github",
        "colab_type": "text"
      },
      "source": [
        "<a href=\"https://colab.research.google.com/github/nupursjsu/Deep-Learning/blob/master/Graded_Assignment4/Keras_LeNet.ipynb\" target=\"_parent\"><img src=\"https://colab.research.google.com/assets/colab-badge.svg\" alt=\"Open In Colab\"/></a>"
      ]
    },
    {
      "cell_type": "markdown",
      "metadata": {
        "id": "fIiFgkexj9qw",
        "colab_type": "text"
      },
      "source": [
        "#Implementing LeNet using Keras (Using MNIST dataset)"
      ]
    },
    {
      "cell_type": "markdown",
      "metadata": {
        "id": "2cNYud87kC56",
        "colab_type": "text"
      },
      "source": [
        "## Importing necessary libraries"
      ]
    },
    {
      "cell_type": "code",
      "metadata": {
        "id": "UofOT7sBkCfd",
        "colab_type": "code",
        "colab": {
          "base_uri": "https://localhost:8080/",
          "height": 34
        },
        "outputId": "7c96e3ef-d513-4ee4-e81e-a2c0f96fb0ea"
      },
      "source": [
        "from keras.models import Sequential\n",
        "from keras.layers.convolutional import Conv2D\n",
        "from keras.layers.convolutional import MaxPooling2D\n",
        "\n",
        "from keras.layers.core import Activation\n",
        "from keras.layers.core import Flatten\n",
        "from keras.layers.core import Dense\n",
        "from keras import backend as K\n",
        "\n",
        "from sklearn.model_selection import train_test_split\n",
        "from keras.datasets import mnist\n",
        "from keras.optimizers import SGD\n",
        "from keras.utils import np_utils\n",
        "from keras import backend as K\n",
        "import numpy as np\n",
        "import argparse\n",
        "import cv2"
      ],
      "execution_count": 4,
      "outputs": [
        {
          "output_type": "stream",
          "text": [
            "Using TensorFlow backend.\n"
          ],
          "name": "stderr"
        }
      ]
    },
    {
      "cell_type": "markdown",
      "metadata": {
        "id": "Ts4xqMqAoj_s",
        "colab_type": "text"
      },
      "source": [
        "## Building LeNet model"
      ]
    },
    {
      "cell_type": "code",
      "metadata": {
        "id": "7lqaLLg-iLpf",
        "colab_type": "code",
        "colab": {}
      },
      "source": [
        "class LeNet:\n",
        "      def build_model(channel_No, ri, ci, class_No, activation=\"relu\"):\n",
        "\n",
        "          #Defining the model\n",
        "          lenet_model = Sequential()\n",
        "\n",
        "          in_Shape = (ri, ci, channel_No)\n",
        "          if K.image_data_format() == \"channels_first\":\n",
        "            in_Shape = (channel_No, ri , ci)\n",
        "          lenet_model.add(Conv2D(20, 5, padding=\"same\",input_shape=in_Shape))\n",
        "          lenet_model.add(Activation(activation))\n",
        "          lenet_model.add(MaxPooling2D(pool_size=(2, 2), strides=(2, 2)))\n",
        "\n",
        "          lenet_model.add(Conv2D(50, 5, padding=\"same\"))\n",
        "          lenet_model.add(Activation(activation))\n",
        "          lenet_model.add(MaxPooling2D(pool_size=(2, 2), strides=(2, 2)))\n",
        "\n",
        "          lenet_model.add(Flatten())\n",
        "          lenet_model.add(Dense(500))\n",
        "          lenet_model.add(Activation(activation))\n",
        "          \n",
        "          lenet_model.add(Dense(class_No))\n",
        "          lenet_model.add(Activation(\"softmax\"))\n",
        "\n",
        "          return lenet_model"
      ],
      "execution_count": 0,
      "outputs": []
    },
    {
      "cell_type": "markdown",
      "metadata": {
        "id": "EsnWWo8jpZrY",
        "colab_type": "text"
      },
      "source": [
        "## Loading MNIST dataset"
      ]
    },
    {
      "cell_type": "code",
      "metadata": {
        "id": "f7Zt2PQQpXEB",
        "colab_type": "code",
        "colab": {
          "base_uri": "https://localhost:8080/",
          "height": 51
        },
        "outputId": "16f3236d-58fc-443c-9207-23f3f031459b"
      },
      "source": [
        "((X_train, Y_train), (X_test, Y_test)) = mnist.load_data()"
      ],
      "execution_count": 6,
      "outputs": [
        {
          "output_type": "stream",
          "text": [
            "Downloading data from https://s3.amazonaws.com/img-datasets/mnist.npz\n",
            "11493376/11490434 [==============================] - 1s 0us/step\n"
          ],
          "name": "stdout"
        }
      ]
    },
    {
      "cell_type": "markdown",
      "metadata": {
        "id": "eiCWSGa3ppwg",
        "colab_type": "text"
      },
      "source": [
        "## Preprocessing data"
      ]
    },
    {
      "cell_type": "code",
      "metadata": {
        "id": "NJ3cAEj9pmPZ",
        "colab_type": "code",
        "colab": {}
      },
      "source": [
        "#Reshaping data\n",
        "if K.image_data_format() == \"channels_first\":\n",
        "\tX_train = X_train.reshape((X_train.shape[0], 1, 28, 28))\n",
        "\tX_test = X_test.reshape((X_test.shape[0], 1, 28, 28))\n",
        "else:\n",
        "\tX_train = X_train.reshape((X_train.shape[0], 28, 28, 1))\n",
        "\tX_test = X_test.reshape((X_test.shape[0], 28, 28, 1))"
      ],
      "execution_count": 0,
      "outputs": []
    },
    {
      "cell_type": "code",
      "metadata": {
        "id": "ZHWw4KnHp636",
        "colab_type": "code",
        "colab": {}
      },
      "source": [
        "#Normalizing pixel values\n",
        "X_train = X_train.astype(\"float32\") / 255.0\n",
        "X_test = X_test.astype(\"float32\") / 255.0"
      ],
      "execution_count": 0,
      "outputs": []
    },
    {
      "cell_type": "code",
      "metadata": {
        "id": "QMqGZ6AsqIEd",
        "colab_type": "code",
        "colab": {}
      },
      "source": [
        "Y_train = np_utils.to_categorical(Y_train, 10)\n",
        "Y_test = np_utils.to_categorical(Y_test, 10)"
      ],
      "execution_count": 0,
      "outputs": []
    },
    {
      "cell_type": "markdown",
      "metadata": {
        "id": "iNRBs9CGqgLS",
        "colab_type": "text"
      },
      "source": [
        "## Initializing parameters and compiling LeNet model"
      ]
    },
    {
      "cell_type": "code",
      "metadata": {
        "id": "ahV7DW8JqgsV",
        "colab_type": "code",
        "colab": {}
      },
      "source": [
        "optimizer = SGD(lr=0.01)\n",
        "lenet_model = LeNet.build_model(1, 28, 28,10)\n",
        "lenet_model.compile(loss=\"categorical_crossentropy\", optimizer=optimizer,metrics=[\"accuracy\"])"
      ],
      "execution_count": 0,
      "outputs": []
    },
    {
      "cell_type": "markdown",
      "metadata": {
        "id": "14vUT26DrCfs",
        "colab_type": "text"
      },
      "source": [
        "## Training model"
      ]
    },
    {
      "cell_type": "code",
      "metadata": {
        "id": "a_wDsV7srFUF",
        "colab_type": "code",
        "colab": {
          "base_uri": "https://localhost:8080/",
          "height": 714
        },
        "outputId": "29aaba21-060c-421c-9ac0-0f70416df11e"
      },
      "source": [
        "lenet_model.fit(X_train, Y_train, batch_size=128, epochs=20,verbose=1)\n",
        "print(\"Finished training\")"
      ],
      "execution_count": 13,
      "outputs": [
        {
          "output_type": "stream",
          "text": [
            "Epoch 1/20\n",
            "60000/60000 [==============================] - 2s 38us/step - loss: 0.0400 - accuracy: 0.9875\n",
            "Epoch 2/20\n",
            "60000/60000 [==============================] - 2s 37us/step - loss: 0.0385 - accuracy: 0.9884\n",
            "Epoch 3/20\n",
            "60000/60000 [==============================] - 2s 37us/step - loss: 0.0367 - accuracy: 0.9892\n",
            "Epoch 4/20\n",
            "60000/60000 [==============================] - 2s 37us/step - loss: 0.0355 - accuracy: 0.9894\n",
            "Epoch 5/20\n",
            "60000/60000 [==============================] - 2s 37us/step - loss: 0.0340 - accuracy: 0.9896\n",
            "Epoch 6/20\n",
            "60000/60000 [==============================] - 2s 38us/step - loss: 0.0332 - accuracy: 0.9903\n",
            "Epoch 7/20\n",
            "60000/60000 [==============================] - 2s 38us/step - loss: 0.0318 - accuracy: 0.9904\n",
            "Epoch 8/20\n",
            "60000/60000 [==============================] - 2s 38us/step - loss: 0.0306 - accuracy: 0.9912\n",
            "Epoch 9/20\n",
            "60000/60000 [==============================] - 2s 37us/step - loss: 0.0294 - accuracy: 0.9915\n",
            "Epoch 10/20\n",
            "60000/60000 [==============================] - 2s 37us/step - loss: 0.0283 - accuracy: 0.9918\n",
            "Epoch 11/20\n",
            "60000/60000 [==============================] - 2s 37us/step - loss: 0.0274 - accuracy: 0.9918\n",
            "Epoch 12/20\n",
            "60000/60000 [==============================] - 2s 38us/step - loss: 0.0272 - accuracy: 0.9918\n",
            "Epoch 13/20\n",
            "60000/60000 [==============================] - 2s 37us/step - loss: 0.0257 - accuracy: 0.9925\n",
            "Epoch 14/20\n",
            "60000/60000 [==============================] - 2s 37us/step - loss: 0.0248 - accuracy: 0.9928\n",
            "Epoch 15/20\n",
            "60000/60000 [==============================] - 2s 38us/step - loss: 0.0242 - accuracy: 0.9927\n",
            "Epoch 16/20\n",
            "60000/60000 [==============================] - 2s 38us/step - loss: 0.0232 - accuracy: 0.9934\n",
            "Epoch 17/20\n",
            "60000/60000 [==============================] - 2s 38us/step - loss: 0.0227 - accuracy: 0.9931\n",
            "Epoch 18/20\n",
            "60000/60000 [==============================] - 2s 37us/step - loss: 0.0226 - accuracy: 0.9934\n",
            "Epoch 19/20\n",
            "60000/60000 [==============================] - 2s 37us/step - loss: 0.0218 - accuracy: 0.9933\n",
            "Epoch 20/20\n",
            "60000/60000 [==============================] - 2s 38us/step - loss: 0.0211 - accuracy: 0.9940\n",
            "Finished training\n"
          ],
          "name": "stdout"
        }
      ]
    },
    {
      "cell_type": "markdown",
      "metadata": {
        "id": "HJ6Qe5rArE9o",
        "colab_type": "text"
      },
      "source": [
        "## Evaluating model"
      ]
    },
    {
      "cell_type": "code",
      "metadata": {
        "id": "SGxGr6LZrTKb",
        "colab_type": "code",
        "colab": {
          "base_uri": "https://localhost:8080/",
          "height": 51
        },
        "outputId": "e58a6114-580c-4796-986e-aa1e4f752380"
      },
      "source": [
        "(loss, accuracy) = lenet_model.evaluate(X_test, Y_test,batch_size=128, verbose=1)\n",
        "print(\"Model accuracy: {:.2f}%\".format(accuracy * 100))"
      ],
      "execution_count": 14,
      "outputs": [
        {
          "output_type": "stream",
          "text": [
            "10000/10000 [==============================] - 0s 21us/step\n",
            "Model accuracy: 98.98%\n"
          ],
          "name": "stdout"
        }
      ]
    },
    {
      "cell_type": "markdown",
      "metadata": {
        "id": "LIigRCShrn2B",
        "colab_type": "text"
      },
      "source": [
        "LeNet model gave an accuracy of approx. 99% on MNIST dataset."
      ]
    }
  ]
}