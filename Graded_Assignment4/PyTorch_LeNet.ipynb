{
  "nbformat": 4,
  "nbformat_minor": 0,
  "metadata": {
    "colab": {
      "name": "PyTorch_LeNet.ipynb",
      "provenance": [],
      "collapsed_sections": [],
      "authorship_tag": "ABX9TyNVT63ZDSpUw28YoXkbTZjP",
      "include_colab_link": true
    },
    "kernelspec": {
      "name": "python3",
      "display_name": "Python 3"
    },
    "accelerator": "GPU"
  },
  "cells": [
    {
      "cell_type": "markdown",
      "metadata": {
        "id": "view-in-github",
        "colab_type": "text"
      },
      "source": [
        "<a href=\"https://colab.research.google.com/github/nupursjsu/Deep-Learning/blob/master/Graded_Assignment4/PyTorch_LeNet.ipynb\" target=\"_parent\"><img src=\"https://colab.research.google.com/assets/colab-badge.svg\" alt=\"Open In Colab\"/></a>"
      ]
    },
    {
      "cell_type": "markdown",
      "metadata": {
        "id": "7gghViXQsTYj",
        "colab_type": "text"
      },
      "source": [
        "# Implementing LeNet using PyTorch (Using MNIST dataset)"
      ]
    },
    {
      "cell_type": "markdown",
      "metadata": {
        "id": "yNJpsu7Tsnhz",
        "colab_type": "text"
      },
      "source": [
        "## Importing required libraries"
      ]
    },
    {
      "cell_type": "code",
      "metadata": {
        "id": "qSOF1FkvsnP6",
        "colab_type": "code",
        "colab": {}
      },
      "source": [
        "import torch\n",
        "import torchvision\n",
        "import torchvision.transforms as transforms\n",
        "import torch.nn as nn\n",
        "import torch.nn.functional as F\n",
        "import torch.optim as optim\n",
        "import numpy as np\n",
        "import matplotlib.pyplot as plt\n",
        "import time\n",
        "from torchvision import datasets"
      ],
      "execution_count": 0,
      "outputs": []
    },
    {
      "cell_type": "markdown",
      "metadata": {
        "id": "K9HOeJwTs-lt",
        "colab_type": "text"
      },
      "source": [
        "## Loading MNIST dataset"
      ]
    },
    {
      "cell_type": "code",
      "metadata": {
        "id": "TAUyQh3vsGZP",
        "colab_type": "code",
        "colab": {}
      },
      "source": [
        "transformer = transforms.Compose([transforms.ToTensor(),transforms.Normalize((0.5,), (0.5,))])"
      ],
      "execution_count": 0,
      "outputs": []
    },
    {
      "cell_type": "code",
      "metadata": {
        "id": "yDT-tV5Us7wg",
        "colab_type": "code",
        "colab": {}
      },
      "source": [
        "train_download = datasets.MNIST(root = './data',train = True,download = True, transform = transformer)\n",
        "train_data = torch.utils.data.DataLoader(train_download, batch_size = 4,shuffle = True)\n",
        " \n",
        "test_download = datasets.MNIST(root = './data',train = False,download = True,transform = transformer)\n",
        "test_data = torch.utils.data.DataLoader(test_download, batch_size = 4,shuffle = False)"
      ],
      "execution_count": 0,
      "outputs": []
    },
    {
      "cell_type": "markdown",
      "metadata": {
        "id": "eCWoMsj2tlx3",
        "colab_type": "text"
      },
      "source": [
        "## Inspecting first few images in dataset"
      ]
    },
    {
      "cell_type": "code",
      "metadata": {
        "id": "mBHKZKaftgdL",
        "colab_type": "code",
        "colab": {
          "base_uri": "https://localhost:8080/",
          "height": 192
        },
        "outputId": "f08cd298-076c-4229-bbce-18964d38ff2c"
      },
      "source": [
        "for btch in train_data:\n",
        "    batch = btch\n",
        "    break\n",
        "\n",
        "plt.figure(figsize=(12, 8))\n",
        "for i in range (batch[0].shape[0]):\n",
        "    plt.subplot(1, 4, i+1)\n",
        "    plt.axis('off')\n",
        "    plt.imshow(batch[0][i].reshape(28, 28), cmap='gray')\n",
        "    plt.title(int(batch[1][i]))\n",
        "plt.show()"
      ],
      "execution_count": 46,
      "outputs": [
        {
          "output_type": "display_data",
          "data": {
            "image/png": "[encoded data removed]",
            "text/plain": [
              "<Figure size 864x576 with 4 Axes>"
            ]
          },
          "metadata": {
            "tags": [],
            "needs_background": "light"
          }
        }
      ]
    },
    {
      "cell_type": "markdown",
      "metadata": {
        "id": "wq4XCk-nt3T4",
        "colab_type": "text"
      },
      "source": [
        "## Defining LeNet model"
      ]
    },
    {
      "cell_type": "code",
      "metadata": {
        "id": "sShCxgJxtzyT",
        "colab_type": "code",
        "colab": {}
      },
      "source": [
        "class LeNet(nn.Module):\n",
        "\n",
        "    def __init__(self):\n",
        "        super(LeNet, self).__init__()\n",
        "        self.conv1 = nn.Conv2d(in_channels=1, out_channels=6, kernel_size=5)\n",
        "        self.conv2 = nn.Conv2d(in_channels=6, out_channels=16, kernel_size=5)\n",
        "        self.fc1 = nn.Linear(in_features=256, out_features=120)\n",
        "        self.fc2 = nn.Linear(in_features=120, out_features=84)\n",
        "        self.fc3 = nn.Linear(in_features=84, out_features=10)\n",
        "        \n",
        "    def forward(self, n):\n",
        "        n = F.relu(self.conv1(n))\n",
        "        n = F.max_pool2d(n, kernel_size=2)\n",
        "        n = F.relu(self.conv2(n))\n",
        "        n = F.max_pool2d(n, kernel_size=2)\n",
        "        n = n.view(n.size(0), -1)\n",
        "        n = F.relu(self.fc1(n))\n",
        "        n = F.relu(self.fc2(n))\n",
        "        n = self.fc3(n)\n",
        "        return n"
      ],
      "execution_count": 0,
      "outputs": []
    },
    {
      "cell_type": "code",
      "metadata": {
        "id": "XlJwkZi1urvM",
        "colab_type": "code",
        "colab": {}
      },
      "source": [
        "#Switching to GPU if available\n",
        "device = torch.device('cuda:0' if torch.cuda.is_available() else 'cpu')"
      ],
      "execution_count": 0,
      "outputs": []
    },
    {
      "cell_type": "code",
      "metadata": {
        "id": "NA_mRV7uvAGp",
        "colab_type": "code",
        "colab": {
          "base_uri": "https://localhost:8080/",
          "height": 136
        },
        "outputId": "d86f2cb5-f0c5-401a-c659-92ba34b065b1"
      },
      "source": [
        "lenet = LeNet().to(device)\n",
        "lenet"
      ],
      "execution_count": 49,
      "outputs": [
        {
          "output_type": "execute_result",
          "data": {
            "text/plain": [
              "LeNet(\n",
              "  (conv1): Conv2d(1, 6, kernel_size=(5, 5), stride=(1, 1))\n",
              "  (conv2): Conv2d(6, 16, kernel_size=(5, 5), stride=(1, 1))\n",
              "  (fc1): Linear(in_features=256, out_features=120, bias=True)\n",
              "  (fc2): Linear(in_features=120, out_features=84, bias=True)\n",
              "  (fc3): Linear(in_features=84, out_features=10, bias=True)\n",
              ")"
            ]
          },
          "metadata": {
            "tags": []
          },
          "execution_count": 49
        }
      ]
    },
    {
      "cell_type": "markdown",
      "metadata": {
        "id": "eqB4Ay-DvICu",
        "colab_type": "text"
      },
      "source": [
        "## Defining loss function and optimizer"
      ]
    },
    {
      "cell_type": "code",
      "metadata": {
        "id": "11ljMfKKvL9d",
        "colab_type": "code",
        "colab": {}
      },
      "source": [
        "criterion = nn.CrossEntropyLoss()\n",
        "optimizer = optim.SGD(lenet.parameters(), lr=0.001, momentum=0.9)"
      ],
      "execution_count": 0,
      "outputs": []
    },
    {
      "cell_type": "markdown",
      "metadata": {
        "id": "EZ4X3rxgvqpB",
        "colab_type": "text"
      },
      "source": [
        "## Training the LeNet model"
      ]
    },
    {
      "cell_type": "code",
      "metadata": {
        "id": "czF6_Jj9vw9N",
        "colab_type": "code",
        "colab": {
          "base_uri": "https://localhost:8080/",
          "height": 102
        },
        "outputId": "97cf4368-f530-4cb5-b244-0873d2e7d5ea"
      },
      "source": [
        "def train_model(lenet):\n",
        "\n",
        "    for epoch in range(1): \n",
        "        running_loss = 0.0\n",
        "        for i, data in enumerate(train_data, 0):\n",
        "            inputs, labels = data[0].to(device, non_blocking=True), data[1].to(device, non_blocking=True)\n",
        "            optimizer.zero_grad()\n",
        "            outputs = lenet(inputs)\n",
        "            loss = criterion(outputs, labels)\n",
        "            loss.backward()\n",
        "            optimizer.step()\n",
        " \n",
        "            running_loss += loss.item()\n",
        "            if i % 3000 == 2999:                  #3000 batch\n",
        "                print('[Epoch %d, %5d Mini Batches] loss: %.3f' %\n",
        "                      (epoch + 1, i + 1, running_loss/5000))\n",
        "                running_loss = 0.0\n",
        "    \n",
        "train_model(lenet)"
      ],
      "execution_count": 51,
      "outputs": [
        {
          "output_type": "stream",
          "text": [
            "[Epoch 1,  3000 Mini Batches] loss: 0.561\n",
            "[Epoch 1,  6000 Mini Batches] loss: 0.094\n",
            "[Epoch 1,  9000 Mini Batches] loss: 0.074\n",
            "[Epoch 1, 12000 Mini Batches] loss: 0.064\n",
            "[Epoch 1, 15000 Mini Batches] loss: 0.047\n"
          ],
          "name": "stdout"
        }
      ]
    }
  ]
}