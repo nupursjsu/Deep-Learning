{
  "nbformat": 4,
  "nbformat_minor": 0,
  "metadata": {
    "colab": {
      "name": "VGG16_PyTorch.ipynb",
      "provenance": [],
      "include_colab_link": true
    },
    "kernelspec": {
      "name": "python3",
      "display_name": "Python 3"
    },
    "accelerator": "GPU",
    "widgets": {
      "application/vnd.jupyter.widget-state+json": {
        "80fe10e2d31e429092fdeae248e21d5b": {
          "model_module": "@jupyter-widgets/controls",
          "model_name": "HBoxModel",
          "state": {
            "_view_name": "HBoxView",
            "_dom_classes": [],
            "_model_name": "HBoxModel",
            "_view_module": "@jupyter-widgets/controls",
            "_model_module_version": "1.5.0",
            "_view_count": null,
            "_view_module_version": "1.5.0",
            "box_style": "",
            "layout": "IPY_MODEL_cd6df8a5a741467a8c2aabdccff1f56d",
            "_model_module": "@jupyter-widgets/controls",
            "children": [
              "IPY_MODEL_0f9d30e073054edeb30a8ab9f2b5fdf9",
              "IPY_MODEL_1b01deda8c9e4a31bc04c79c828ddfdd"
            ]
          }
        },
        "cd6df8a5a741467a8c2aabdccff1f56d": {
          "model_module": "@jupyter-widgets/base",
          "model_name": "LayoutModel",
          "state": {
            "_view_name": "LayoutView",
            "grid_template_rows": null,
            "right": null,
            "justify_content": null,
            "_view_module": "@jupyter-widgets/base",
            "overflow": null,
            "_model_module_version": "1.2.0",
            "_view_count": null,
            "flex_flow": null,
            "width": null,
            "min_width": null,
            "border": null,
            "align_items": null,
            "bottom": null,
            "_model_module": "@jupyter-widgets/base",
            "top": null,
            "grid_column": null,
            "overflow_y": null,
            "overflow_x": null,
            "grid_auto_flow": null,
            "grid_area": null,
            "grid_template_columns": null,
            "flex": null,
            "_model_name": "LayoutModel",
            "justify_items": null,
            "grid_row": null,
            "max_height": null,
            "align_content": null,
            "visibility": null,
            "align_self": null,
            "height": null,
            "min_height": null,
            "padding": null,
            "grid_auto_rows": null,
            "grid_gap": null,
            "max_width": null,
            "order": null,
            "_view_module_version": "1.2.0",
            "grid_template_areas": null,
            "object_position": null,
            "object_fit": null,
            "grid_auto_columns": null,
            "margin": null,
            "display": null,
            "left": null
          }
        },
        "0f9d30e073054edeb30a8ab9f2b5fdf9": {
          "model_module": "@jupyter-widgets/controls",
          "model_name": "FloatProgressModel",
          "state": {
            "_view_name": "ProgressView",
            "style": "IPY_MODEL_37997fd80b6c4610b912b4457d6d4723",
            "_dom_classes": [],
            "description": "",
            "_model_name": "FloatProgressModel",
            "bar_style": "info",
            "max": 1,
            "_view_module": "@jupyter-widgets/controls",
            "_model_module_version": "1.5.0",
            "value": 1,
            "_view_count": null,
            "_view_module_version": "1.5.0",
            "orientation": "horizontal",
            "min": 0,
            "description_tooltip": null,
            "_model_module": "@jupyter-widgets/controls",
            "layout": "IPY_MODEL_b71992e45bdb4110b604f103b2876a46"
          }
        },
        "1b01deda8c9e4a31bc04c79c828ddfdd": {
          "model_module": "@jupyter-widgets/controls",
          "model_name": "HTMLModel",
          "state": {
            "_view_name": "HTMLView",
            "style": "IPY_MODEL_19082bdb4a034ab3b423bea81f5ed17f",
            "_dom_classes": [],
            "description": "",
            "_model_name": "HTMLModel",
            "placeholder": "​",
            "_view_module": "@jupyter-widgets/controls",
            "_model_module_version": "1.5.0",
            "value": " 169009152/? [00:20&lt;00:00, 32996837.17it/s]",
            "_view_count": null,
            "_view_module_version": "1.5.0",
            "description_tooltip": null,
            "_model_module": "@jupyter-widgets/controls",
            "layout": "IPY_MODEL_ce9449885f6640199b7ffa6a92a7cc40"
          }
        },
        "37997fd80b6c4610b912b4457d6d4723": {
          "model_module": "@jupyter-widgets/controls",
          "model_name": "ProgressStyleModel",
          "state": {
            "_view_name": "StyleView",
            "_model_name": "ProgressStyleModel",
            "description_width": "initial",
            "_view_module": "@jupyter-widgets/base",
            "_model_module_version": "1.5.0",
            "_view_count": null,
            "_view_module_version": "1.2.0",
            "bar_color": null,
            "_model_module": "@jupyter-widgets/controls"
          }
        },
        "b71992e45bdb4110b604f103b2876a46": {
          "model_module": "@jupyter-widgets/base",
          "model_name": "LayoutModel",
          "state": {
            "_view_name": "LayoutView",
            "grid_template_rows": null,
            "right": null,
            "justify_content": null,
            "_view_module": "@jupyter-widgets/base",
            "overflow": null,
            "_model_module_version": "1.2.0",
            "_view_count": null,
            "flex_flow": null,
            "width": null,
            "min_width": null,
            "border": null,
            "align_items": null,
            "bottom": null,
            "_model_module": "@jupyter-widgets/base",
            "top": null,
            "grid_column": null,
            "overflow_y": null,
            "overflow_x": null,
            "grid_auto_flow": null,
            "grid_area": null,
            "grid_template_columns": null,
            "flex": null,
            "_model_name": "LayoutModel",
            "justify_items": null,
            "grid_row": null,
            "max_height": null,
            "align_content": null,
            "visibility": null,
            "align_self": null,
            "height": null,
            "min_height": null,
            "padding": null,
            "grid_auto_rows": null,
            "grid_gap": null,
            "max_width": null,
            "order": null,
            "_view_module_version": "1.2.0",
            "grid_template_areas": null,
            "object_position": null,
            "object_fit": null,
            "grid_auto_columns": null,
            "margin": null,
            "display": null,
            "left": null
          }
        },
        "19082bdb4a034ab3b423bea81f5ed17f": {
          "model_module": "@jupyter-widgets/controls",
          "model_name": "DescriptionStyleModel",
          "state": {
            "_view_name": "StyleView",
            "_model_name": "DescriptionStyleModel",
            "description_width": "",
            "_view_module": "@jupyter-widgets/base",
            "_model_module_version": "1.5.0",
            "_view_count": null,
            "_view_module_version": "1.2.0",
            "_model_module": "@jupyter-widgets/controls"
          }
        },
        "ce9449885f6640199b7ffa6a92a7cc40": {
          "model_module": "@jupyter-widgets/base",
          "model_name": "LayoutModel",
          "state": {
            "_view_name": "LayoutView",
            "grid_template_rows": null,
            "right": null,
            "justify_content": null,
            "_view_module": "@jupyter-widgets/base",
            "overflow": null,
            "_model_module_version": "1.2.0",
            "_view_count": null,
            "flex_flow": null,
            "width": null,
            "min_width": null,
            "border": null,
            "align_items": null,
            "bottom": null,
            "_model_module": "@jupyter-widgets/base",
            "top": null,
            "grid_column": null,
            "overflow_y": null,
            "overflow_x": null,
            "grid_auto_flow": null,
            "grid_area": null,
            "grid_template_columns": null,
            "flex": null,
            "_model_name": "LayoutModel",
            "justify_items": null,
            "grid_row": null,
            "max_height": null,
            "align_content": null,
            "visibility": null,
            "align_self": null,
            "height": null,
            "min_height": null,
            "padding": null,
            "grid_auto_rows": null,
            "grid_gap": null,
            "max_width": null,
            "order": null,
            "_view_module_version": "1.2.0",
            "grid_template_areas": null,
            "object_position": null,
            "object_fit": null,
            "grid_auto_columns": null,
            "margin": null,
            "display": null,
            "left": null
          }
        }
      }
    }
  },
  "cells": [
    {
      "cell_type": "markdown",
      "metadata": {
        "id": "view-in-github",
        "colab_type": "text"
      },
      "source": [
        "<a href=\"https://colab.research.google.com/github/nupursjsu/Deep-Learning/blob/master/Graded_Assignment4/VGG16_PyTorch.ipynb\" target=\"_parent\"><img src=\"https://colab.research.google.com/assets/colab-badge.svg\" alt=\"Open In Colab\"/></a>"
      ]
    },
    {
      "cell_type": "markdown",
      "metadata": {
        "id": "LT1ET4UN4t4U",
        "colab_type": "text"
      },
      "source": [
        "#Implementing VGG16 in PyTorch (Using CIFAR 100 dataset)"
      ]
    },
    {
      "cell_type": "markdown",
      "metadata": {
        "id": "4WLpWFs341SF",
        "colab_type": "text"
      },
      "source": [
        "## Importing required libraries"
      ]
    },
    {
      "cell_type": "code",
      "metadata": {
        "id": "SV8feHUS4mOQ",
        "colab_type": "code",
        "colab": {}
      },
      "source": [
        "import numpy as np\n",
        "import torch\n",
        "import torch.nn as nn\n",
        "import torch.optim as optim\n",
        "from torchvision import datasets, transforms\n",
        "from torch.autograd import Variable\n",
        "from PIL import Image\n",
        "import torch.nn.functional as F"
      ],
      "execution_count": 0,
      "outputs": []
    },
    {
      "cell_type": "markdown",
      "metadata": {
        "id": "0gTpfoQk5TCJ",
        "colab_type": "text"
      },
      "source": [
        "## Loading CIFAR 100 dataset"
      ]
    },
    {
      "cell_type": "code",
      "metadata": {
        "id": "jsxq8d2c5Sgv",
        "colab_type": "code",
        "colab": {}
      },
      "source": [
        "def load_data(train_batch_size, test_batch_size):\n",
        "    #Fetching test data containing 60000 samples\n",
        "    train_loader = torch.utils.data.DataLoader(\n",
        "        datasets.CIFAR100('data', train=True, download=True,\n",
        "                       transform=transforms.Compose([\n",
        "                           transforms.Resize((32, 32)),\n",
        "                           transforms.ToTensor(),\n",
        "                           transforms.Normalize((0.1307,), (0.3081,))\n",
        "                       ])),\n",
        "        batch_size=train_batch_size, shuffle=True)\n",
        "\n",
        "    #Fetching test data containing 10000 samples\n",
        "    test_loader = torch.utils.data.DataLoader(\n",
        "        datasets.CIFAR100('data', train=False, transform=transforms.Compose([\n",
        "            transforms.Resize((32, 32)),\n",
        "            transforms.ToTensor(),\n",
        "            transforms.Normalize((0.1307,), (0.3081,))\n",
        "        ])),\n",
        "        batch_size=test_batch_size, shuffle=True)\n",
        "\n",
        "    return (train_loader, test_loader)"
      ],
      "execution_count": 0,
      "outputs": []
    },
    {
      "cell_type": "markdown",
      "metadata": {
        "id": "d5jC2Hpq5BID",
        "colab_type": "text"
      },
      "source": [
        "##Building VGG16 model"
      ]
    },
    {
      "cell_type": "code",
      "metadata": {
        "id": "HpwgVnSb5E73",
        "colab_type": "code",
        "colab": {}
      },
      "source": [
        "class VGG16(nn.Module):\n",
        "    def __init__(self):\n",
        "        super(VGG16, self).__init__()\n",
        "        self.conv1_1 = nn.Conv2d(3, 64, kernel_size=3, padding=1)\n",
        "        self.conv1_2 = nn.Conv2d(64, 64, kernel_size=3, padding=1)\n",
        "        self.conv2_1 = nn.Conv2d(64, 128, kernel_size=3, padding=1)\n",
        "        self.conv2_2 = nn.Conv2d(128, 128, kernel_size=3, padding=1)\n",
        "        self.conv3_1 = nn.Conv2d(128, 256, kernel_size=3, padding=1)\n",
        "        self.conv3_2 = nn.Conv2d(256, 256, kernel_size=3, padding=1)\n",
        "        self.conv3_3 = nn.Conv2d(256, 256, kernel_size=3, padding=1)\n",
        "        self.conv4_1 = nn.Conv2d(256, 512, kernel_size=3, padding=1)\n",
        "        self.conv4_2 = nn.Conv2d(512, 512, kernel_size=3, padding=1)\n",
        "        self.conv4_3 = nn.Conv2d(512, 512, kernel_size=3, padding=1)\n",
        "\n",
        "        self.pool = nn.MaxPool2d(2, 2)\n",
        "\n",
        "        #Defining fully connected layers\n",
        "        self.fc6 = nn.Linear(2048, 4096)\n",
        "        self.fc7 = nn.Linear(4096, 4096)\n",
        "        self.fc8 = nn.Linear(4096, 1000)\n",
        "\n",
        "    def forward(self, x, training=True):\n",
        "        x = F.relu(self.conv1_1(x))\n",
        "        x = F.relu(self.conv1_2(x))\n",
        "        x = self.pool(x)\n",
        "        x = F.relu(self.conv2_1(x))\n",
        "        x = F.relu(self.conv2_2(x))\n",
        "        x = self.pool(x)\n",
        "        x = F.relu(self.conv3_1(x))\n",
        "        x = F.relu(self.conv3_2(x))\n",
        "        x = F.relu(self.conv3_3(x))\n",
        "        x = self.pool(x)\n",
        "        x = F.relu(self.conv4_1(x))\n",
        "        x = F.relu(self.conv4_2(x))\n",
        "        x = F.relu(self.conv4_3(x))\n",
        "        x = self.pool(x)\n",
        "        x = x.view(x.size(0), -1) \n",
        "        x = F.relu(self.fc6(x))\n",
        "        x = F.dropout(x, 0.5, training=training)\n",
        "        x = F.relu(self.fc7(x))\n",
        "        x = F.dropout(x, 0.5, training=training)\n",
        "        x = self.fc8(x)\n",
        "        return x"
      ],
      "execution_count": 0,
      "outputs": []
    },
    {
      "cell_type": "markdown",
      "metadata": {
        "id": "DI8r7QC05o7M",
        "colab_type": "text"
      },
      "source": [
        "##Defining the train function"
      ]
    },
    {
      "cell_type": "code",
      "metadata": {
        "id": "7geBTYEF5qpB",
        "colab_type": "code",
        "colab": {}
      },
      "source": [
        "def train(model, optimizer, epoch, train_loader, log_interval):\n",
        "    model.train()\n",
        "\n",
        "    #Defining loss function\n",
        "    loss_fn = torch.nn.CrossEntropyLoss()\n",
        "\n",
        "    #Iterating over batches of data\n",
        "    for batch_idx, (data, target) in enumerate(train_loader):\n",
        "        \n",
        "        data,target = data.to(device='cuda'),target.to(device='cuda')\n",
        "        data, target = Variable(data), Variable(target)\n",
        "\n",
        "        #Setting the gradients to zero, since PyTorch accumulates them\n",
        "        optimizer.zero_grad()\n",
        "\n",
        "        #Defining Forward propagation\n",
        "        output = model(data)\n",
        "\n",
        "        loss = loss_fn(output, target)\n",
        "\n",
        "        #Defining Backward propagation\n",
        "        loss.backward()\n",
        "\n",
        "        #Updating the parameters after backward prop\n",
        "        optimizer.step()\n",
        "\n",
        "        #Displaying the log\n",
        "        if batch_idx % log_interval == 0:\n",
        "            print('Train set, Epoch {} [{}/{} ({:.0f}%)]\\tLoss: {:.6f}'.format(\n",
        "                epoch, batch_idx * len(data), len(train_loader.dataset),\n",
        "                       100. * batch_idx / len(train_loader),\n",
        "                loss.item()))"
      ],
      "execution_count": 0,
      "outputs": []
    },
    {
      "cell_type": "markdown",
      "metadata": {
        "id": "JBCkNXsw6GwC",
        "colab_type": "text"
      },
      "source": [
        "##Defining the test function"
      ]
    },
    {
      "cell_type": "code",
      "metadata": {
        "id": "VeBSQLQ76W5d",
        "colab_type": "code",
        "colab": {}
      },
      "source": [
        "def test(model, epoch, test_loader):\n",
        "    #Defining that we are testing the model\n",
        "    model.eval()\n",
        "\n",
        "    #Initializing the variables for init loss & correct prediction accumulators\n",
        "    test_loss = 0\n",
        "    correct = 0\n",
        "\n",
        "    #Defining loss function\n",
        "    loss_fn = torch.nn.CrossEntropyLoss(size_average=False)\n",
        "\n",
        "    #Iterating over data\n",
        "    for data, target in test_loader:\n",
        "        data,target = data.to(device='cuda'),target.to(device='cuda')\n",
        "        data, target = Variable(data), Variable(target)\n",
        "        \n",
        "        #Defining Forward propagation\n",
        "        output = model(data)\n",
        "\n",
        "        #Calculating & accumulating loss\n",
        "        test_loss += loss_fn(output, target).item()\n",
        "\n",
        "        #Getting the index of the max log-probability which is the predicted output label\n",
        "        pred = np.argmax(output.cpu().data, axis=1)\n",
        "\n",
        "        #If correct, increment correct prediction accumulator\n",
        "        correct = correct + np.equal(pred, target.cpu().data).sum()\n",
        "\n",
        "    #Displaying the log\n",
        "    test_loss /= len(test_loader.dataset)\n",
        "    print('\\nTest set, Epoch {} , Average loss: {:.4f}, Accuracy: {}/{} ({:.0f}%)\\n'.format(epoch,\n",
        "        test_loss, correct, len(test_loader.dataset),\n",
        "        100. * correct / len(test_loader.dataset)))"
      ],
      "execution_count": 0,
      "outputs": []
    },
    {
      "cell_type": "markdown",
      "metadata": {
        "id": "OR5Kt4Jg7SJM",
        "colab_type": "text"
      },
      "source": [
        "##Defining the parameters"
      ]
    },
    {
      "cell_type": "code",
      "metadata": {
        "id": "NwC1WHiL7KNT",
        "colab_type": "code",
        "outputId": "66f64e23-2d40-494d-e3ed-9e0af28637e2",
        "colab": {
          "base_uri": "https://localhost:8080/",
          "height": 83,
          "referenced_widgets": [
            "80fe10e2d31e429092fdeae248e21d5b",
            "cd6df8a5a741467a8c2aabdccff1f56d",
            "0f9d30e073054edeb30a8ab9f2b5fdf9",
            "1b01deda8c9e4a31bc04c79c828ddfdd",
            "37997fd80b6c4610b912b4457d6d4723",
            "b71992e45bdb4110b604f103b2876a46",
            "19082bdb4a034ab3b423bea81f5ed17f",
            "ce9449885f6640199b7ffa6a92a7cc40"
          ]
        }
      },
      "source": [
        "torch.manual_seed(123)\n",
        "\n",
        "model = VGG16()\n",
        "model.cuda()\n",
        "lr = 0.01\n",
        "momentum=0.5\n",
        "optimizer = optim.SGD(model.parameters(), lr=lr, momentum=momentum)\n",
        "\n",
        "train_batch_size = 64\n",
        "test_batch_size = 1000\n",
        "train_loader, test_loader = load_data(train_batch_size, test_batch_size)"
      ],
      "execution_count": 0,
      "outputs": [
        {
          "output_type": "stream",
          "text": [
            "Downloading https://www.cs.toronto.edu/~kriz/cifar-100-python.tar.gz to data/cifar-100-python.tar.gz\n"
          ],
          "name": "stdout"
        },
        {
          "output_type": "display_data",
          "data": {
            "application/vnd.jupyter.widget-view+json": {
              "model_id": "80fe10e2d31e429092fdeae248e21d5b",
              "version_minor": 0,
              "version_major": 2
            },
            "text/plain": [
              "HBox(children=(FloatProgress(value=1.0, bar_style='info', max=1.0), HTML(value='')))"
            ]
          },
          "metadata": {
            "tags": []
          }
        },
        {
          "output_type": "stream",
          "text": [
            "Extracting data/cifar-100-python.tar.gz to data\n"
          ],
          "name": "stdout"
        }
      ]
    },
    {
      "cell_type": "markdown",
      "metadata": {
        "id": "rhmTTN4O7pip",
        "colab_type": "text"
      },
      "source": [
        "##Training and Testing the VGG16 model"
      ]
    },
    {
      "cell_type": "code",
      "metadata": {
        "id": "Hz6NstJV7rWR",
        "colab_type": "code",
        "outputId": "20384cac-836f-4eed-cb5c-4178e29e9d9e",
        "colab": {
          "base_uri": "https://localhost:8080/",
          "height": 1000
        }
      },
      "source": [
        "epochs = 10\n",
        "log_interval = 100\n",
        "for epoch in range(1, epochs + 1):\n",
        "    train(model, optimizer, epoch, train_loader, log_interval=log_interval)\n",
        "    test(model, epoch, test_loader)"
      ],
      "execution_count": 0,
      "outputs": [
        {
          "output_type": "stream",
          "text": [
            "Train set, Epoch 1 [0/50000 (0%)]\tLoss: 4.746198\n",
            "Train set, Epoch 1 [6400/50000 (13%)]\tLoss: 4.643956\n",
            "Train set, Epoch 1 [12800/50000 (26%)]\tLoss: 4.617430\n",
            "Train set, Epoch 1 [19200/50000 (38%)]\tLoss: 4.672313\n",
            "Train set, Epoch 1 [25600/50000 (51%)]\tLoss: 4.662653\n",
            "Train set, Epoch 1 [32000/50000 (64%)]\tLoss: 4.636252\n",
            "Train set, Epoch 1 [38400/50000 (77%)]\tLoss: 4.615027\n",
            "Train set, Epoch 1 [44800/50000 (90%)]\tLoss: 4.661815\n"
          ],
          "name": "stdout"
        },
        {
          "output_type": "stream",
          "text": [
            "/usr/local/lib/python3.6/dist-packages/torch/nn/_reduction.py:43: UserWarning: size_average and reduce args will be deprecated, please use reduction='sum' instead.\n",
            "  warnings.warn(warning.format(ret))\n"
          ],
          "name": "stderr"
        },
        {
          "output_type": "stream",
          "text": [
            "\n",
            "Test set, Epoch 1 , Average loss: 4.6359, Accuracy: 103/10000 (1%)\n",
            "\n",
            "Train set, Epoch 2 [0/50000 (0%)]\tLoss: 4.618440\n",
            "Train set, Epoch 2 [6400/50000 (13%)]\tLoss: 4.620255\n",
            "Train set, Epoch 2 [12800/50000 (26%)]\tLoss: 4.613917\n",
            "Train set, Epoch 2 [19200/50000 (38%)]\tLoss: 4.620035\n",
            "Train set, Epoch 2 [25600/50000 (51%)]\tLoss: 4.650848\n",
            "Train set, Epoch 2 [32000/50000 (64%)]\tLoss: 4.612297\n",
            "Train set, Epoch 2 [38400/50000 (77%)]\tLoss: 4.649519\n",
            "Train set, Epoch 2 [44800/50000 (90%)]\tLoss: 4.596861\n",
            "\n",
            "Test set, Epoch 2 , Average loss: 4.6382, Accuracy: 97/10000 (1%)\n",
            "\n",
            "Train set, Epoch 3 [0/50000 (0%)]\tLoss: 4.659497\n",
            "Train set, Epoch 3 [6400/50000 (13%)]\tLoss: 4.615355\n",
            "Train set, Epoch 3 [12800/50000 (26%)]\tLoss: 4.628443\n",
            "Train set, Epoch 3 [19200/50000 (38%)]\tLoss: 4.608543\n",
            "Train set, Epoch 3 [25600/50000 (51%)]\tLoss: 4.607243\n",
            "Train set, Epoch 3 [32000/50000 (64%)]\tLoss: 4.646716\n",
            "Train set, Epoch 3 [38400/50000 (77%)]\tLoss: 4.646516\n",
            "Train set, Epoch 3 [44800/50000 (90%)]\tLoss: 4.643054\n",
            "\n",
            "Test set, Epoch 3 , Average loss: 4.6353, Accuracy: 95/10000 (1%)\n",
            "\n",
            "Train set, Epoch 4 [0/50000 (0%)]\tLoss: 4.679924\n",
            "Train set, Epoch 4 [6400/50000 (13%)]\tLoss: 4.597378\n",
            "Train set, Epoch 4 [12800/50000 (26%)]\tLoss: 4.704770\n",
            "Train set, Epoch 4 [19200/50000 (38%)]\tLoss: 4.615032\n",
            "Train set, Epoch 4 [25600/50000 (51%)]\tLoss: 4.634191\n",
            "Train set, Epoch 4 [32000/50000 (64%)]\tLoss: 4.608397\n",
            "Train set, Epoch 4 [38400/50000 (77%)]\tLoss: 4.617776\n",
            "Train set, Epoch 4 [44800/50000 (90%)]\tLoss: 4.648818\n",
            "\n",
            "Test set, Epoch 4 , Average loss: 4.6358, Accuracy: 105/10000 (1%)\n",
            "\n",
            "Train set, Epoch 5 [0/50000 (0%)]\tLoss: 4.627304\n",
            "Train set, Epoch 5 [6400/50000 (13%)]\tLoss: 4.626475\n",
            "Train set, Epoch 5 [12800/50000 (26%)]\tLoss: 4.666445\n",
            "Train set, Epoch 5 [19200/50000 (38%)]\tLoss: 4.656109\n",
            "Train set, Epoch 5 [25600/50000 (51%)]\tLoss: 4.603569\n",
            "Train set, Epoch 5 [32000/50000 (64%)]\tLoss: 4.615304\n",
            "Train set, Epoch 5 [38400/50000 (77%)]\tLoss: 4.616760\n",
            "Train set, Epoch 5 [44800/50000 (90%)]\tLoss: 4.616051\n",
            "\n",
            "Test set, Epoch 5 , Average loss: 4.6331, Accuracy: 117/10000 (1%)\n",
            "\n",
            "Train set, Epoch 6 [0/50000 (0%)]\tLoss: 4.611249\n",
            "Train set, Epoch 6 [6400/50000 (13%)]\tLoss: 4.664438\n",
            "Train set, Epoch 6 [12800/50000 (26%)]\tLoss: 4.636790\n",
            "Train set, Epoch 6 [19200/50000 (38%)]\tLoss: 4.620800\n",
            "Train set, Epoch 6 [25600/50000 (51%)]\tLoss: 4.666955\n",
            "Train set, Epoch 6 [32000/50000 (64%)]\tLoss: 4.634118\n",
            "Train set, Epoch 6 [38400/50000 (77%)]\tLoss: 4.648324\n",
            "Train set, Epoch 6 [44800/50000 (90%)]\tLoss: 4.645145\n",
            "\n",
            "Test set, Epoch 6 , Average loss: 4.6326, Accuracy: 103/10000 (1%)\n",
            "\n",
            "Train set, Epoch 7 [0/50000 (0%)]\tLoss: 4.586161\n",
            "Train set, Epoch 7 [6400/50000 (13%)]\tLoss: 4.640422\n",
            "Train set, Epoch 7 [12800/50000 (26%)]\tLoss: 4.668273\n",
            "Train set, Epoch 7 [19200/50000 (38%)]\tLoss: 4.625578\n",
            "Train set, Epoch 7 [25600/50000 (51%)]\tLoss: 4.604441\n",
            "Train set, Epoch 7 [32000/50000 (64%)]\tLoss: 4.632322\n",
            "Train set, Epoch 7 [38400/50000 (77%)]\tLoss: 4.659538\n",
            "Train set, Epoch 7 [44800/50000 (90%)]\tLoss: 4.653407\n",
            "\n",
            "Test set, Epoch 7 , Average loss: 4.6312, Accuracy: 104/10000 (1%)\n",
            "\n",
            "Train set, Epoch 8 [0/50000 (0%)]\tLoss: 4.643973\n",
            "Train set, Epoch 8 [6400/50000 (13%)]\tLoss: 4.620702\n",
            "Train set, Epoch 8 [12800/50000 (26%)]\tLoss: 4.616971\n",
            "Train set, Epoch 8 [19200/50000 (38%)]\tLoss: 4.632809\n",
            "Train set, Epoch 8 [25600/50000 (51%)]\tLoss: 4.623411\n",
            "Train set, Epoch 8 [32000/50000 (64%)]\tLoss: 4.635608\n",
            "Train set, Epoch 8 [38400/50000 (77%)]\tLoss: 4.652234\n",
            "Train set, Epoch 8 [44800/50000 (90%)]\tLoss: 4.656441\n",
            "\n",
            "Test set, Epoch 8 , Average loss: 4.6318, Accuracy: 103/10000 (1%)\n",
            "\n",
            "Train set, Epoch 9 [0/50000 (0%)]\tLoss: 4.607669\n",
            "Train set, Epoch 9 [6400/50000 (13%)]\tLoss: 4.602479\n",
            "Train set, Epoch 9 [12800/50000 (26%)]\tLoss: 4.630395\n",
            "Train set, Epoch 9 [19200/50000 (38%)]\tLoss: 4.609874\n",
            "Train set, Epoch 9 [25600/50000 (51%)]\tLoss: 4.653242\n",
            "Train set, Epoch 9 [32000/50000 (64%)]\tLoss: 4.642837\n",
            "Train set, Epoch 9 [38400/50000 (77%)]\tLoss: 4.642217\n",
            "Train set, Epoch 9 [44800/50000 (90%)]\tLoss: 4.659536\n",
            "\n",
            "Test set, Epoch 9 , Average loss: 4.6306, Accuracy: 95/10000 (1%)\n",
            "\n",
            "Train set, Epoch 10 [0/50000 (0%)]\tLoss: 4.686996\n",
            "Train set, Epoch 10 [6400/50000 (13%)]\tLoss: 4.623309\n",
            "Train set, Epoch 10 [12800/50000 (26%)]\tLoss: 4.613650\n",
            "Train set, Epoch 10 [19200/50000 (38%)]\tLoss: 4.673743\n",
            "Train set, Epoch 10 [25600/50000 (51%)]\tLoss: 4.578015\n",
            "Train set, Epoch 10 [32000/50000 (64%)]\tLoss: 4.647445\n",
            "Train set, Epoch 10 [38400/50000 (77%)]\tLoss: 4.609471\n",
            "Train set, Epoch 10 [44800/50000 (90%)]\tLoss: 4.619712\n",
            "\n",
            "Test set, Epoch 10 , Average loss: 4.6280, Accuracy: 102/10000 (1%)\n",
            "\n"
          ],
          "name": "stdout"
        }
      ]
    },
    {
      "cell_type": "markdown",
      "metadata": {
        "id": "U5St2WzJ_by_",
        "colab_type": "text"
      },
      "source": [
        "##Conclusion\n",
        "\n",
        "We could see VGG16 on CIFAR 10 dataset is giving a very low accuracy of just 1%."
      ]
    }
  ]
}