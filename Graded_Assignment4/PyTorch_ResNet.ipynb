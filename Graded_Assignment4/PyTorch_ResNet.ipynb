{
  "nbformat": 4,
  "nbformat_minor": 0,
  "metadata": {
    "colab": {
      "name": "PyTorch_ResNet.ipynb",
      "provenance": [],
      "authorship_tag": "ABX9TyNTaBhMioBsrYNwukcUPkb1",
      "include_colab_link": true
    },
    "kernelspec": {
      "name": "python3",
      "display_name": "Python 3"
    },
    "widgets": {
      "application/vnd.jupyter.widget-state+json": {
        "a9a642301a48469d8dad0c8f7ab83f28": {
          "model_module": "@jupyter-widgets/controls",
          "model_name": "HBoxModel",
          "state": {
            "_view_name": "HBoxView",
            "_dom_classes": [],
            "_model_name": "HBoxModel",
            "_view_module": "@jupyter-widgets/controls",
            "_model_module_version": "1.5.0",
            "_view_count": null,
            "_view_module_version": "1.5.0",
            "box_style": "",
            "layout": "IPY_MODEL_30a2390f6e9f434e85b1747c765cb5a3",
            "_model_module": "@jupyter-widgets/controls",
            "children": [
              "IPY_MODEL_41ff29a6f43b428e984f9331b6b40643",
              "IPY_MODEL_47b772713c5b49208a6cdbb3c121dc29"
            ]
          }
        },
        "30a2390f6e9f434e85b1747c765cb5a3": {
          "model_module": "@jupyter-widgets/base",
          "model_name": "LayoutModel",
          "state": {
            "_view_name": "LayoutView",
            "grid_template_rows": null,
            "right": null,
            "justify_content": null,
            "_view_module": "@jupyter-widgets/base",
            "overflow": null,
            "_model_module_version": "1.2.0",
            "_view_count": null,
            "flex_flow": null,
            "width": null,
            "min_width": null,
            "border": null,
            "align_items": null,
            "bottom": null,
            "_model_module": "@jupyter-widgets/base",
            "top": null,
            "grid_column": null,
            "overflow_y": null,
            "overflow_x": null,
            "grid_auto_flow": null,
            "grid_area": null,
            "grid_template_columns": null,
            "flex": null,
            "_model_name": "LayoutModel",
            "justify_items": null,
            "grid_row": null,
            "max_height": null,
            "align_content": null,
            "visibility": null,
            "align_self": null,
            "height": null,
            "min_height": null,
            "padding": null,
            "grid_auto_rows": null,
            "grid_gap": null,
            "max_width": null,
            "order": null,
            "_view_module_version": "1.2.0",
            "grid_template_areas": null,
            "object_position": null,
            "object_fit": null,
            "grid_auto_columns": null,
            "margin": null,
            "display": null,
            "left": null
          }
        },
        "41ff29a6f43b428e984f9331b6b40643": {
          "model_module": "@jupyter-widgets/controls",
          "model_name": "FloatProgressModel",
          "state": {
            "_view_name": "ProgressView",
            "style": "IPY_MODEL_ce814e558db44ef1a2885b86a40e7bc3",
            "_dom_classes": [],
            "description": "",
            "_model_name": "FloatProgressModel",
            "bar_style": "info",
            "max": 1,
            "_view_module": "@jupyter-widgets/controls",
            "_model_module_version": "1.5.0",
            "value": 1,
            "_view_count": null,
            "_view_module_version": "1.5.0",
            "orientation": "horizontal",
            "min": 0,
            "description_tooltip": null,
            "_model_module": "@jupyter-widgets/controls",
            "layout": "IPY_MODEL_6494507a43b547788944a0810bd29cd8"
          }
        },
        "47b772713c5b49208a6cdbb3c121dc29": {
          "model_module": "@jupyter-widgets/controls",
          "model_name": "HTMLModel",
          "state": {
            "_view_name": "HTMLView",
            "style": "IPY_MODEL_351330d994314e0d84d40388892dda19",
            "_dom_classes": [],
            "description": "",
            "_model_name": "HTMLModel",
            "placeholder": "​",
            "_view_module": "@jupyter-widgets/controls",
            "_model_module_version": "1.5.0",
            "value": " 9920512/? [00:20&lt;00:00, 1315046.85it/s]",
            "_view_count": null,
            "_view_module_version": "1.5.0",
            "description_tooltip": null,
            "_model_module": "@jupyter-widgets/controls",
            "layout": "IPY_MODEL_f47c773634ef4feb88531a51262627b0"
          }
        },
        "ce814e558db44ef1a2885b86a40e7bc3": {
          "model_module": "@jupyter-widgets/controls",
          "model_name": "ProgressStyleModel",
          "state": {
            "_view_name": "StyleView",
            "_model_name": "ProgressStyleModel",
            "description_width": "initial",
            "_view_module": "@jupyter-widgets/base",
            "_model_module_version": "1.5.0",
            "_view_count": null,
            "_view_module_version": "1.2.0",
            "bar_color": null,
            "_model_module": "@jupyter-widgets/controls"
          }
        },
        "6494507a43b547788944a0810bd29cd8": {
          "model_module": "@jupyter-widgets/base",
          "model_name": "LayoutModel",
          "state": {
            "_view_name": "LayoutView",
            "grid_template_rows": null,
            "right": null,
            "justify_content": null,
            "_view_module": "@jupyter-widgets/base",
            "overflow": null,
            "_model_module_version": "1.2.0",
            "_view_count": null,
            "flex_flow": null,
            "width": null,
            "min_width": null,
            "border": null,
            "align_items": null,
            "bottom": null,
            "_model_module": "@jupyter-widgets/base",
            "top": null,
            "grid_column": null,
            "overflow_y": null,
            "overflow_x": null,
            "grid_auto_flow": null,
            "grid_area": null,
            "grid_template_columns": null,
            "flex": null,
            "_model_name": "LayoutModel",
            "justify_items": null,
            "grid_row": null,
            "max_height": null,
            "align_content": null,
            "visibility": null,
            "align_self": null,
            "height": null,
            "min_height": null,
            "padding": null,
            "grid_auto_rows": null,
            "grid_gap": null,
            "max_width": null,
            "order": null,
            "_view_module_version": "1.2.0",
            "grid_template_areas": null,
            "object_position": null,
            "object_fit": null,
            "grid_auto_columns": null,
            "margin": null,
            "display": null,
            "left": null
          }
        },
        "351330d994314e0d84d40388892dda19": {
          "model_module": "@jupyter-widgets/controls",
          "model_name": "DescriptionStyleModel",
          "state": {
            "_view_name": "StyleView",
            "_model_name": "DescriptionStyleModel",
            "description_width": "",
            "_view_module": "@jupyter-widgets/base",
            "_model_module_version": "1.5.0",
            "_view_count": null,
            "_view_module_version": "1.2.0",
            "_model_module": "@jupyter-widgets/controls"
          }
        },
        "f47c773634ef4feb88531a51262627b0": {
          "model_module": "@jupyter-widgets/base",
          "model_name": "LayoutModel",
          "state": {
            "_view_name": "LayoutView",
            "grid_template_rows": null,
            "right": null,
            "justify_content": null,
            "_view_module": "@jupyter-widgets/base",
            "overflow": null,
            "_model_module_version": "1.2.0",
            "_view_count": null,
            "flex_flow": null,
            "width": null,
            "min_width": null,
            "border": null,
            "align_items": null,
            "bottom": null,
            "_model_module": "@jupyter-widgets/base",
            "top": null,
            "grid_column": null,
            "overflow_y": null,
            "overflow_x": null,
            "grid_auto_flow": null,
            "grid_area": null,
            "grid_template_columns": null,
            "flex": null,
            "_model_name": "LayoutModel",
            "justify_items": null,
            "grid_row": null,
            "max_height": null,
            "align_content": null,
            "visibility": null,
            "align_self": null,
            "height": null,
            "min_height": null,
            "padding": null,
            "grid_auto_rows": null,
            "grid_gap": null,
            "max_width": null,
            "order": null,
            "_view_module_version": "1.2.0",
            "grid_template_areas": null,
            "object_position": null,
            "object_fit": null,
            "grid_auto_columns": null,
            "margin": null,
            "display": null,
            "left": null
          }
        },
        "83222cbf30a24f2999561b0f468af5d3": {
          "model_module": "@jupyter-widgets/controls",
          "model_name": "HBoxModel",
          "state": {
            "_view_name": "HBoxView",
            "_dom_classes": [],
            "_model_name": "HBoxModel",
            "_view_module": "@jupyter-widgets/controls",
            "_model_module_version": "1.5.0",
            "_view_count": null,
            "_view_module_version": "1.5.0",
            "box_style": "",
            "layout": "IPY_MODEL_814c81ef111f4a679c135da18c9c5eb5",
            "_model_module": "@jupyter-widgets/controls",
            "children": [
              "IPY_MODEL_fa7077ada0f44fc1bf37df796fcd2c6a",
              "IPY_MODEL_49c0534ea7444597a83c216dc17b14fa"
            ]
          }
        },
        "814c81ef111f4a679c135da18c9c5eb5": {
          "model_module": "@jupyter-widgets/base",
          "model_name": "LayoutModel",
          "state": {
            "_view_name": "LayoutView",
            "grid_template_rows": null,
            "right": null,
            "justify_content": null,
            "_view_module": "@jupyter-widgets/base",
            "overflow": null,
            "_model_module_version": "1.2.0",
            "_view_count": null,
            "flex_flow": null,
            "width": null,
            "min_width": null,
            "border": null,
            "align_items": null,
            "bottom": null,
            "_model_module": "@jupyter-widgets/base",
            "top": null,
            "grid_column": null,
            "overflow_y": null,
            "overflow_x": null,
            "grid_auto_flow": null,
            "grid_area": null,
            "grid_template_columns": null,
            "flex": null,
            "_model_name": "LayoutModel",
            "justify_items": null,
            "grid_row": null,
            "max_height": null,
            "align_content": null,
            "visibility": null,
            "align_self": null,
            "height": null,
            "min_height": null,
            "padding": null,
            "grid_auto_rows": null,
            "grid_gap": null,
            "max_width": null,
            "order": null,
            "_view_module_version": "1.2.0",
            "grid_template_areas": null,
            "object_position": null,
            "object_fit": null,
            "grid_auto_columns": null,
            "margin": null,
            "display": null,
            "left": null
          }
        },
        "fa7077ada0f44fc1bf37df796fcd2c6a": {
          "model_module": "@jupyter-widgets/controls",
          "model_name": "FloatProgressModel",
          "state": {
            "_view_name": "ProgressView",
            "style": "IPY_MODEL_8963327012e14923b9bdd10a8db7757f",
            "_dom_classes": [],
            "description": "",
            "_model_name": "FloatProgressModel",
            "bar_style": "info",
            "max": 1,
            "_view_module": "@jupyter-widgets/controls",
            "_model_module_version": "1.5.0",
            "value": 1,
            "_view_count": null,
            "_view_module_version": "1.5.0",
            "orientation": "horizontal",
            "min": 0,
            "description_tooltip": null,
            "_model_module": "@jupyter-widgets/controls",
            "layout": "IPY_MODEL_b3d4f8c701a5414dad03aabc8bf358e0"
          }
        },
        "49c0534ea7444597a83c216dc17b14fa": {
          "model_module": "@jupyter-widgets/controls",
          "model_name": "HTMLModel",
          "state": {
            "_view_name": "HTMLView",
            "style": "IPY_MODEL_a2ddff0d16a643dc8dd37975ee73f5e3",
            "_dom_classes": [],
            "description": "",
            "_model_name": "HTMLModel",
            "placeholder": "​",
            "_view_module": "@jupyter-widgets/controls",
            "_model_module_version": "1.5.0",
            "value": " 32768/? [00:16&lt;00:00, 74393.14it/s]",
            "_view_count": null,
            "_view_module_version": "1.5.0",
            "description_tooltip": null,
            "_model_module": "@jupyter-widgets/controls",
            "layout": "IPY_MODEL_4a1329d69ef04a1299ac146a62358cdc"
          }
        },
        "8963327012e14923b9bdd10a8db7757f": {
          "model_module": "@jupyter-widgets/controls",
          "model_name": "ProgressStyleModel",
          "state": {
            "_view_name": "StyleView",
            "_model_name": "ProgressStyleModel",
            "description_width": "initial",
            "_view_module": "@jupyter-widgets/base",
            "_model_module_version": "1.5.0",
            "_view_count": null,
            "_view_module_version": "1.2.0",
            "bar_color": null,
            "_model_module": "@jupyter-widgets/controls"
          }
        },
        "b3d4f8c701a5414dad03aabc8bf358e0": {
          "model_module": "@jupyter-widgets/base",
          "model_name": "LayoutModel",
          "state": {
            "_view_name": "LayoutView",
            "grid_template_rows": null,
            "right": null,
            "justify_content": null,
            "_view_module": "@jupyter-widgets/base",
            "overflow": null,
            "_model_module_version": "1.2.0",
            "_view_count": null,
            "flex_flow": null,
            "width": null,
            "min_width": null,
            "border": null,
            "align_items": null,
            "bottom": null,
            "_model_module": "@jupyter-widgets/base",
            "top": null,
            "grid_column": null,
            "overflow_y": null,
            "overflow_x": null,
            "grid_auto_flow": null,
            "grid_area": null,
            "grid_template_columns": null,
            "flex": null,
            "_model_name": "LayoutModel",
            "justify_items": null,
            "grid_row": null,
            "max_height": null,
            "align_content": null,
            "visibility": null,
            "align_self": null,
            "height": null,
            "min_height": null,
            "padding": null,
            "grid_auto_rows": null,
            "grid_gap": null,
            "max_width": null,
            "order": null,
            "_view_module_version": "1.2.0",
            "grid_template_areas": null,
            "object_position": null,
            "object_fit": null,
            "grid_auto_columns": null,
            "margin": null,
            "display": null,
            "left": null
          }
        },
        "a2ddff0d16a643dc8dd37975ee73f5e3": {
          "model_module": "@jupyter-widgets/controls",
          "model_name": "DescriptionStyleModel",
          "state": {
            "_view_name": "StyleView",
            "_model_name": "DescriptionStyleModel",
            "description_width": "",
            "_view_module": "@jupyter-widgets/base",
            "_model_module_version": "1.5.0",
            "_view_count": null,
            "_view_module_version": "1.2.0",
            "_model_module": "@jupyter-widgets/controls"
          }
        },
        "4a1329d69ef04a1299ac146a62358cdc": {
          "model_module": "@jupyter-widgets/base",
          "model_name": "LayoutModel",
          "state": {
            "_view_name": "LayoutView",
            "grid_template_rows": null,
            "right": null,
            "justify_content": null,
            "_view_module": "@jupyter-widgets/base",
            "overflow": null,
            "_model_module_version": "1.2.0",
            "_view_count": null,
            "flex_flow": null,
            "width": null,
            "min_width": null,
            "border": null,
            "align_items": null,
            "bottom": null,
            "_model_module": "@jupyter-widgets/base",
            "top": null,
            "grid_column": null,
            "overflow_y": null,
            "overflow_x": null,
            "grid_auto_flow": null,
            "grid_area": null,
            "grid_template_columns": null,
            "flex": null,
            "_model_name": "LayoutModel",
            "justify_items": null,
            "grid_row": null,
            "max_height": null,
            "align_content": null,
            "visibility": null,
            "align_self": null,
            "height": null,
            "min_height": null,
            "padding": null,
            "grid_auto_rows": null,
            "grid_gap": null,
            "max_width": null,
            "order": null,
            "_view_module_version": "1.2.0",
            "grid_template_areas": null,
            "object_position": null,
            "object_fit": null,
            "grid_auto_columns": null,
            "margin": null,
            "display": null,
            "left": null
          }
        },
        "b50a931a67124f5ca4fdab566d4bb5d1": {
          "model_module": "@jupyter-widgets/controls",
          "model_name": "HBoxModel",
          "state": {
            "_view_name": "HBoxView",
            "_dom_classes": [],
            "_model_name": "HBoxModel",
            "_view_module": "@jupyter-widgets/controls",
            "_model_module_version": "1.5.0",
            "_view_count": null,
            "_view_module_version": "1.5.0",
            "box_style": "",
            "layout": "IPY_MODEL_2b5c7b8c97954b9cb45bf426dd2a4bd6",
            "_model_module": "@jupyter-widgets/controls",
            "children": [
              "IPY_MODEL_cd4a487f58eb40ee812de8416880b974",
              "IPY_MODEL_12b0f74af9124a1f9082c96653785272"
            ]
          }
        },
        "2b5c7b8c97954b9cb45bf426dd2a4bd6": {
          "model_module": "@jupyter-widgets/base",
          "model_name": "LayoutModel",
          "state": {
            "_view_name": "LayoutView",
            "grid_template_rows": null,
            "right": null,
            "justify_content": null,
            "_view_module": "@jupyter-widgets/base",
            "overflow": null,
            "_model_module_version": "1.2.0",
            "_view_count": null,
            "flex_flow": null,
            "width": null,
            "min_width": null,
            "border": null,
            "align_items": null,
            "bottom": null,
            "_model_module": "@jupyter-widgets/base",
            "top": null,
            "grid_column": null,
            "overflow_y": null,
            "overflow_x": null,
            "grid_auto_flow": null,
            "grid_area": null,
            "grid_template_columns": null,
            "flex": null,
            "_model_name": "LayoutModel",
            "justify_items": null,
            "grid_row": null,
            "max_height": null,
            "align_content": null,
            "visibility": null,
            "align_self": null,
            "height": null,
            "min_height": null,
            "padding": null,
            "grid_auto_rows": null,
            "grid_gap": null,
            "max_width": null,
            "order": null,
            "_view_module_version": "1.2.0",
            "grid_template_areas": null,
            "object_position": null,
            "object_fit": null,
            "grid_auto_columns": null,
            "margin": null,
            "display": null,
            "left": null
          }
        },
        "cd4a487f58eb40ee812de8416880b974": {
          "model_module": "@jupyter-widgets/controls",
          "model_name": "FloatProgressModel",
          "state": {
            "_view_name": "ProgressView",
            "style": "IPY_MODEL_e8002ee80ed84a67ad490574721df624",
            "_dom_classes": [],
            "description": "",
            "_model_name": "FloatProgressModel",
            "bar_style": "success",
            "max": 1,
            "_view_module": "@jupyter-widgets/controls",
            "_model_module_version": "1.5.0",
            "value": 1,
            "_view_count": null,
            "_view_module_version": "1.5.0",
            "orientation": "horizontal",
            "min": 0,
            "description_tooltip": null,
            "_model_module": "@jupyter-widgets/controls",
            "layout": "IPY_MODEL_e67dbfc6005344fc9d60dc135db19bde"
          }
        },
        "12b0f74af9124a1f9082c96653785272": {
          "model_module": "@jupyter-widgets/controls",
          "model_name": "HTMLModel",
          "state": {
            "_view_name": "HTMLView",
            "style": "IPY_MODEL_68f0dcca48be4b41a5191c795a48e289",
            "_dom_classes": [],
            "description": "",
            "_model_name": "HTMLModel",
            "placeholder": "​",
            "_view_module": "@jupyter-widgets/controls",
            "_model_module_version": "1.5.0",
            "value": " 1654784/? [00:05&lt;00:00, 302596.75it/s]",
            "_view_count": null,
            "_view_module_version": "1.5.0",
            "description_tooltip": null,
            "_model_module": "@jupyter-widgets/controls",
            "layout": "IPY_MODEL_f1a01aea3ab44603b9620cef88e1c462"
          }
        },
        "e8002ee80ed84a67ad490574721df624": {
          "model_module": "@jupyter-widgets/controls",
          "model_name": "ProgressStyleModel",
          "state": {
            "_view_name": "StyleView",
            "_model_name": "ProgressStyleModel",
            "description_width": "initial",
            "_view_module": "@jupyter-widgets/base",
            "_model_module_version": "1.5.0",
            "_view_count": null,
            "_view_module_version": "1.2.0",
            "bar_color": null,
            "_model_module": "@jupyter-widgets/controls"
          }
        },
        "e67dbfc6005344fc9d60dc135db19bde": {
          "model_module": "@jupyter-widgets/base",
          "model_name": "LayoutModel",
          "state": {
            "_view_name": "LayoutView",
            "grid_template_rows": null,
            "right": null,
            "justify_content": null,
            "_view_module": "@jupyter-widgets/base",
            "overflow": null,
            "_model_module_version": "1.2.0",
            "_view_count": null,
            "flex_flow": null,
            "width": null,
            "min_width": null,
            "border": null,
            "align_items": null,
            "bottom": null,
            "_model_module": "@jupyter-widgets/base",
            "top": null,
            "grid_column": null,
            "overflow_y": null,
            "overflow_x": null,
            "grid_auto_flow": null,
            "grid_area": null,
            "grid_template_columns": null,
            "flex": null,
            "_model_name": "LayoutModel",
            "justify_items": null,
            "grid_row": null,
            "max_height": null,
            "align_content": null,
            "visibility": null,
            "align_self": null,
            "height": null,
            "min_height": null,
            "padding": null,
            "grid_auto_rows": null,
            "grid_gap": null,
            "max_width": null,
            "order": null,
            "_view_module_version": "1.2.0",
            "grid_template_areas": null,
            "object_position": null,
            "object_fit": null,
            "grid_auto_columns": null,
            "margin": null,
            "display": null,
            "left": null
          }
        },
        "68f0dcca48be4b41a5191c795a48e289": {
          "model_module": "@jupyter-widgets/controls",
          "model_name": "DescriptionStyleModel",
          "state": {
            "_view_name": "StyleView",
            "_model_name": "DescriptionStyleModel",
            "description_width": "",
            "_view_module": "@jupyter-widgets/base",
            "_model_module_version": "1.5.0",
            "_view_count": null,
            "_view_module_version": "1.2.0",
            "_model_module": "@jupyter-widgets/controls"
          }
        },
        "f1a01aea3ab44603b9620cef88e1c462": {
          "model_module": "@jupyter-widgets/base",
          "model_name": "LayoutModel",
          "state": {
            "_view_name": "LayoutView",
            "grid_template_rows": null,
            "right": null,
            "justify_content": null,
            "_view_module": "@jupyter-widgets/base",
            "overflow": null,
            "_model_module_version": "1.2.0",
            "_view_count": null,
            "flex_flow": null,
            "width": null,
            "min_width": null,
            "border": null,
            "align_items": null,
            "bottom": null,
            "_model_module": "@jupyter-widgets/base",
            "top": null,
            "grid_column": null,
            "overflow_y": null,
            "overflow_x": null,
            "grid_auto_flow": null,
            "grid_area": null,
            "grid_template_columns": null,
            "flex": null,
            "_model_name": "LayoutModel",
            "justify_items": null,
            "grid_row": null,
            "max_height": null,
            "align_content": null,
            "visibility": null,
            "align_self": null,
            "height": null,
            "min_height": null,
            "padding": null,
            "grid_auto_rows": null,
            "grid_gap": null,
            "max_width": null,
            "order": null,
            "_view_module_version": "1.2.0",
            "grid_template_areas": null,
            "object_position": null,
            "object_fit": null,
            "grid_auto_columns": null,
            "margin": null,
            "display": null,
            "left": null
          }
        },
        "40c15379ae294c49be2bfc8feb14dbf2": {
          "model_module": "@jupyter-widgets/controls",
          "model_name": "HBoxModel",
          "state": {
            "_view_name": "HBoxView",
            "_dom_classes": [],
            "_model_name": "HBoxModel",
            "_view_module": "@jupyter-widgets/controls",
            "_model_module_version": "1.5.0",
            "_view_count": null,
            "_view_module_version": "1.5.0",
            "box_style": "",
            "layout": "IPY_MODEL_f68798af2b7c48a9a35e08ae90558e4e",
            "_model_module": "@jupyter-widgets/controls",
            "children": [
              "IPY_MODEL_df107482f1ff491c84d5d683a22a522e",
              "IPY_MODEL_5577774aa38044d8874eee0d67139bf8"
            ]
          }
        },
        "f68798af2b7c48a9a35e08ae90558e4e": {
          "model_module": "@jupyter-widgets/base",
          "model_name": "LayoutModel",
          "state": {
            "_view_name": "LayoutView",
            "grid_template_rows": null,
            "right": null,
            "justify_content": null,
            "_view_module": "@jupyter-widgets/base",
            "overflow": null,
            "_model_module_version": "1.2.0",
            "_view_count": null,
            "flex_flow": null,
            "width": null,
            "min_width": null,
            "border": null,
            "align_items": null,
            "bottom": null,
            "_model_module": "@jupyter-widgets/base",
            "top": null,
            "grid_column": null,
            "overflow_y": null,
            "overflow_x": null,
            "grid_auto_flow": null,
            "grid_area": null,
            "grid_template_columns": null,
            "flex": null,
            "_model_name": "LayoutModel",
            "justify_items": null,
            "grid_row": null,
            "max_height": null,
            "align_content": null,
            "visibility": null,
            "align_self": null,
            "height": null,
            "min_height": null,
            "padding": null,
            "grid_auto_rows": null,
            "grid_gap": null,
            "max_width": null,
            "order": null,
            "_view_module_version": "1.2.0",
            "grid_template_areas": null,
            "object_position": null,
            "object_fit": null,
            "grid_auto_columns": null,
            "margin": null,
            "display": null,
            "left": null
          }
        },
        "df107482f1ff491c84d5d683a22a522e": {
          "model_module": "@jupyter-widgets/controls",
          "model_name": "FloatProgressModel",
          "state": {
            "_view_name": "ProgressView",
            "style": "IPY_MODEL_6a9e89fdc6e34437a17d5ca1672f0856",
            "_dom_classes": [],
            "description": "",
            "_model_name": "FloatProgressModel",
            "bar_style": "success",
            "max": 1,
            "_view_module": "@jupyter-widgets/controls",
            "_model_module_version": "1.5.0",
            "value": 1,
            "_view_count": null,
            "_view_module_version": "1.5.0",
            "orientation": "horizontal",
            "min": 0,
            "description_tooltip": null,
            "_model_module": "@jupyter-widgets/controls",
            "layout": "IPY_MODEL_07bab049bcad4294b3988a16852e9187"
          }
        },
        "5577774aa38044d8874eee0d67139bf8": {
          "model_module": "@jupyter-widgets/controls",
          "model_name": "HTMLModel",
          "state": {
            "_view_name": "HTMLView",
            "style": "IPY_MODEL_24473163ec514a5385247d714ed9f4bf",
            "_dom_classes": [],
            "description": "",
            "_model_name": "HTMLModel",
            "placeholder": "​",
            "_view_module": "@jupyter-widgets/controls",
            "_model_module_version": "1.5.0",
            "value": " 8192/? [00:03&lt;00:00, 2297.42it/s]",
            "_view_count": null,
            "_view_module_version": "1.5.0",
            "description_tooltip": null,
            "_model_module": "@jupyter-widgets/controls",
            "layout": "IPY_MODEL_27c0d1823d464b479c90d66b44999cae"
          }
        },
        "6a9e89fdc6e34437a17d5ca1672f0856": {
          "model_module": "@jupyter-widgets/controls",
          "model_name": "ProgressStyleModel",
          "state": {
            "_view_name": "StyleView",
            "_model_name": "ProgressStyleModel",
            "description_width": "initial",
            "_view_module": "@jupyter-widgets/base",
            "_model_module_version": "1.5.0",
            "_view_count": null,
            "_view_module_version": "1.2.0",
            "bar_color": null,
            "_model_module": "@jupyter-widgets/controls"
          }
        },
        "07bab049bcad4294b3988a16852e9187": {
          "model_module": "@jupyter-widgets/base",
          "model_name": "LayoutModel",
          "state": {
            "_view_name": "LayoutView",
            "grid_template_rows": null,
            "right": null,
            "justify_content": null,
            "_view_module": "@jupyter-widgets/base",
            "overflow": null,
            "_model_module_version": "1.2.0",
            "_view_count": null,
            "flex_flow": null,
            "width": null,
            "min_width": null,
            "border": null,
            "align_items": null,
            "bottom": null,
            "_model_module": "@jupyter-widgets/base",
            "top": null,
            "grid_column": null,
            "overflow_y": null,
            "overflow_x": null,
            "grid_auto_flow": null,
            "grid_area": null,
            "grid_template_columns": null,
            "flex": null,
            "_model_name": "LayoutModel",
            "justify_items": null,
            "grid_row": null,
            "max_height": null,
            "align_content": null,
            "visibility": null,
            "align_self": null,
            "height": null,
            "min_height": null,
            "padding": null,
            "grid_auto_rows": null,
            "grid_gap": null,
            "max_width": null,
            "order": null,
            "_view_module_version": "1.2.0",
            "grid_template_areas": null,
            "object_position": null,
            "object_fit": null,
            "grid_auto_columns": null,
            "margin": null,
            "display": null,
            "left": null
          }
        },
        "24473163ec514a5385247d714ed9f4bf": {
          "model_module": "@jupyter-widgets/controls",
          "model_name": "DescriptionStyleModel",
          "state": {
            "_view_name": "StyleView",
            "_model_name": "DescriptionStyleModel",
            "description_width": "",
            "_view_module": "@jupyter-widgets/base",
            "_model_module_version": "1.5.0",
            "_view_count": null,
            "_view_module_version": "1.2.0",
            "_model_module": "@jupyter-widgets/controls"
          }
        },
        "27c0d1823d464b479c90d66b44999cae": {
          "model_module": "@jupyter-widgets/base",
          "model_name": "LayoutModel",
          "state": {
            "_view_name": "LayoutView",
            "grid_template_rows": null,
            "right": null,
            "justify_content": null,
            "_view_module": "@jupyter-widgets/base",
            "overflow": null,
            "_model_module_version": "1.2.0",
            "_view_count": null,
            "flex_flow": null,
            "width": null,
            "min_width": null,
            "border": null,
            "align_items": null,
            "bottom": null,
            "_model_module": "@jupyter-widgets/base",
            "top": null,
            "grid_column": null,
            "overflow_y": null,
            "overflow_x": null,
            "grid_auto_flow": null,
            "grid_area": null,
            "grid_template_columns": null,
            "flex": null,
            "_model_name": "LayoutModel",
            "justify_items": null,
            "grid_row": null,
            "max_height": null,
            "align_content": null,
            "visibility": null,
            "align_self": null,
            "height": null,
            "min_height": null,
            "padding": null,
            "grid_auto_rows": null,
            "grid_gap": null,
            "max_width": null,
            "order": null,
            "_view_module_version": "1.2.0",
            "grid_template_areas": null,
            "object_position": null,
            "object_fit": null,
            "grid_auto_columns": null,
            "margin": null,
            "display": null,
            "left": null
          }
        }
      }
    }
  },
  "cells": [
    {
      "cell_type": "markdown",
      "metadata": {
        "id": "view-in-github",
        "colab_type": "text"
      },
      "source": [
        "<a href=\"https://colab.research.google.com/github/nupursjsu/Deep-Learning/blob/master/Graded_Assignment4/PyTorch_ResNet.ipynb\" target=\"_parent\"><img src=\"https://colab.research.google.com/assets/colab-badge.svg\" alt=\"Open In Colab\"/></a>"
      ]
    },
    {
      "cell_type": "markdown",
      "metadata": {
        "id": "Uy5a4k4a-_0v",
        "colab_type": "text"
      },
      "source": [
        "#Implementing ResNet in PyTorch"
      ]
    },
    {
      "cell_type": "markdown",
      "metadata": {
        "id": "OutUxCWe_GUD",
        "colab_type": "text"
      },
      "source": [
        "##Importing required libraries"
      ]
    },
    {
      "cell_type": "code",
      "metadata": {
        "id": "IK7heKwn-7bT",
        "colab_type": "code",
        "colab": {}
      },
      "source": [
        "import numpy as np\n",
        "import torch\n",
        "import torch.nn as nn\n",
        "import torch.optim as optim\n",
        "from torchvision import datasets, transforms\n",
        "from torch.autograd import Variable\n",
        "from PIL import Image\n",
        "import torch.nn.functional as F"
      ],
      "execution_count": 0,
      "outputs": []
    },
    {
      "cell_type": "markdown",
      "metadata": {
        "id": "-2nqhwsbAGPs",
        "colab_type": "text"
      },
      "source": [
        "## Loading MNIST dataset"
      ]
    },
    {
      "cell_type": "code",
      "metadata": {
        "id": "MX6yXcu__Xqx",
        "colab_type": "code",
        "colab": {}
      },
      "source": [
        "def load_data(train_batch_size, test_batch_size):\n",
        "    #Fetching test data containing 60000 samples\n",
        "    train_loader = torch.utils.data.DataLoader(\n",
        "        datasets.MNIST('data', train=True, download=True,\n",
        "                       transform=transforms.Compose([\n",
        "                           transforms.Resize((32, 32)),\n",
        "                           transforms.ToTensor(),\n",
        "                           transforms.Normalize((0.1307,), (0.3081,))\n",
        "                       ])),\n",
        "        batch_size=train_batch_size, shuffle=True)\n",
        "\n",
        "    #Fetching test data containing 10000 samples\n",
        "    test_loader = torch.utils.data.DataLoader(\n",
        "        datasets.MNIST('data', train=False, transform=transforms.Compose([\n",
        "            transforms.Resize((32, 32)),\n",
        "            transforms.ToTensor(),\n",
        "            transforms.Normalize((0.1307,), (0.3081,))\n",
        "        ])),\n",
        "        batch_size=test_batch_size, shuffle=True)\n",
        "\n",
        "    return (train_loader, test_loader)"
      ],
      "execution_count": 0,
      "outputs": []
    },
    {
      "cell_type": "markdown",
      "metadata": {
        "id": "uJWRUuw8ASdf",
        "colab_type": "text"
      },
      "source": [
        "##Building ResNet model"
      ]
    },
    {
      "cell_type": "code",
      "metadata": {
        "id": "we_FGPiK_RU2",
        "colab_type": "code",
        "colab": {}
      },
      "source": [
        "class ResNet(nn.Module):\n",
        "    def __init__(self):\n",
        "        super(ResNet, self).__init__()\n",
        "        self.conv1 = nn.Conv2d(1, 6, 5)\n",
        "        self.conv2 = nn.Conv2d(6, 16, 5)\n",
        "        self.fc1 = nn.Linear(16 * 5 * 5, 120)\n",
        "        self.fc2 = nn.Linear(120, 84)\n",
        "        self.fc3 = nn.Linear(84, 10)\n",
        "\n",
        "    def forward(self, x):\n",
        "        x = F.max_pool2d(F.relu(self.conv1(x)), 2)\n",
        "        x = F.max_pool2d(F.relu(self.conv2(x)), 2)\n",
        "        x = x.view(x.size()[0], -1)\n",
        "        x = F.relu(self.fc1(x))\n",
        "        x = F.relu(self.fc2(x))\n",
        "        x = self.fc3(x)\n",
        "        return x"
      ],
      "execution_count": 0,
      "outputs": []
    },
    {
      "cell_type": "markdown",
      "metadata": {
        "id": "TZlbfQ31AhSu",
        "colab_type": "text"
      },
      "source": [
        "##Defining the train function"
      ]
    },
    {
      "cell_type": "code",
      "metadata": {
        "id": "f2xYB-Bn_5wD",
        "colab_type": "code",
        "colab": {}
      },
      "source": [
        " def train(model, optimizer, epoch, train_loader, log_interval):  \n",
        "    model.train()\n",
        "\n",
        "    #Defining loss function\n",
        "    loss_fn = torch.nn.CrossEntropyLoss()\n",
        "\n",
        "    #Iterating over batches of data\n",
        "    for batch_idx, (data, target) in enumerate(train_loader):\n",
        "        \n",
        "        data, target = Variable(data), Variable(target)\n",
        "\n",
        "        #Setting the gradients to zero, since PyTorch accumulates them\n",
        "        optimizer.zero_grad()\n",
        "\n",
        "        #Defining Forward propagation\n",
        "        output = model(data)\n",
        "\n",
        "        loss = loss_fn(output, target)\n",
        "\n",
        "        #Defining Backward propagation\n",
        "        loss.backward()\n",
        "\n",
        "        #Updating the parameters after backward prop\n",
        "        optimizer.step()\n",
        "\n",
        "        #Displaying the log\n",
        "        if batch_idx % log_interval == 0:\n",
        "            print('Train set, Epoch {} [{}/{} ({:.0f}%)]\\tLoss: {:.6f}'.format(\n",
        "                epoch, batch_idx * len(data), len(train_loader.dataset),\n",
        "                       100. * batch_idx / len(train_loader),\n",
        "                loss.item()))"
      ],
      "execution_count": 0,
      "outputs": []
    },
    {
      "cell_type": "markdown",
      "metadata": {
        "id": "GHIvNqmrBEFB",
        "colab_type": "text"
      },
      "source": [
        "##Defining the test function"
      ]
    },
    {
      "cell_type": "code",
      "metadata": {
        "id": "2dgpvgNfBHJh",
        "colab_type": "code",
        "colab": {}
      },
      "source": [
        "def test(model, epoch, test_loader):\n",
        "    #Defining that we are testing the model\n",
        "    model.eval()\n",
        "\n",
        "    #Initializing the variables for init loss & correct prediction accumulators\n",
        "    test_loss = 0\n",
        "    correct = 0\n",
        "\n",
        "    #Defining loss function\n",
        "    loss_fn = torch.nn.CrossEntropyLoss(size_average=False)\n",
        "\n",
        "    #Iterating over data\n",
        "    for data, target in test_loader:\n",
        "        data, target = Variable(data), Variable(target)\n",
        "        \n",
        "        #Defining Forward propagation\n",
        "        output = model(data)\n",
        "\n",
        "        #Calculating & accumulating loss\n",
        "        test_loss += loss_fn(output, target).item()\n",
        "\n",
        "        #Getting the index of the max log-probability which is the predicted output label\n",
        "        pred = np.argmax(output.data, axis=1)\n",
        "\n",
        "        #If correct, increment correct prediction accumulator\n",
        "        correct = correct + np.equal(pred, target.data).sum()\n",
        "\n",
        "    #Displaying the log\n",
        "    test_loss /= len(test_loader.dataset)\n",
        "    print('\\nTest set, Epoch {} , Average loss: {:.4f}, Accuracy: {}/{} ({:.0f}%)\\n'.format(epoch,\n",
        "        test_loss, correct, len(test_loader.dataset),\n",
        "        100. * correct / len(test_loader.dataset)))"
      ],
      "execution_count": 0,
      "outputs": []
    },
    {
      "cell_type": "markdown",
      "metadata": {
        "id": "XGJlRBW3BhhV",
        "colab_type": "text"
      },
      "source": [
        "##Defining the parameters"
      ]
    },
    {
      "cell_type": "code",
      "metadata": {
        "id": "gg0bPYsVBiNe",
        "colab_type": "code",
        "colab": {
          "base_uri": "https://localhost:8080/",
          "height": 352,
          "referenced_widgets": [
            "a9a642301a48469d8dad0c8f7ab83f28",
            "30a2390f6e9f434e85b1747c765cb5a3",
            "41ff29a6f43b428e984f9331b6b40643",
            "47b772713c5b49208a6cdbb3c121dc29",
            "ce814e558db44ef1a2885b86a40e7bc3",
            "6494507a43b547788944a0810bd29cd8",
            "351330d994314e0d84d40388892dda19",
            "f47c773634ef4feb88531a51262627b0",
            "83222cbf30a24f2999561b0f468af5d3",
            "814c81ef111f4a679c135da18c9c5eb5",
            "fa7077ada0f44fc1bf37df796fcd2c6a",
            "49c0534ea7444597a83c216dc17b14fa",
            "8963327012e14923b9bdd10a8db7757f",
            "b3d4f8c701a5414dad03aabc8bf358e0",
            "a2ddff0d16a643dc8dd37975ee73f5e3",
            "4a1329d69ef04a1299ac146a62358cdc",
            "b50a931a67124f5ca4fdab566d4bb5d1",
            "2b5c7b8c97954b9cb45bf426dd2a4bd6",
            "cd4a487f58eb40ee812de8416880b974",
            "12b0f74af9124a1f9082c96653785272",
            "e8002ee80ed84a67ad490574721df624",
            "e67dbfc6005344fc9d60dc135db19bde",
            "68f0dcca48be4b41a5191c795a48e289",
            "f1a01aea3ab44603b9620cef88e1c462",
            "40c15379ae294c49be2bfc8feb14dbf2",
            "f68798af2b7c48a9a35e08ae90558e4e",
            "df107482f1ff491c84d5d683a22a522e",
            "5577774aa38044d8874eee0d67139bf8",
            "6a9e89fdc6e34437a17d5ca1672f0856",
            "07bab049bcad4294b3988a16852e9187",
            "24473163ec514a5385247d714ed9f4bf",
            "27c0d1823d464b479c90d66b44999cae"
          ]
        },
        "outputId": "ed1452ef-ff12-46cc-e4d0-20420c98ede6"
      },
      "source": [
        "torch.manual_seed(123)\n",
        "\n",
        "model = ResNet()\n",
        "\n",
        "lr = 0.01\n",
        "momentum=0.5\n",
        "optimizer = optim.SGD(model.parameters(), lr=lr, momentum=momentum)\n",
        "\n",
        "train_batch_size = 64\n",
        "test_batch_size = 1000\n",
        "train_loader, test_loader = load_data(train_batch_size, test_batch_size)"
      ],
      "execution_count": 7,
      "outputs": [
        {
          "output_type": "stream",
          "text": [
            "Downloading http://yann.lecun.com/exdb/mnist/train-images-idx3-ubyte.gz to data/MNIST/raw/train-images-idx3-ubyte.gz\n"
          ],
          "name": "stdout"
        },
        {
          "output_type": "display_data",
          "data": {
            "application/vnd.jupyter.widget-view+json": {
              "model_id": "a9a642301a48469d8dad0c8f7ab83f28",
              "version_minor": 0,
              "version_major": 2
            },
            "text/plain": [
              "HBox(children=(FloatProgress(value=1.0, bar_style='info', max=1.0), HTML(value='')))"
            ]
          },
          "metadata": {
            "tags": []
          }
        },
        {
          "output_type": "stream",
          "text": [
            "Extracting data/MNIST/raw/train-images-idx3-ubyte.gz to data/MNIST/raw\n",
            "Downloading http://yann.lecun.com/exdb/mnist/train-labels-idx1-ubyte.gz to data/MNIST/raw/train-labels-idx1-ubyte.gz\n"
          ],
          "name": "stdout"
        },
        {
          "output_type": "display_data",
          "data": {
            "application/vnd.jupyter.widget-view+json": {
              "model_id": "83222cbf30a24f2999561b0f468af5d3",
              "version_minor": 0,
              "version_major": 2
            },
            "text/plain": [
              "HBox(children=(FloatProgress(value=1.0, bar_style='info', max=1.0), HTML(value='')))"
            ]
          },
          "metadata": {
            "tags": []
          }
        },
        {
          "output_type": "stream",
          "text": [
            "Extracting data/MNIST/raw/train-labels-idx1-ubyte.gz to data/MNIST/raw\n",
            "Downloading http://yann.lecun.com/exdb/mnist/t10k-images-idx3-ubyte.gz to data/MNIST/raw/t10k-images-idx3-ubyte.gz\n"
          ],
          "name": "stdout"
        },
        {
          "output_type": "display_data",
          "data": {
            "application/vnd.jupyter.widget-view+json": {
              "model_id": "b50a931a67124f5ca4fdab566d4bb5d1",
              "version_minor": 0,
              "version_major": 2
            },
            "text/plain": [
              "HBox(children=(FloatProgress(value=1.0, bar_style='info', max=1.0), HTML(value='')))"
            ]
          },
          "metadata": {
            "tags": []
          }
        },
        {
          "output_type": "stream",
          "text": [
            "Extracting data/MNIST/raw/t10k-images-idx3-ubyte.gz to data/MNIST/raw\n",
            "Downloading http://yann.lecun.com/exdb/mnist/t10k-labels-idx1-ubyte.gz to data/MNIST/raw/t10k-labels-idx1-ubyte.gz\n"
          ],
          "name": "stdout"
        },
        {
          "output_type": "display_data",
          "data": {
            "application/vnd.jupyter.widget-view+json": {
              "model_id": "40c15379ae294c49be2bfc8feb14dbf2",
              "version_minor": 0,
              "version_major": 2
            },
            "text/plain": [
              "HBox(children=(FloatProgress(value=1.0, bar_style='info', max=1.0), HTML(value='')))"
            ]
          },
          "metadata": {
            "tags": []
          }
        },
        {
          "output_type": "stream",
          "text": [
            "Extracting data/MNIST/raw/t10k-labels-idx1-ubyte.gz to data/MNIST/raw\n",
            "Processing...\n",
            "Done!\n"
          ],
          "name": "stdout"
        },
        {
          "output_type": "stream",
          "text": [
            "/pytorch/torch/csrc/utils/tensor_numpy.cpp:141: UserWarning: The given NumPy array is not writeable, and PyTorch does not support non-writeable tensors. This means you can write to the underlying (supposedly non-writeable) NumPy array using the tensor. You may want to copy the array to protect its data or make it writeable before converting it to a tensor. This type of warning will be suppressed for the rest of this program.\n"
          ],
          "name": "stderr"
        }
      ]
    },
    {
      "cell_type": "markdown",
      "metadata": {
        "id": "kWF4CroUBpiE",
        "colab_type": "text"
      },
      "source": [
        "##Training and Testing the ResNet model"
      ]
    },
    {
      "cell_type": "code",
      "metadata": {
        "id": "k8Rn9oViBp5P",
        "colab_type": "code",
        "colab": {
          "base_uri": "https://localhost:8080/",
          "height": 1000
        },
        "outputId": "86258d56-e038-4b72-c952-eac7bf084fe5"
      },
      "source": [
        "epochs = 10\n",
        "log_interval = 100\n",
        "for epoch in range(1, epochs + 1):\n",
        "    train(model, optimizer, epoch, train_loader, log_interval=log_interval)\n",
        "    test(model, epoch, test_loader)"
      ],
      "execution_count": 8,
      "outputs": [
        {
          "output_type": "stream",
          "text": [
            "\n",
            "\n",
            "Train set, Epoch 1 [0/60000 (0%)]\tLoss: 2.297229\n",
            "Train set, Epoch 1 [6400/60000 (11%)]\tLoss: 2.138053\n",
            "Train set, Epoch 1 [12800/60000 (21%)]\tLoss: 0.612845\n",
            "Train set, Epoch 1 [19200/60000 (32%)]\tLoss: 0.288354\n",
            "Train set, Epoch 1 [25600/60000 (43%)]\tLoss: 0.421566\n",
            "Train set, Epoch 1 [32000/60000 (53%)]\tLoss: 0.266445\n",
            "Train set, Epoch 1 [38400/60000 (64%)]\tLoss: 0.257292\n",
            "Train set, Epoch 1 [44800/60000 (75%)]\tLoss: 0.118953\n",
            "Train set, Epoch 1 [51200/60000 (85%)]\tLoss: 0.157034\n",
            "Train set, Epoch 1 [57600/60000 (96%)]\tLoss: 0.124597\n"
          ],
          "name": "stdout"
        },
        {
          "output_type": "stream",
          "text": [
            "/usr/local/lib/python3.6/dist-packages/torch/nn/_reduction.py:43: UserWarning: size_average and reduce args will be deprecated, please use reduction='sum' instead.\n",
            "  warnings.warn(warning.format(ret))\n"
          ],
          "name": "stderr"
        },
        {
          "output_type": "stream",
          "text": [
            "\n",
            "Test set, Epoch 1 , Average loss: 0.1271, Accuracy: 9595/10000 (96%)\n",
            "\n",
            "Train set, Epoch 2 [0/60000 (0%)]\tLoss: 0.122956\n",
            "Train set, Epoch 2 [6400/60000 (11%)]\tLoss: 0.056236\n",
            "Train set, Epoch 2 [12800/60000 (21%)]\tLoss: 0.260173\n",
            "Train set, Epoch 2 [19200/60000 (32%)]\tLoss: 0.111177\n",
            "Train set, Epoch 2 [25600/60000 (43%)]\tLoss: 0.087242\n",
            "Train set, Epoch 2 [32000/60000 (53%)]\tLoss: 0.079405\n",
            "Train set, Epoch 2 [38400/60000 (64%)]\tLoss: 0.154342\n",
            "Train set, Epoch 2 [44800/60000 (75%)]\tLoss: 0.043412\n",
            "Train set, Epoch 2 [51200/60000 (85%)]\tLoss: 0.111378\n",
            "Train set, Epoch 2 [57600/60000 (96%)]\tLoss: 0.094715\n",
            "\n",
            "Test set, Epoch 2 , Average loss: 0.1065, Accuracy: 9654/10000 (97%)\n",
            "\n",
            "Train set, Epoch 3 [0/60000 (0%)]\tLoss: 0.141730\n",
            "Train set, Epoch 3 [6400/60000 (11%)]\tLoss: 0.028807\n",
            "Train set, Epoch 3 [12800/60000 (21%)]\tLoss: 0.060322\n",
            "Train set, Epoch 3 [19200/60000 (32%)]\tLoss: 0.055607\n",
            "Train set, Epoch 3 [25600/60000 (43%)]\tLoss: 0.076396\n",
            "Train set, Epoch 3 [32000/60000 (53%)]\tLoss: 0.041063\n",
            "Train set, Epoch 3 [38400/60000 (64%)]\tLoss: 0.085574\n",
            "Train set, Epoch 3 [44800/60000 (75%)]\tLoss: 0.026864\n",
            "Train set, Epoch 3 [51200/60000 (85%)]\tLoss: 0.027914\n",
            "Train set, Epoch 3 [57600/60000 (96%)]\tLoss: 0.035504\n",
            "\n",
            "Test set, Epoch 3 , Average loss: 0.0654, Accuracy: 9803/10000 (98%)\n",
            "\n",
            "Train set, Epoch 4 [0/60000 (0%)]\tLoss: 0.028410\n",
            "Train set, Epoch 4 [6400/60000 (11%)]\tLoss: 0.029777\n",
            "Train set, Epoch 4 [12800/60000 (21%)]\tLoss: 0.025189\n",
            "Train set, Epoch 4 [19200/60000 (32%)]\tLoss: 0.214681\n",
            "Train set, Epoch 4 [25600/60000 (43%)]\tLoss: 0.116581\n",
            "Train set, Epoch 4 [32000/60000 (53%)]\tLoss: 0.042698\n",
            "Train set, Epoch 4 [38400/60000 (64%)]\tLoss: 0.015656\n",
            "Train set, Epoch 4 [44800/60000 (75%)]\tLoss: 0.124302\n",
            "Train set, Epoch 4 [51200/60000 (85%)]\tLoss: 0.061978\n",
            "Train set, Epoch 4 [57600/60000 (96%)]\tLoss: 0.046806\n",
            "\n",
            "Test set, Epoch 4 , Average loss: 0.0564, Accuracy: 9819/10000 (98%)\n",
            "\n",
            "Train set, Epoch 5 [0/60000 (0%)]\tLoss: 0.044701\n",
            "Train set, Epoch 5 [6400/60000 (11%)]\tLoss: 0.027658\n",
            "Train set, Epoch 5 [12800/60000 (21%)]\tLoss: 0.052783\n",
            "Train set, Epoch 5 [19200/60000 (32%)]\tLoss: 0.037395\n",
            "Train set, Epoch 5 [25600/60000 (43%)]\tLoss: 0.238857\n",
            "Train set, Epoch 5 [32000/60000 (53%)]\tLoss: 0.037771\n",
            "Train set, Epoch 5 [38400/60000 (64%)]\tLoss: 0.091367\n",
            "Train set, Epoch 5 [44800/60000 (75%)]\tLoss: 0.025187\n",
            "Train set, Epoch 5 [51200/60000 (85%)]\tLoss: 0.171236\n",
            "Train set, Epoch 5 [57600/60000 (96%)]\tLoss: 0.029826\n",
            "\n",
            "Test set, Epoch 5 , Average loss: 0.0542, Accuracy: 9817/10000 (98%)\n",
            "\n",
            "Train set, Epoch 6 [0/60000 (0%)]\tLoss: 0.018519\n",
            "Train set, Epoch 6 [6400/60000 (11%)]\tLoss: 0.059845\n",
            "Train set, Epoch 6 [12800/60000 (21%)]\tLoss: 0.025090\n",
            "Train set, Epoch 6 [19200/60000 (32%)]\tLoss: 0.023249\n",
            "Train set, Epoch 6 [25600/60000 (43%)]\tLoss: 0.068763\n",
            "Train set, Epoch 6 [32000/60000 (53%)]\tLoss: 0.026272\n",
            "Train set, Epoch 6 [38400/60000 (64%)]\tLoss: 0.015383\n",
            "Train set, Epoch 6 [44800/60000 (75%)]\tLoss: 0.023115\n",
            "Train set, Epoch 6 [51200/60000 (85%)]\tLoss: 0.096826\n",
            "Train set, Epoch 6 [57600/60000 (96%)]\tLoss: 0.006715\n",
            "\n",
            "Test set, Epoch 6 , Average loss: 0.0461, Accuracy: 9851/10000 (99%)\n",
            "\n",
            "Train set, Epoch 7 [0/60000 (0%)]\tLoss: 0.074042\n",
            "Train set, Epoch 7 [6400/60000 (11%)]\tLoss: 0.055926\n",
            "Train set, Epoch 7 [12800/60000 (21%)]\tLoss: 0.157031\n",
            "Train set, Epoch 7 [19200/60000 (32%)]\tLoss: 0.034175\n",
            "Train set, Epoch 7 [25600/60000 (43%)]\tLoss: 0.065114\n",
            "Train set, Epoch 7 [32000/60000 (53%)]\tLoss: 0.014378\n",
            "Train set, Epoch 7 [38400/60000 (64%)]\tLoss: 0.025236\n",
            "Train set, Epoch 7 [44800/60000 (75%)]\tLoss: 0.092153\n",
            "Train set, Epoch 7 [51200/60000 (85%)]\tLoss: 0.045958\n",
            "Train set, Epoch 7 [57600/60000 (96%)]\tLoss: 0.015903\n",
            "\n",
            "Test set, Epoch 7 , Average loss: 0.0380, Accuracy: 9871/10000 (99%)\n",
            "\n",
            "Train set, Epoch 8 [0/60000 (0%)]\tLoss: 0.013485\n",
            "Train set, Epoch 8 [6400/60000 (11%)]\tLoss: 0.010434\n",
            "Train set, Epoch 8 [12800/60000 (21%)]\tLoss: 0.010032\n",
            "Train set, Epoch 8 [19200/60000 (32%)]\tLoss: 0.029373\n",
            "Train set, Epoch 8 [25600/60000 (43%)]\tLoss: 0.097387\n",
            "Train set, Epoch 8 [32000/60000 (53%)]\tLoss: 0.044672\n",
            "Train set, Epoch 8 [38400/60000 (64%)]\tLoss: 0.029341\n",
            "Train set, Epoch 8 [44800/60000 (75%)]\tLoss: 0.045393\n",
            "Train set, Epoch 8 [51200/60000 (85%)]\tLoss: 0.002756\n",
            "Train set, Epoch 8 [57600/60000 (96%)]\tLoss: 0.012727\n",
            "\n",
            "Test set, Epoch 8 , Average loss: 0.0351, Accuracy: 9892/10000 (99%)\n",
            "\n",
            "Train set, Epoch 9 [0/60000 (0%)]\tLoss: 0.024910\n",
            "Train set, Epoch 9 [6400/60000 (11%)]\tLoss: 0.019283\n",
            "Train set, Epoch 9 [12800/60000 (21%)]\tLoss: 0.021649\n",
            "Train set, Epoch 9 [19200/60000 (32%)]\tLoss: 0.071228\n",
            "Train set, Epoch 9 [25600/60000 (43%)]\tLoss: 0.005792\n",
            "Train set, Epoch 9 [32000/60000 (53%)]\tLoss: 0.045057\n",
            "Train set, Epoch 9 [38400/60000 (64%)]\tLoss: 0.003318\n",
            "Train set, Epoch 9 [44800/60000 (75%)]\tLoss: 0.044800\n",
            "Train set, Epoch 9 [51200/60000 (85%)]\tLoss: 0.069590\n",
            "Train set, Epoch 9 [57600/60000 (96%)]\tLoss: 0.095640\n",
            "\n",
            "Test set, Epoch 9 , Average loss: 0.0455, Accuracy: 9850/10000 (98%)\n",
            "\n",
            "Train set, Epoch 10 [0/60000 (0%)]\tLoss: 0.026176\n",
            "Train set, Epoch 10 [6400/60000 (11%)]\tLoss: 0.012678\n",
            "Train set, Epoch 10 [12800/60000 (21%)]\tLoss: 0.029479\n",
            "Train set, Epoch 10 [19200/60000 (32%)]\tLoss: 0.000815\n",
            "Train set, Epoch 10 [25600/60000 (43%)]\tLoss: 0.003438\n",
            "Train set, Epoch 10 [32000/60000 (53%)]\tLoss: 0.014697\n",
            "Train set, Epoch 10 [38400/60000 (64%)]\tLoss: 0.023537\n",
            "Train set, Epoch 10 [44800/60000 (75%)]\tLoss: 0.058405\n",
            "Train set, Epoch 10 [51200/60000 (85%)]\tLoss: 0.020089\n",
            "Train set, Epoch 10 [57600/60000 (96%)]\tLoss: 0.013678\n",
            "\n",
            "Test set, Epoch 10 , Average loss: 0.0402, Accuracy: 9862/10000 (99%)\n",
            "\n"
          ],
          "name": "stdout"
        }
      ]
    },
    {
      "cell_type": "markdown",
      "metadata": {
        "id": "1_TBDGrTB-nS",
        "colab_type": "text"
      },
      "source": [
        "##Conclusion\n",
        "\n",
        "We could see ResNet model is giving an accuracy of `99%` on MNIST dataset which is pretty good."
      ]
    }
  ]
}