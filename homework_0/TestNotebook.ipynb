{
  "nbformat": 4,
  "nbformat_minor": 0,
  "metadata": {
    "colab": {
      "name": "TestNotebook.ipynb",
      "provenance": [],
      "authorship_tag": "ABX9TyN9Rpr5iH/yfW2ZBRaYZ488",
      "include_colab_link": true
    },
    "kernelspec": {
      "name": "python3",
      "display_name": "Python 3"
    }
  },
  "cells": [
    {
      "cell_type": "markdown",
      "metadata": {
        "id": "view-in-github",
        "colab_type": "text"
      },
      "source": [
        "<a href=\"https://colab.research.google.com/github/nupursjsu/Deep-Learning/blob/master/homework_0/TestNotebook.ipynb\" target=\"_parent\"><img src=\"https://colab.research.google.com/assets/colab-badge.svg\" alt=\"Open In Colab\"/></a>"
      ]
    },
    {
      "cell_type": "markdown",
      "metadata": {
        "id": "lCK-IBah1uh6",
        "colab_type": "text"
      },
      "source": [
        "# My Test Notebook"
      ]
    },
    {
      "cell_type": "markdown",
      "metadata": {
        "id": "jNmlLdky13F0",
        "colab_type": "text"
      },
      "source": [
        "## Markdown cell"
      ]
    },
    {
      "cell_type": "code",
      "metadata": {
        "id": "esfBLOfO1tat",
        "colab_type": "code",
        "colab": {
          "base_uri": "https://localhost:8080/",
          "height": 34
        },
        "outputId": "3076602d-aa0a-42b2-a590-a75ef9b939e1"
      },
      "source": [
        "# Code cell\n",
        "\n",
        "45/5"
      ],
      "execution_count": 3,
      "outputs": [
        {
          "output_type": "execute_result",
          "data": {
            "text/plain": [
              "9.0"
            ]
          },
          "metadata": {
            "tags": []
          },
          "execution_count": 3
        }
      ]
    },
    {
      "cell_type": "markdown",
      "metadata": {
        "id": "N9ZDSNbN2Dj2",
        "colab_type": "text"
      },
      "source": [
        "## Italics, Bold, Inline and Links"
      ]
    },
    {
      "cell_type": "markdown",
      "metadata": {
        "id": "7QAchyd82QWb",
        "colab_type": "text"
      },
      "source": [
        "_Italics_"
      ]
    },
    {
      "cell_type": "markdown",
      "metadata": {
        "id": "n_ALxaBM2Se4",
        "colab_type": "text"
      },
      "source": [
        "**Bold**"
      ]
    },
    {
      "cell_type": "markdown",
      "metadata": {
        "id": "SYcSrSEn2V9n",
        "colab_type": "text"
      },
      "source": [
        "`Inline`"
      ]
    },
    {
      "cell_type": "markdown",
      "metadata": {
        "id": "zzNwTEhd2ZTB",
        "colab_type": "text"
      },
      "source": [
        "[Link](https://course.fast.ai/start_colab.html)"
      ]
    },
    {
      "cell_type": "markdown",
      "metadata": {
        "id": "KtXlfRyh2bNy",
        "colab_type": "text"
      },
      "source": [
        "## Ordered List"
      ]
    },
    {
      "cell_type": "markdown",
      "metadata": {
        "id": "JW639msW2soU",
        "colab_type": "text"
      },
      "source": [
        "1. Step 1\n",
        "    2. Step 1B\n",
        "3. Step 3"
      ]
    },
    {
      "cell_type": "markdown",
      "metadata": {
        "id": "5r1JjfUC2uKl",
        "colab_type": "text"
      },
      "source": [
        "## Unordered list"
      ]
    },
    {
      "cell_type": "markdown",
      "metadata": {
        "id": "nAdsnYAr2xFj",
        "colab_type": "text"
      },
      "source": [
        "* learning rate\n",
        "* cycle length\n",
        "* weight decay"
      ]
    },
    {
      "cell_type": "markdown",
      "metadata": {
        "id": "gN0fikiw2zN6",
        "colab_type": "text"
      },
      "source": [
        "## Task list"
      ]
    },
    {
      "cell_type": "markdown",
      "metadata": {
        "id": "D9yM6xwx21WL",
        "colab_type": "text"
      },
      "source": [
        "- [x] Learn Jupyter Notebooks\n",
        "    - [x] Writing\n",
        "    - [x] Modes\n",
        "    - [x] Other Considerations\n",
        "- [ ] Change the world"
      ]
    },
    {
      "cell_type": "code",
      "metadata": {
        "id": "fp2Anbwb2YkZ",
        "colab_type": "code",
        "colab": {}
      },
      "source": [
        "# Importing libraries\n",
        "\n",
        "import pandas as pd\n",
        "import numpy as np\n",
        "import pylab \n",
        "import scipy.stats as stats\n",
        "import statsmodels.api as sm\n",
        "import matplotlib.pyplot as plt\n",
        "%matplotlib inline"
      ],
      "execution_count": 0,
      "outputs": []
    },
    {
      "cell_type": "code",
      "metadata": {
        "id": "RwqQ39tr2Uwr",
        "colab_type": "code",
        "colab": {}
      },
      "source": [
        "#defining dataset\n",
        "data = (197, 199, 234, 267, 269, 276, 281, 289, 299, 301, 339)"
      ],
      "execution_count": 0,
      "outputs": []
    },
    {
      "cell_type": "code",
      "metadata": {
        "id": "BbCIKheK2AKw",
        "colab_type": "code",
        "colab": {
          "base_uri": "https://localhost:8080/",
          "height": 401
        },
        "outputId": "03639ea5-ac55-4b85-b10b-0c26c0fa84fa"
      },
      "source": [
        "#drawing boxplot diagram\n",
        "plt.boxplot(data, showmeans=True)"
      ],
      "execution_count": 6,
      "outputs": [
        {
          "output_type": "execute_result",
          "data": {
            "text/plain": [
              "{'boxes': [<matplotlib.lines.Line2D at 0x7fc2aa9704a8>],\n",
              " 'caps': [<matplotlib.lines.Line2D at 0x7fc2aa970f28>,\n",
              "  <matplotlib.lines.Line2D at 0x7fc2aa90c2b0>],\n",
              " 'fliers': [<matplotlib.lines.Line2D at 0x7fc2aa90cc50>],\n",
              " 'means': [<matplotlib.lines.Line2D at 0x7fc2aa90c940>],\n",
              " 'medians': [<matplotlib.lines.Line2D at 0x7fc2aa90c5f8>],\n",
              " 'whiskers': [<matplotlib.lines.Line2D at 0x7fc2aa970898>,\n",
              "  <matplotlib.lines.Line2D at 0x7fc2aa970be0>]}"
            ]
          },
          "metadata": {
            "tags": []
          },
          "execution_count": 6
        },
        {
          "output_type": "display_data",
          "data": {
            "image/png": "[encoded data removed]",
            "text/plain": [
              "<Figure size 432x288 with 1 Axes>"
            ]
          },
          "metadata": {
            "tags": []
          }
        }
      ]
    },
    {
      "cell_type": "code",
      "metadata": {
        "id": "qdCBbV-_3Ahx",
        "colab_type": "code",
        "colab": {
          "base_uri": "https://localhost:8080/",
          "height": 295
        },
        "outputId": "28ae98aa-ccee-420a-c4c4-e699cd804311"
      },
      "source": [
        "# Drawing a probplot graph\n",
        "A = np.array([47, 63, 71, 39, 47, 49, 43, 37, 81, 69, 38, 13, 29, 61, 49, 53, 57, 23, 58, 17, 73, 33, 29])\n",
        "\n",
        "stats.probplot(A, dist=\"norm\", plot=pylab)\n",
        "pylab.show()"
      ],
      "execution_count": 7,
      "outputs": [
        {
          "output_type": "display_data",
          "data": {
            "image/png": "[encoded data removed]",
            "text/plain": [
              "<Figure size 432x288 with 1 Axes>"
            ]
          },
          "metadata": {
            "tags": []
          }
        }
      ]
    },
    {
      "cell_type": "markdown",
      "metadata": {
        "id": "h1ysbQHf3Czd",
        "colab_type": "text"
      },
      "source": [
        "## Inserting image in a markdown cell"
      ]
    },
    {
      "cell_type": "markdown",
      "metadata": {
        "id": "H4ibuNqb3DgX",
        "colab_type": "text"
      },
      "source": [
        "![Image of Yaktocat](https://octodex.github.com/images/yaktocat.png)"
      ]
    }
  ]
}