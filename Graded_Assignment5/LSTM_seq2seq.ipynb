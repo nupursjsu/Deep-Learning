{
  "nbformat": 4,
  "nbformat_minor": 0,
  "metadata": {
    "colab": {
      "name": "LSTM_seq2seq.ipynb",
      "provenance": [],
      "collapsed_sections": [],
      "authorship_tag": "ABX9TyMwTdaBf3ocLaEz7LKHUZaU",
      "include_colab_link": true
    },
    "kernelspec": {
      "name": "python3",
      "display_name": "Python 3"
    }
  },
  "cells": [
    {
      "cell_type": "markdown",
      "metadata": {
        "id": "view-in-github",
        "colab_type": "text"
      },
      "source": [
        "<a href=\"https://colab.research.google.com/github/nupursjsu/Deep-Learning/blob/master/Graded_Assignment5/LSTM_seq2seq.ipynb\" target=\"_parent\"><img src=\"https://colab.research.google.com/assets/colab-badge.svg\" alt=\"Open In Colab\"/></a>"
      ]
    },
    {
      "cell_type": "markdown",
      "metadata": {
        "id": "WjOWcsBONXA3",
        "colab_type": "text"
      },
      "source": [
        "# Seq2Seq pipeline using LSTM"
      ]
    },
    {
      "cell_type": "markdown",
      "metadata": {
        "id": "g7V3GrmANRsS",
        "colab_type": "text"
      },
      "source": [
        "## Importing necessary libraries"
      ]
    },
    {
      "cell_type": "code",
      "metadata": {
        "id": "L_hnuw5pNILL",
        "colab_type": "code",
        "colab": {
          "base_uri": "https://localhost:8080/",
          "height": 34
        },
        "outputId": "f4929566-b778-438c-c818-e08bf12a2086"
      },
      "source": [
        "from __future__ import print_function\n",
        "\n",
        "from keras.models import Model\n",
        "from keras.layers import Input, LSTM, Dense\n",
        "import numpy as np"
      ],
      "execution_count": 1,
      "outputs": [
        {
          "output_type": "stream",
          "text": [
            "Using TensorFlow backend.\n"
          ],
          "name": "stderr"
        }
      ]
    },
    {
      "cell_type": "markdown",
      "metadata": {
        "id": "tDoSHe6-Nikg",
        "colab_type": "text"
      },
      "source": [
        "## Defining parameters for training"
      ]
    },
    {
      "cell_type": "code",
      "metadata": {
        "id": "OJs8dGk0NhDq",
        "colab_type": "code",
        "colab": {}
      },
      "source": [
        "batch_size = 64  \n",
        "epochs = 100  \n",
        "latent_dim = 256  \n",
        "num_samples = 10000  \n",
        "# Path to the data txt file on disk.\n",
        "data_path = 'fra-eng/fra.txt'"
      ],
      "execution_count": 0,
      "outputs": []
    }
  ]
}