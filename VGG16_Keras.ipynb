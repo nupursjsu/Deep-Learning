{
  "nbformat": 4,
  "nbformat_minor": 0,
  "metadata": {
    "colab": {
      "name": "VGG16_Keras.ipynb",
      "provenance": [],
      "authorship_tag": "ABX9TyMRS/EADGf/lFdhPZBORfPm",
      "include_colab_link": true
    },
    "kernelspec": {
      "name": "python3",
      "display_name": "Python 3"
    }
  },
  "cells": [
    {
      "cell_type": "markdown",
      "metadata": {
        "id": "view-in-github",
        "colab_type": "text"
      },
      "source": [
        "<a href=\"https://colab.research.google.com/github/nupursjsu/Deep-Learning/blob/master/VGG16_Keras.ipynb\" target=\"_parent\"><img src=\"https://colab.research.google.com/assets/colab-badge.svg\" alt=\"Open In Colab\"/></a>"
      ]
    },
    {
      "cell_type": "markdown",
      "metadata": {
        "id": "-AJoIyi9aal_",
        "colab_type": "text"
      },
      "source": [
        "# Importing required libraries"
      ]
    },
    {
      "cell_type": "code",
      "metadata": {
        "id": "7wYk5Ou7aSTh",
        "colab_type": "code",
        "colab": {}
      },
      "source": [
        "import numpy as np\n",
        "import pandas as pd\n",
        "import matplotlib.pyplot as plt\n",
        "import os\n",
        "import json\n",
        "import pickle"
      ],
      "execution_count": 0,
      "outputs": []
    },
    {
      "cell_type": "markdown",
      "metadata": {
        "id": "tH8RLrrEalvO",
        "colab_type": "text"
      },
      "source": [
        "#Loading the Cifar10 dataset"
      ]
    },
    {
      "cell_type": "code",
      "metadata": {
        "id": "qu_Q6-1YahYh",
        "colab_type": "code",
        "colab": {}
      },
      "source": [
        "def unpickle_file(file, encoding='bytes'):\n",
        "    with open(file, 'rb') as f:\n",
        "        di = pickle.load(f, encoding=encoding)\n",
        "    return di"
      ],
      "execution_count": 0,
      "outputs": []
    },
    {
      "cell_type": "code",
      "metadata": {
        "id": "SINmwr3AarTl",
        "colab_type": "code",
        "colab": {}
      },
      "source": [
        "print(os.listdir(\"../input/cifar-10-python/cifar-10-batches-py\"))"
      ],
      "execution_count": 0,
      "outputs": []
    },
    {
      "cell_type": "code",
      "metadata": {
        "id": "dWepKqTfa0qn",
        "colab_type": "code",
        "colab": {}
      },
      "source": [
        "batches_meta = unpickle(f\"../input/cifar-10-python/cifar-10-batches-py/batches.meta\", encoding='utf-8')\n",
        "label_names = batches_meta['label_names']"
      ],
      "execution_count": 0,
      "outputs": []
    },
    {
      "cell_type": "code",
      "metadata": {
        "id": "2xr7uAfAa1ZA",
        "colab_type": "code",
        "colab": {}
      },
      "source": [
        "batch_imgs = []\n",
        "\n",
        "for n in range(1, 6):\n",
        "    batch_dict = unpickle(f\"../input/cifar-10-python/cifar-10-batches-py/data_batch_{n}\")\n",
        "    # Add labels to the list of batch labels\n",
        "    batch_labels.append(batch_dict[b'labels'])\n",
        "    \n",
        "    # Load the images, and resize them to 10000x3x32x32\n",
        "    data = batch_dict[b'data'].reshape((10000,3,32,32))\n",
        "    # Modify axis to be 10000x32x32x3, since this is the correct order for keras\n",
        "    data = np.moveaxis(data, 1, -1)\n",
        "    batch_imgs.append(data)\n",
        "\n",
        "labels = np.concatenate(batch_labels, axis=0)\n",
        "imgs = np.concatenate(batch_imgs, axis=0)"
      ],
      "execution_count": 0,
      "outputs": []
    },
    {
      "cell_type": "markdown",
      "metadata": {
        "id": "Oyu5Yj3gbNqo",
        "colab_type": "text"
      },
      "source": [
        "# Loading the test data"
      ]
    },
    {
      "cell_type": "code",
      "metadata": {
        "id": "2iOXMRV4bHlB",
        "colab_type": "code",
        "colab": {}
      },
      "source": [
        "test_dict = unpickle(f\"../input/cifar-10-python/cifar-10-batches-py/test_batch\")\n",
        "test_labels = np.array(test_dict[b'labels'])\n",
        "test_images = test_dict[b'data'].reshape((10000,3,32,32))\n",
        "test_images = np.moveaxis(test_images, 1, -1)"
      ],
      "execution_count": 0,
      "outputs": []
    },
    {
      "cell_type": "code",
      "metadata": {
        "id": "Jd4duVI9bQrn",
        "colab_type": "code",
        "colab": {}
      },
      "source": [
        "#Plotting first few images\n",
        "fig = plt.figure(figsize=(14,10))\n",
        "\n",
        "for n in range(1, 29):\n",
        "    fig.add_subplot(4, 7, n)\n",
        "    img = images[n]\n",
        "    plt.imshow(img)\n",
        "    plt.title(label_names[labels[n]])\n",
        "    plt.axis('off')"
      ],
      "execution_count": 0,
      "outputs": []
    },
    {
      "cell_type": "markdown",
      "metadata": {
        "id": "bqseMVMmbZE2",
        "colab_type": "text"
      },
      "source": [
        "# Creating the VGG16 model"
      ]
    },
    {
      "cell_type": "code",
      "metadata": {
        "id": "afcClBCkbVnO",
        "colab_type": "code",
        "colab": {}
      },
      "source": [
        "from tensorflow.keras.applications.vgg16 import preprocess_input\n",
        "from tensorflow.keras.utils import to_categorical\n",
        "\n",
        "# We normalize the input according to the methods used in the paper\n",
        "X_train = preprocess_input(imgs)\n",
        "y_test = to_categorical(test_labels)\n",
        "\n",
        "# We one-hot-encode the labels for training\n",
        "X_test = preprocess_input(test_images)\n",
        "y_train = to_categorical(labels)"
      ],
      "execution_count": 0,
      "outputs": []
    },
    {
      "cell_type": "code",
      "metadata": {
        "id": "FQzOVWQZbeUU",
        "colab_type": "code",
        "colab": {}
      },
      "source": [
        "from tensorflow.keras.applications.vgg16 import VGG16\n",
        "\n",
        "#Defining the model\n",
        "model = VGG16(\n",
        "    weights=None, \n",
        "    include_top=True, \n",
        "    classes=10,\n",
        "    input_shape=(32,32,3)\n",
        ")\n",
        "\n",
        "#printing the summary of the model\n",
        "model.summary()"
      ],
      "execution_count": 0,
      "outputs": []
    },
    {
      "cell_type": "markdown",
      "metadata": {
        "id": "mFK6EN1Dbu2O",
        "colab_type": "text"
      },
      "source": [
        "# Compiling the model"
      ]
    },
    {
      "cell_type": "code",
      "metadata": {
        "id": "z9VzbHVObsDr",
        "colab_type": "code",
        "colab": {}
      },
      "source": [
        "from tensorflow.keras import optimizers\n",
        "\n",
        "model.compile(\n",
        "    loss='categorical_crossentropy',\n",
        "    optimizer='sgd',\n",
        "    metrics=['accuracy']\n",
        ")"
      ],
      "execution_count": 0,
      "outputs": []
    },
    {
      "cell_type": "markdown",
      "metadata": {
        "id": "pQKffs80b0uy",
        "colab_type": "text"
      },
      "source": [
        "# Training the model and creating model checkpoint"
      ]
    },
    {
      "cell_type": "code",
      "metadata": {
        "id": "OCsj-HU8bxVo",
        "colab_type": "code",
        "colab": {}
      },
      "source": [
        "from tensorflow.keras.callbacks import ModelCheckpoint\n",
        "\n",
        "checkpoint = ModelCheckpoint(\n",
        "    'model.h5', \n",
        "    monitor='val_acc', \n",
        "    verbose=0, \n",
        "    save_best_only=True, \n",
        "    save_weights_only=False,\n",
        "    mode='auto'\n",
        ")\n",
        "\n",
        "# Train the model\n",
        "history = model.fit(\n",
        "    x=X_train,\n",
        "    y=y_train,\n",
        "    validation_split=0.1,\n",
        "    batch_size=256,\n",
        "    epochs=30,\n",
        "    callbacks=[checkpoint],\n",
        "    verbose=1\n",
        ")"
      ],
      "execution_count": 0,
      "outputs": []
    },
    {
      "cell_type": "markdown",
      "metadata": {
        "id": "1qFGtXE0b8j8",
        "colab_type": "text"
      },
      "source": [
        "#Plotting loss and accuracy"
      ]
    },
    {
      "cell_type": "code",
      "metadata": {
        "id": "MHcw7jyrb5Ig",
        "colab_type": "code",
        "colab": {}
      },
      "source": [
        "with open('history.json', 'w') as f:\n",
        "    json.dump(history.history, f)\n",
        "\n",
        "history_df = pd.DataFrame(history.history)\n",
        "history_df[['loss', 'val_loss']].plot()\n",
        "history_df[['acc', 'val_acc']].plot()"
      ],
      "execution_count": 0,
      "outputs": []
    },
    {
      "cell_type": "markdown",
      "metadata": {
        "id": "xPfwer6xcFHb",
        "colab_type": "text"
      },
      "source": [
        "#Evaluating the model"
      ]
    },
    {
      "cell_type": "code",
      "metadata": {
        "id": "J8MzqAqdcBKs",
        "colab_type": "code",
        "colab": {}
      },
      "source": [
        "#Saving the model\n",
        "model.load_weights('model.h5')\n",
        "train_loss, train_score = model.evaluate(X_train, y_train)\n",
        "test_loss, test_score = model.evaluate(X_test, y_test)\n",
        "print(\"Train Loss:\", train_loss)\n",
        "print(\"Test Loss:\", test_loss)\n",
        "print(\"Train F1 Score:\", train_score)\n",
        "print(\"Test F1 Score:\", test_score)"
      ],
      "execution_count": 0,
      "outputs": []
    }
  ]
}