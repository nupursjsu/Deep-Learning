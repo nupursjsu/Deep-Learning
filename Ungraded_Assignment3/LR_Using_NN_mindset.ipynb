{
  "nbformat": 4,
  "nbformat_minor": 0,
  "metadata": {
    "colab": {
      "name": "LR_Using_NN_mindset.ipynb",
      "provenance": [],
      "collapsed_sections": [],
      "authorship_tag": "ABX9TyP/P9IQ0hdJ2t6tCo59waEE",
      "include_colab_link": true
    },
    "kernelspec": {
      "name": "python3",
      "display_name": "Python 3"
    }
  },
  "cells": [
    {
      "cell_type": "markdown",
      "metadata": {
        "id": "view-in-github",
        "colab_type": "text"
      },
      "source": [
        "<a href=\"https://colab.research.google.com/github/nupursjsu/Deep-Learning/blob/master/Ungraded_Assignment3/LR_Using_NN_mindset.ipynb\" target=\"_parent\"><img src=\"https://colab.research.google.com/assets/colab-badge.svg\" alt=\"Open In Colab\"/></a>"
      ]
    },
    {
      "cell_type": "markdown",
      "metadata": {
        "id": "b0zcZd3R5mrf",
        "colab_type": "text"
      },
      "source": [
        "# Logistic Regression using Neural Network mindset"
      ]
    },
    {
      "cell_type": "markdown",
      "metadata": {
        "id": "k7xjrWh0-sb4",
        "colab_type": "text"
      },
      "source": [
        "## Importing libraries"
      ]
    },
    {
      "cell_type": "code",
      "metadata": {
        "id": "KYNDB7m35Efa",
        "colab_type": "code",
        "colab": {}
      },
      "source": [
        "#Importing necessary libraries\n",
        "import numpy as np\n",
        "import h5py\n",
        "import scipy\n",
        "from PIL import Image\n",
        "from scipy import ndimage\n",
        "import matplotlib.pyplot as plt\n",
        "%matplotlib inline"
      ],
      "execution_count": 0,
      "outputs": []
    },
    {
      "cell_type": "markdown",
      "metadata": {
        "id": "0Qt01cUq-wRQ",
        "colab_type": "text"
      },
      "source": [
        "## Loading the cat/nocat train and test datasets"
      ]
    },
    {
      "cell_type": "code",
      "metadata": {
        "id": "u_n57FdA8ADb",
        "colab_type": "code",
        "colab": {}
      },
      "source": [
        "# Code to read data file into Colaboratory:\n",
        "!pip install -U -q PyDrive\n",
        "from pydrive.auth import GoogleAuth\n",
        "from pydrive.drive import GoogleDrive\n",
        "from google.colab import auth\n",
        "from oauth2client.client import GoogleCredentials\n",
        "# Authenticate and create the PyDrive client.\n",
        "auth.authenticate_user()\n",
        "gauth = GoogleAuth()\n",
        "gauth.credentials = GoogleCredentials.get_application_default()\n",
        "drive = GoogleDrive(gauth)"
      ],
      "execution_count": 0,
      "outputs": []
    },
    {
      "cell_type": "code",
      "metadata": {
        "id": "lyHbN3J6-KFx",
        "colab_type": "code",
        "outputId": "c1c03ede-4b36-47f7-ce4c-96167c8da5aa",
        "colab": {
          "base_uri": "https://localhost:8080/",
          "height": 34
        }
      },
      "source": [
        "#Getting train datset\n",
        "link = 'https://drive.google.com/open?id=19gY-R95mw4WDcZ-v1pU9j__Nk-S5nz_Y'\n",
        "fluff, id = link.split('=')\n",
        "print (id) # Verify that you have everything after '='"
      ],
      "execution_count": 0,
      "outputs": [
        {
          "output_type": "stream",
          "text": [
            "19gY-R95mw4WDcZ-v1pU9j__Nk-S5nz_Y\n"
          ],
          "name": "stdout"
        }
      ]
    },
    {
      "cell_type": "code",
      "metadata": {
        "id": "qa6uLUi2-RQJ",
        "colab_type": "code",
        "colab": {}
      },
      "source": [
        "downloaded = drive.CreateFile({'id':id}) \n",
        "downloaded.GetContentFile('train_catvnoncat.h5')"
      ],
      "execution_count": 0,
      "outputs": []
    },
    {
      "cell_type": "code",
      "metadata": {
        "id": "vAVVblyg--Ii",
        "colab_type": "code",
        "outputId": "3174f1ad-077b-4064-a261-493f517ec205",
        "colab": {
          "base_uri": "https://localhost:8080/",
          "height": 34
        }
      },
      "source": [
        "#Getting train datset\n",
        "link = 'https://drive.google.com/open?id=1HRwtrqvstIqIgBMGgt6T43ddTGZss6YI'\n",
        "fluff, id = link.split('=')\n",
        "print (id) # Verify that you have everything after '='"
      ],
      "execution_count": 0,
      "outputs": [
        {
          "output_type": "stream",
          "text": [
            "1HRwtrqvstIqIgBMGgt6T43ddTGZss6YI\n"
          ],
          "name": "stdout"
        }
      ]
    },
    {
      "cell_type": "code",
      "metadata": {
        "id": "MgLXTGQw-__T",
        "colab_type": "code",
        "colab": {}
      },
      "source": [
        "downloaded = drive.CreateFile({'id':id}) \n",
        "downloaded.GetContentFile('test_catvnoncat.h5')"
      ],
      "execution_count": 0,
      "outputs": []
    },
    {
      "cell_type": "code",
      "metadata": {
        "id": "SolRJEK1-IT0",
        "colab_type": "code",
        "colab": {}
      },
      "source": [
        "def load_dataset():\n",
        "    train_dataset = h5py.File('train_catvnoncat.h5', \"r\")\n",
        "    train_set_x_orig = np.array(train_dataset[\"train_set_x\"][:]) # your train set features\n",
        "    train_set_y_orig = np.array(train_dataset[\"train_set_y\"][:]) # your train set labels\n",
        "\n",
        "    test_dataset = h5py.File('test_catvnoncat.h5', \"r\")\n",
        "    test_set_x_orig = np.array(test_dataset[\"test_set_x\"][:]) # your test set features\n",
        "    test_set_y_orig = np.array(test_dataset[\"test_set_y\"][:]) # your test set labels\n",
        "\n",
        "    classes = np.array(test_dataset[\"list_classes\"][:]) # the list of classes\n",
        "\n",
        "    train_set_y_orig = train_set_y_orig.reshape((1, train_set_y_orig.shape[0]))\n",
        "    test_set_y_orig = test_set_y_orig.reshape((1, test_set_y_orig.shape[0]))\n",
        "\n",
        "    return train_set_x_orig, train_set_y_orig, test_set_x_orig, test_set_y_orig, classes"
      ],
      "execution_count": 0,
      "outputs": []
    },
    {
      "cell_type": "code",
      "metadata": {
        "id": "SGWDcAog6Jdu",
        "colab_type": "code",
        "colab": {}
      },
      "source": [
        "# Loading the cat/nocat train and test dataset and their classes\n",
        "train_img_x, train_img_y, test_img_x, test_img_y, classes = load_dataset()"
      ],
      "execution_count": 0,
      "outputs": []
    },
    {
      "cell_type": "code",
      "metadata": {
        "id": "5-Wy5HTj_Vw0",
        "colab_type": "code",
        "outputId": "ceaa2399-ba73-417c-d910-74e39a1083ba",
        "colab": {
          "base_uri": "https://localhost:8080/",
          "height": 285
        }
      },
      "source": [
        "# Displaying a picture from dataset\n",
        "idx = 29\n",
        "plt.imshow(train_img_x[idx])\n",
        "print (\"label = \" + str(train_img_y[:, idx]) + \", it's a '\" + classes[np.squeeze(train_img_y[:, idx])].decode(\"utf-8\") +  \"' picture.\")"
      ],
      "execution_count": 0,
      "outputs": [
        {
          "output_type": "stream",
          "text": [
            "label = [1], it's a 'cat' picture.\n"
          ],
          "name": "stdout"
        },
        {
          "output_type": "display_data",
          "data": {
            "image/png": "[encoded data removed]",
            "text/plain": [
              "<Figure size 432x288 with 1 Axes>"
            ]
          },
          "metadata": {
            "tags": [],
            "needs_background": "light"
          }
        }
      ]
    },
    {
      "cell_type": "code",
      "metadata": {
        "id": "WqzyugvDAhtP",
        "colab_type": "code",
        "outputId": "180bf303-6c16-405c-ea85-c26242857eb6",
        "colab": {
          "base_uri": "https://localhost:8080/",
          "height": 153
        }
      },
      "source": [
        "#Displaying the number of training examples in train and test dataset and the shape of datasets\n",
        "train = train_img_x.shape[0]\n",
        "test = test_img_x.shape[0]\n",
        "num_px = train_img_x.shape[2]\n",
        "\n",
        "\n",
        "print (\"Number of training examples: train = \" + str(train))\n",
        "print (\"Number of testing examples: test = \" + str(test))\n",
        "print (\"Height/Width of each image: num_px = \" + str(num_px))\n",
        "print (\"Each image is of size: (\" + str(num_px) + \", \" + str(num_px) + \", 3)\")\n",
        "print (\"train_img_x shape: \" + str(train_img_x.shape))\n",
        "print (\"train_img_y shape: \" + str(train_img_y.shape))\n",
        "print (\"test_img_x shape: \" + str(test_img_x.shape))\n",
        "print (\"test_img_y shape: \" + str(test_img_y.shape))"
      ],
      "execution_count": 0,
      "outputs": [
        {
          "output_type": "stream",
          "text": [
            "Number of training examples: train = 209\n",
            "Number of testing examples: test = 50\n",
            "Height/Width of each image: num_px = 64\n",
            "Each image is of size: (64, 64, 3)\n",
            "train_img_x shape: (209, 64, 64, 3)\n",
            "train_img_y shape: (1, 209)\n",
            "test_img_x shape: (50, 64, 64, 3)\n",
            "test_img_y shape: (1, 50)\n"
          ],
          "name": "stdout"
        }
      ]
    },
    {
      "cell_type": "markdown",
      "metadata": {
        "id": "HQk20bdgBnon",
        "colab_type": "text"
      },
      "source": [
        "## Preprocessing data"
      ]
    },
    {
      "cell_type": "code",
      "metadata": {
        "id": "g_U37aFKBbj_",
        "colab_type": "code",
        "outputId": "5604642e-6eaa-4592-bfb1-8ffe65b4e9ac",
        "colab": {
          "base_uri": "https://localhost:8080/",
          "height": 102
        }
      },
      "source": [
        "# Reshape the training and test images\n",
        "train_img_x_flatten = train_img_x.reshape(train_img_x.shape[0], -1).T\n",
        "test_img_x_flatten = test_img_x.reshape(test_img_x.shape[0], -1).T\n",
        "\n",
        "print (\"train_img_x_flatten shape: \" + str(train_img_x_flatten.shape))\n",
        "print (\"train_img_y shape: \" + str(train_img_y.shape))\n",
        "print (\"test_img_x_flatten shape: \" + str(test_img_x_flatten.shape))\n",
        "print (\"test_img_y shape: \" + str(test_img_y.shape))\n",
        "print (\"sanity check after reshaping: \" + str(train_img_x_flatten[0:5,0]))"
      ],
      "execution_count": 0,
      "outputs": [
        {
          "output_type": "stream",
          "text": [
            "train_img_x_flatten shape: (12288, 209)\n",
            "train_img_y shape: (1, 209)\n",
            "test_img_x_flatten shape: (12288, 50)\n",
            "test_img_y shape: (1, 50)\n",
            "sanity check after reshaping: [17 31 56 22 33]\n"
          ],
          "name": "stdout"
        }
      ]
    },
    {
      "cell_type": "code",
      "metadata": {
        "id": "mCdqII4nCGIx",
        "colab_type": "code",
        "colab": {}
      },
      "source": [
        "#Normalizing the image data\n",
        "train_img_x = train_img_x_flatten/255.\n",
        "test_img_x = test_img_x_flatten/255."
      ],
      "execution_count": 0,
      "outputs": []
    },
    {
      "cell_type": "markdown",
      "metadata": {
        "id": "OZsY_xx7Cq_7",
        "colab_type": "text"
      },
      "source": [
        "## Building our own Neural Network Model"
      ]
    },
    {
      "cell_type": "code",
      "metadata": {
        "id": "vJ7jEJ98CYFa",
        "colab_type": "code",
        "colab": {}
      },
      "source": [
        "#Implementing sigmoid function\n",
        "def basic_sigmoidFun(n):\n",
        "    res = 1/(1 + np.exp(-n)) \n",
        "    return res"
      ],
      "execution_count": 0,
      "outputs": []
    },
    {
      "cell_type": "code",
      "metadata": {
        "id": "Xjb9N8HpDBfA",
        "colab_type": "code",
        "colab": {}
      },
      "source": [
        "#Initializing the parameters with zeroes\n",
        "def initialize_params(dim):\n",
        "    w = np.zeros(shape=(dim, 1), dtype=np.float32)\n",
        "    bs = 0\n",
        "    assert(w.shape == (dim, 1))\n",
        "    assert(isinstance(bs, float) or isinstance(bs, int))\n",
        "    return w, bs"
      ],
      "execution_count": 0,
      "outputs": []
    },
    {
      "cell_type": "code",
      "metadata": {
        "id": "C-Ogt1YpDZs5",
        "colab_type": "code",
        "colab": {}
      },
      "source": [
        "#Forward and Backward propogation\n",
        "def prop(w, bs, X, Y):\n",
        "    r = X.shape[1]\n",
        "    \n",
        "    # FORWARD PROPAGATION\n",
        "    # computing activation\n",
        "    A = basic_sigmoidFun(np.dot(w.T, X) + bs) \n",
        "    # computing loss   \n",
        "    loss = (-1. / r) * np.sum((Y*np.log(A) + (1 - Y)*np.log(1-A)), axis=1)     \n",
        "    \n",
        "    # BACKWARD PROPAGATION\n",
        "    dw = (1./r)*np.dot(X,((A-Y).T))\n",
        "    db = (1./r)*np.sum(A-Y, axis=1)\n",
        "\n",
        "    assert(dw.shape == w.shape)\n",
        "    assert(db.dtype == float)\n",
        "    loss = np.squeeze(loss)\n",
        "    assert(loss.shape == ())\n",
        "    \n",
        "    grads = {\"dw\": dw,\n",
        "             \"db\": db}\n",
        "    \n",
        "    return grads, loss"
      ],
      "execution_count": 0,
      "outputs": []
    },
    {
      "cell_type": "code",
      "metadata": {
        "id": "srQyBaNOEoKh",
        "colab_type": "code",
        "colab": {}
      },
      "source": [
        "#Function to update parameters using gradient descent\n",
        "def optimize_fun(w, bs, X, Y, no_of_iterations, learning_rate, print_cost = False):\n",
        "    losses = []\n",
        "    \n",
        "    for i in range(no_of_iterations):\n",
        "        \n",
        "        \n",
        "        # Calculating loss and gradient\n",
        "        grads, loss = prop(w=w, bs=bs, X=X, Y=Y)\n",
        "        \n",
        "        # Retrieving gradients from grads\n",
        "        dw = grads[\"dw\"]\n",
        "        db = grads[\"db\"]\n",
        "        \n",
        "        w = w - learning_rate*dw\n",
        "        bs = bs -  learning_rate*db\n",
        "        \n",
        "        # Record the losses\n",
        "        if i % 100 == 0:\n",
        "            losses.append(loss)\n",
        "        \n",
        "        # Printing the loss after every 100 training examples\n",
        "        if print_cost and i % 100 == 0:\n",
        "            print (\"Loss after iteration %i: %f\" %(i, loss))\n",
        "    \n",
        "    params = {\"w\": w,\n",
        "              \"bs\": bs}\n",
        "    \n",
        "    grads = {\"dw\": dw,\n",
        "             \"db\": db}\n",
        "    \n",
        "    return params, grads, losses"
      ],
      "execution_count": 0,
      "outputs": []
    },
    {
      "cell_type": "code",
      "metadata": {
        "id": "QiM-KT4AGEZp",
        "colab_type": "code",
        "colab": {}
      },
      "source": [
        "#Implementing prediction function\n",
        "def predict_fun(w, bs, X):\n",
        "    r = X.shape[1]\n",
        "    Y_pred = np.zeros((1,r))\n",
        "    w = w.reshape(X.shape[0], 1)\n",
        "    \n",
        "    # Computing vector \"A\" denoting the probabilities if a cat is there in the picture\n",
        "    A = basic_sigmoidFun(np.dot(w.T, X) + bs)\n",
        "    \n",
        "    [print(x) for x in A]\n",
        "    for i in range(A.shape[1]):\n",
        "        \n",
        "        # Converting probabilities to actual predictions\n",
        "        if A[0, i] >= 0.5:\n",
        "            Y_pred[0, i] = 1\n",
        "            \n",
        "        else:\n",
        "            Y_pred[0, i] = 0\n",
        "\n",
        "    assert(Y_pred.shape == (1, r))\n",
        "    \n",
        "    return Y_pred"
      ],
      "execution_count": 0,
      "outputs": []
    },
    {
      "cell_type": "code",
      "metadata": {
        "id": "FL7NaTJfHaW2",
        "colab_type": "code",
        "colab": {}
      },
      "source": [
        "#Defining the final model\n",
        "def my_NNmodel(X_train, Y_train, X_test, Y_test, no_of_iterations = 2000, learning_rate = 0.5, print_cost = False):\n",
        "    #Initializing params\n",
        "    w, bs = initialize_params(X_train.shape[0])\n",
        "    #Computing gradient descent\n",
        "    params, grads, losses = optimize_fun(w, bs, X_train, Y_train, no_of_iterations, learning_rate, print_cost)\n",
        "    \n",
        "    #Getting params w and bs from dictionary \"params\"\n",
        "    w = params[\"w\"]\n",
        "    bs = params[\"bs\"]\n",
        "    \n",
        "    # Predict test/train set examples (≈ 2 lines of code)\n",
        "    Y_pred_test = predict_fun(w, bs, X_test)\n",
        "    Y_pred_train = predict_fun(w, bs, X_train)\n",
        "\n",
        "\n",
        "    # Print train/test Errors\n",
        "    print(\"train accuracy: {} %\".format(100 - np.mean(np.abs(Y_pred_train - Y_train)) * 100))\n",
        "    print(\"test accuracy: {} %\".format(100 - np.mean(np.abs(Y_pred_test - Y_test)) * 100))\n",
        "\n",
        "    \n",
        "    res = {\"losses\": losses,\n",
        "         \"Y_pred_test\": Y_pred_test, \n",
        "         \"Y_pred_train\" : Y_pred_train, \n",
        "         \"w\" : w, \n",
        "         \"bs\" : bs,\n",
        "         \"learning_rate\" : learning_rate,\n",
        "         \"no_of_iterations\": no_of_iterations}\n",
        "    \n",
        "    return res"
      ],
      "execution_count": 0,
      "outputs": []
    },
    {
      "cell_type": "code",
      "metadata": {
        "id": "B2Hz9Xe2IAYV",
        "colab_type": "code",
        "outputId": "e2f09000-a344-41ff-fe48-18ff4cba04ce",
        "colab": {
          "base_uri": "https://localhost:8080/",
          "height": 969
        }
      },
      "source": [
        "res = my_NNmodel(train_img_x, train_img_y, test_img_x, test_img_y, no_of_iterations = 1000, learning_rate = 0.005, print_cost = True)"
      ],
      "execution_count": 0,
      "outputs": [
        {
          "output_type": "stream",
          "text": [
            "Loss after iteration 0: 0.693147\n",
            "Loss after iteration 100: 0.584508\n",
            "Loss after iteration 200: 0.466949\n",
            "Loss after iteration 300: 0.376007\n",
            "Loss after iteration 400: 0.331463\n",
            "Loss after iteration 500: 0.303273\n",
            "Loss after iteration 600: 0.279880\n",
            "Loss after iteration 700: 0.260042\n",
            "Loss after iteration 800: 0.242941\n",
            "Loss after iteration 900: 0.228004\n",
            "[0.89441238 0.77967441 0.84549834 0.86653308 0.66810834 0.50044225\n",
            " 0.08139283 0.82831715 0.84971405 0.64878079 0.34433766 0.48043143\n",
            " 0.72508056 0.68664053 0.02530106 0.86325039 0.04549498 0.75613059\n",
            " 0.25608797 0.07818485 0.8452877  0.11604584 0.03432353 0.65652069\n",
            " 0.643007   0.6427052  0.62292581 0.03556986 0.07988722 0.98921574\n",
            " 0.32785021 0.71903522 0.69472183 0.42315036 0.65476861 0.06372343\n",
            " 0.13740218 0.73538971 0.41707558 0.09624695 0.62186598 0.50690832\n",
            " 0.6046851  0.06431431 0.86622838 0.31783254 0.31065323 0.94817385\n",
            " 0.58352308 0.13513304]\n",
            "[0.25339524 0.13610927 0.80691918 0.00098162 0.07859124 0.18282667\n",
            " 0.06381336 0.87625992 0.12424897 0.08007952 0.2734185  0.69744278\n",
            " 0.312843   0.86246508 0.57277689 0.07395352 0.05876269 0.0731864\n",
            " 0.14151915 0.88175289 0.03064182 0.07484608 0.25540184 0.08953338\n",
            " 0.79425728 0.77019304 0.07683804 0.74787164 0.10741108 0.62344393\n",
            " 0.13299958 0.11871111 0.31594134 0.2887612  0.10144454 0.08143697\n",
            " 0.02676546 0.10565419 0.74619376 0.42644125 0.03003498 0.26932855\n",
            " 0.75887696 0.0875574  0.0764925  0.22226993 0.14779656 0.73709984\n",
            " 0.01635751 0.08593926 0.66304596 0.36931555 0.20630499 0.50109868\n",
            " 0.82121135 0.01510604 0.90317368 0.72205369 0.09722657 0.92810487\n",
            " 0.77306207 0.65819731 0.0804697  0.09086955 0.2330932  0.12847456\n",
            " 0.0921856  0.24274716 0.58195086 0.05108739 0.08662331 0.94445883\n",
            " 0.15155729 0.22979117 0.12730543 0.59790618 0.00318326 0.06655946\n",
            " 0.09394486 0.20167909 0.10845602 0.01393531 0.04292658 0.80097863\n",
            " 0.66040638 0.05524464 0.19689247 0.10587653 0.73392321 0.0877602\n",
            " 0.33196726 0.13962824 0.3285909  0.87962451 0.82697758 0.19916044\n",
            " 0.17898222 0.7858977  0.10902546 0.27975077 0.25346608 0.09750847\n",
            " 0.57701244 0.12614607 0.9313914  0.20529798 0.94179005 0.64097614\n",
            " 0.78259928 0.69552577 0.7955236  0.84498555 0.05316207 0.18645456\n",
            " 0.14921576 0.09130718 0.11043533 0.77534727 0.02187649 0.25923078\n",
            " 0.0359906  0.46647985 0.10584657 0.00152952 0.72393613 0.01130783\n",
            " 0.73553798 0.29015363 0.83508177 0.88688    0.32550229 0.21141837\n",
            " 0.09408659 0.90692383 0.59891145 0.37740662 0.7888852  0.78280999\n",
            " 0.01627264 0.06036475 0.07085452 0.08456988 0.85482451 0.01716126\n",
            " 0.6042671  0.72973734 0.75613059 0.30006886 0.80707999 0.78057939\n",
            " 0.55217824 0.16087305 0.05320224 0.85968566 0.0822499  0.40813293\n",
            " 0.84293451 0.02872639 0.02934245 0.07790399 0.01325025 0.13042469\n",
            " 0.70922334 0.14353265 0.83034149 0.03321718 0.92459063 0.11162486\n",
            " 0.0627516  0.50990797 0.65408896 0.83237292 0.30080281 0.04691689\n",
            " 0.89856236 0.69286875 0.08019759 0.72636513 0.12126598 0.53681127\n",
            " 0.06959491 0.07530001 0.03190031 0.07634374 0.00597863 0.63080166\n",
            " 0.06940709 0.08945145 0.79151744 0.04835907 0.09804492 0.07698594\n",
            " 0.61837087 0.11536618 0.00854366 0.16969648 0.47689958 0.79387799\n",
            " 0.12856782 0.03634138 0.71539717 0.05528973 0.05298162 0.03903531\n",
            " 0.27780982 0.30885189 0.14449027 0.20543266 0.2280308 ]\n",
            "train accuracy: 96.65071770334929 %\n",
            "test accuracy: 72.0 %\n"
          ],
          "name": "stdout"
        }
      ]
    },
    {
      "cell_type": "code",
      "metadata": {
        "id": "4ecyM-CnJ1_b",
        "colab_type": "code",
        "outputId": "feb5b524-b855-4188-c778-94b51844281f",
        "colab": {
          "base_uri": "https://localhost:8080/",
          "height": 285
        }
      },
      "source": [
        "#Displaying a correctly classified image\n",
        "idx = 20\n",
        "plt.imshow(test_img_x[:,idx].reshape((num_px, num_px, 3)))\n",
        "print (\"y = \" + str(test_img_y[0,idx]) + \", you predicted that it is a \\\"\" + classes[int(res[\"Y_pred_test\"][0,idx])].decode(\"utf-8\") +  \"\\\" picture.\")"
      ],
      "execution_count": 0,
      "outputs": [
        {
          "output_type": "stream",
          "text": [
            "y = 1, you predicted that it is a \"cat\" picture.\n"
          ],
          "name": "stdout"
        },
        {
          "output_type": "display_data",
          "data": {
            "image/png": "[encoded data removed]",
            "text/plain": [
              "<Figure size 432x288 with 1 Axes>"
            ]
          },
          "metadata": {
            "tags": [],
            "needs_background": "light"
          }
        }
      ]
    },
    {
      "cell_type": "code",
      "metadata": {
        "id": "g0ws2gUiLD9h",
        "colab_type": "code",
        "outputId": "ca8c9cb8-3a55-4a23-8e2a-7c589de31b9f",
        "colab": {
          "base_uri": "https://localhost:8080/",
          "height": 295
        }
      },
      "source": [
        "#Plotting loss function and gradients\n",
        "losses = np.squeeze(res['losses'])\n",
        "plt.plot(losses)\n",
        "plt.ylabel('loss')\n",
        "plt.xlabel('iterations (per hundreds)')\n",
        "plt.title(\"Learning rate =\" + str(res[\"learning_rate\"]))\n",
        "plt.show()"
      ],
      "execution_count": 0,
      "outputs": [
        {
          "output_type": "display_data",
          "data": {
            "image/png": "[encoded data removed]",
            "text/plain": [
              "<Figure size 432x288 with 1 Axes>"
            ]
          },
          "metadata": {
            "tags": [],
            "needs_background": "light"
          }
        }
      ]
    }
  ]
}