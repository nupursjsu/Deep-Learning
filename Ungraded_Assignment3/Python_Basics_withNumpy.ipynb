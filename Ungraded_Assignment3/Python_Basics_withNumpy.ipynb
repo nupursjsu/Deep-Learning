{
  "nbformat": 4,
  "nbformat_minor": 0,
  "metadata": {
    "colab": {
      "name": "Python_Basics_withNumpy.ipynb",
      "provenance": [],
      "collapsed_sections": [],
      "authorship_tag": "ABX9TyPOOIEjUjsbVjVAwpYiX0nR",
      "include_colab_link": true
    },
    "kernelspec": {
      "name": "python3",
      "display_name": "Python 3"
    }
  },
  "cells": [
    {
      "cell_type": "markdown",
      "metadata": {
        "id": "view-in-github",
        "colab_type": "text"
      },
      "source": [
        "<a href=\"https://colab.research.google.com/github/nupursjsu/Deep-Learning/blob/master/Ungraded_Assignment3/Python_Basics_withNumpy.ipynb\" target=\"_parent\"><img src=\"https://colab.research.google.com/assets/colab-badge.svg\" alt=\"Open In Colab\"/></a>"
      ]
    },
    {
      "cell_type": "markdown",
      "metadata": {
        "id": "g-LhbOhzuzx4",
        "colab_type": "text"
      },
      "source": [
        "# Python Basics With Numpy"
      ]
    },
    {
      "cell_type": "markdown",
      "metadata": {
        "id": "LlCu5rrovsMW",
        "colab_type": "text"
      },
      "source": [
        "**Building a basic sigmoid function**"
      ]
    },
    {
      "cell_type": "code",
      "metadata": {
        "id": "2gw2nai9vgiH",
        "colab_type": "code",
        "colab": {}
      },
      "source": [
        "#Importing necessary libraries\n",
        "import numpy as np\n",
        "import math\n",
        "\n",
        "def basic_sigmoidFun(n):\n",
        "    res = 1/(1 + np.exp(-n)) \n",
        "    return res"
      ],
      "execution_count": 0,
      "outputs": []
    },
    {
      "cell_type": "code",
      "metadata": {
        "id": "G8Wvmp_wxH8N",
        "colab_type": "code",
        "colab": {
          "base_uri": "https://localhost:8080/",
          "height": 34
        },
        "outputId": "32565f86-4975-41d5-854e-dfe3cec1b815"
      },
      "source": [
        "#Computing sigmoids for every element in an array\n",
        "n = np.array([1, 2, 3])\n",
        "print(basic_sigmoidFun(n))"
      ],
      "execution_count": 8,
      "outputs": [
        {
          "output_type": "stream",
          "text": [
            "[0.73105858 0.88079708 0.95257413]\n"
          ],
          "name": "stdout"
        }
      ]
    },
    {
      "cell_type": "markdown",
      "metadata": {
        "id": "H0wdNzvtwWG9",
        "colab_type": "text"
      },
      "source": [
        "**Building sigmoid derivative**"
      ]
    },
    {
      "cell_type": "code",
      "metadata": {
        "id": "9JYUSVc1wNEt",
        "colab_type": "code",
        "colab": {}
      },
      "source": [
        "def sigmoid_derivativeFun(n):\n",
        "    r = basic_sigmoidFun(n)\n",
        "    grad = r*(1-r)\n",
        "    return grad"
      ],
      "execution_count": 0,
      "outputs": []
    },
    {
      "cell_type": "code",
      "metadata": {
        "id": "qlmEEFwUxUuc",
        "colab_type": "code",
        "colab": {
          "base_uri": "https://localhost:8080/",
          "height": 34
        },
        "outputId": "1181330a-163c-48c4-8db5-eca23b24085b"
      },
      "source": [
        "#Computing sigmoids for every element in an array\n",
        "n = np.array([1, 2, 3])\n",
        "print (\"sigmoid_derivative(n) = \" + str(sigmoid_derivativeFun(n)))"
      ],
      "execution_count": 11,
      "outputs": [
        {
          "output_type": "stream",
          "text": [
            "sigmoid_derivative(n) = [0.19661193 0.10499359 0.04517666]\n"
          ],
          "name": "stdout"
        }
      ]
    },
    {
      "cell_type": "markdown",
      "metadata": {
        "id": "xBQz2Clyy3s3",
        "colab_type": "text"
      },
      "source": [
        "**Reshaping arrays**"
      ]
    },
    {
      "cell_type": "code",
      "metadata": {
        "id": "kXtoxBKZy1XL",
        "colab_type": "code",
        "colab": {}
      },
      "source": [
        "#Function to convert an image to vector\n",
        "def convert_img2vec(img):\n",
        "    vec = img.reshape((img.shape[2] * img.shape[1] * img.shape[0], 1))\n",
        "    return vec"
      ],
      "execution_count": 0,
      "outputs": []
    },
    {
      "cell_type": "code",
      "metadata": {
        "id": "Y3s92Hguzqjr",
        "colab_type": "code",
        "colab": {}
      },
      "source": [
        "# Below is a 3 by 3 by 2 array, typically images will be (num_px_x, num_px_y,3) \n",
        "# where 3 represents the RGB values\n",
        "\n",
        "img = np.array([[[ 0.67826139,  0.29380381],\n",
        "        [ 0.90714982,  0.52835647],\n",
        "        [ 0.4215251 ,  0.45017551]],\n",
        "\n",
        "       [[ 0.92814219,  0.96677647],\n",
        "        [ 0.85304703,  0.52351845],\n",
        "        [ 0.19981397,  0.27417313]],\n",
        "\n",
        "       [[ 0.60659855,  0.00533165],\n",
        "        [ 0.10820313,  0.49978937],\n",
        "        [ 0.34144279,  0.94630077]]])"
      ],
      "execution_count": 0,
      "outputs": []
    },
    {
      "cell_type": "code",
      "metadata": {
        "id": "twJBpGAX1DAx",
        "colab_type": "code",
        "colab": {
          "base_uri": "https://localhost:8080/",
          "height": 323
        },
        "outputId": "92ba749d-5a37-4824-9790-9e90822135ff"
      },
      "source": [
        "print (\"img2vec(img) = \" + str(convert_img2vec(img)))"
      ],
      "execution_count": 16,
      "outputs": [
        {
          "output_type": "stream",
          "text": [
            "img2vec(img) = [[0.67826139]\n",
            " [0.29380381]\n",
            " [0.90714982]\n",
            " [0.52835647]\n",
            " [0.4215251 ]\n",
            " [0.45017551]\n",
            " [0.92814219]\n",
            " [0.96677647]\n",
            " [0.85304703]\n",
            " [0.52351845]\n",
            " [0.19981397]\n",
            " [0.27417313]\n",
            " [0.60659855]\n",
            " [0.00533165]\n",
            " [0.10820313]\n",
            " [0.49978937]\n",
            " [0.34144279]\n",
            " [0.94630077]]\n"
          ],
          "name": "stdout"
        }
      ]
    },
    {
      "cell_type": "markdown",
      "metadata": {
        "id": "xgsbv5Vk03mL",
        "colab_type": "text"
      },
      "source": [
        "**Normalizing rows**"
      ]
    },
    {
      "cell_type": "code",
      "metadata": {
        "id": "GwkWUsLb0xoy",
        "colab_type": "code",
        "colab": {}
      },
      "source": [
        "#Function to normalize rows\n",
        "def normalize_Rows(r):\n",
        "  res = np.linalg.norm(r, axis = 1, keepdims = True)\n",
        "  return r / res"
      ],
      "execution_count": 0,
      "outputs": []
    },
    {
      "cell_type": "code",
      "metadata": {
        "id": "0s-uheLr1Uuq",
        "colab_type": "code",
        "colab": {
          "base_uri": "https://localhost:8080/",
          "height": 51
        },
        "outputId": "25b0b53d-d782-4a07-85a0-626946e51dfe"
      },
      "source": [
        "r = np.array([[1, 4, 6], [2, 5, 9]])\n",
        "print(\"normalizeRows(r) = \" + str(normalize_Rows(r)))"
      ],
      "execution_count": 19,
      "outputs": [
        {
          "output_type": "stream",
          "text": [
            "normalizeRows(r) = [[0.13736056 0.54944226 0.82416338]\n",
            " [0.19069252 0.47673129 0.85811633]]\n"
          ],
          "name": "stdout"
        }
      ]
    },
    {
      "cell_type": "markdown",
      "metadata": {
        "id": "BsQ8-pgz2r9J",
        "colab_type": "text"
      },
      "source": [
        "**Building softmax function**"
      ]
    },
    {
      "cell_type": "code",
      "metadata": {
        "id": "L0tTtpj12x5v",
        "colab_type": "code",
        "colab": {}
      },
      "source": [
        "#Function to define softmax\n",
        "def compute_softmax(n):\n",
        "    return np.exp(n) / np.sum(np.exp(n), axis = 1, keepdims = True)"
      ],
      "execution_count": 0,
      "outputs": []
    },
    {
      "cell_type": "code",
      "metadata": {
        "id": "hGaqNWzb3EZa",
        "colab_type": "code",
        "colab": {
          "base_uri": "https://localhost:8080/",
          "height": 85
        },
        "outputId": "b1e90b9e-2b36-4c77-cbf6-b01aae7a8ef6"
      },
      "source": [
        "#Computing softmax\n",
        "n = np.array([[1, 2, 9, 0, 3], [5, 6, 4, 9 ,1]])\n",
        "print(\"softmax(n) = \" + str(compute_softmax(n)))"
      ],
      "execution_count": 25,
      "outputs": [
        {
          "output_type": "stream",
          "text": [
            "softmax(n) = [[3.34176214e-04 9.08385131e-04 9.96165255e-01 1.22936559e-04\n",
            "  2.46924679e-03]\n",
            " [1.70350128e-02 4.63059657e-02 6.26683098e-03 9.30080183e-01\n",
            "  3.12007142e-04]]\n"
          ],
          "name": "stdout"
        }
      ]
    },
    {
      "cell_type": "markdown",
      "metadata": {
        "id": "kM-wyReS3fEf",
        "colab_type": "text"
      },
      "source": [
        "**Implementing L1 loss function**"
      ]
    },
    {
      "cell_type": "code",
      "metadata": {
        "id": "JtymzQMh3eSV",
        "colab_type": "code",
        "colab": {}
      },
      "source": [
        "def L1_loss(a, b):\n",
        "  return sum(abs(b-a))"
      ],
      "execution_count": 0,
      "outputs": []
    },
    {
      "cell_type": "code",
      "metadata": {
        "id": "kc_g502i4Awg",
        "colab_type": "code",
        "colab": {
          "base_uri": "https://localhost:8080/",
          "height": 34
        },
        "outputId": "4ab19960-c82f-4c8f-e035-36e9f1062edc"
      },
      "source": [
        "a = np.array([.6, 0.3, 0.1, .7, .2])\n",
        "b = np.array([0, 1, 1, 0, 1])\n",
        "print(\"L1 = \" + str(L1_loss(a,b)))"
      ],
      "execution_count": 28,
      "outputs": [
        {
          "output_type": "stream",
          "text": [
            "L1 = 3.6999999999999993\n"
          ],
          "name": "stdout"
        }
      ]
    },
    {
      "cell_type": "markdown",
      "metadata": {
        "id": "wGnGjMII4iEO",
        "colab_type": "text"
      },
      "source": [
        "**Implementing L1 loss function**"
      ]
    },
    {
      "cell_type": "code",
      "metadata": {
        "id": "lxRmnkWv4lLz",
        "colab_type": "code",
        "colab": {}
      },
      "source": [
        "def L2_loss(a, b):\n",
        "  return sum((b-a)**2)"
      ],
      "execution_count": 0,
      "outputs": []
    },
    {
      "cell_type": "code",
      "metadata": {
        "id": "BBZnySy_4sGR",
        "colab_type": "code",
        "colab": {
          "base_uri": "https://localhost:8080/",
          "height": 34
        },
        "outputId": "e1e1a2f2-a4ba-4c3a-87ed-420f253c4063"
      },
      "source": [
        "a = np.array([.6, 0.3, 0.1, .7, .2])\n",
        "b = np.array([0, 1, 1, 0, 1])\n",
        "print(\"L2 = \" + str(L2_loss(a,b)))"
      ],
      "execution_count": 31,
      "outputs": [
        {
          "output_type": "stream",
          "text": [
            "L2 = 2.79\n"
          ],
          "name": "stdout"
        }
      ]
    }
  ]
}