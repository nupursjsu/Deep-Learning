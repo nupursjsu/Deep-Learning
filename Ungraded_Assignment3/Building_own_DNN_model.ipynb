{
  "nbformat": 4,
  "nbformat_minor": 0,
  "metadata": {
    "colab": {
      "name": "Building_own_DNN_model.ipynb",
      "provenance": [],
      "collapsed_sections": [],
      "authorship_tag": "ABX9TyNQxOHLRl0OPcwn8Q553JJ8",
      "include_colab_link": true
    },
    "kernelspec": {
      "name": "python3",
      "display_name": "Python 3"
    }
  },
  "cells": [
    {
      "cell_type": "markdown",
      "metadata": {
        "id": "view-in-github",
        "colab_type": "text"
      },
      "source": [
        "<a href=\"https://colab.research.google.com/github/nupursjsu/Deep-Learning/blob/master/Ungraded_Assignment3/Building_own_DNN_model.ipynb\" target=\"_parent\"><img src=\"https://colab.research.google.com/assets/colab-badge.svg\" alt=\"Open In Colab\"/></a>"
      ]
    },
    {
      "cell_type": "markdown",
      "metadata": {
        "id": "9ZPymrr5zRZg",
        "colab_type": "text"
      },
      "source": [
        "# Building our own DNN model"
      ]
    },
    {
      "cell_type": "markdown",
      "metadata": {
        "id": "64dJzMEAzWzi",
        "colab_type": "text"
      },
      "source": [
        "## Importing necessary libraries"
      ]
    },
    {
      "cell_type": "code",
      "metadata": {
        "id": "1ktHME3Vn1wJ",
        "colab_type": "code",
        "colab": {}
      },
      "source": [
        "import numpy as np\n",
        "import h5py\n",
        "import matplotlib.pyplot as plt\n",
        "%matplotlib inline\n",
        "#Setting default size for plots\n",
        "plt.rcParams['figure.figsize'] = (5.0, 4.0) \n",
        "plt.rcParams['image.interpolation'] = 'nearest'\n",
        "plt.rcParams['image.cmap'] = 'gray'\n",
        "\n",
        "%load_ext autoreload\n",
        "%autoreload 2\n",
        "\n",
        "#Setting seed to have consistent results\n",
        "np.random.seed(12)"
      ],
      "execution_count": 0,
      "outputs": []
    },
    {
      "cell_type": "markdown",
      "metadata": {
        "id": "Yhm4I2HK0v3e",
        "colab_type": "text"
      },
      "source": [
        "## Getting testCases_v4a and dnn_utils_v2 packages to import from"
      ]
    },
    {
      "cell_type": "code",
      "metadata": {
        "id": "W8aSRl0V0IpI",
        "colab_type": "code",
        "colab": {}
      },
      "source": [
        "# Code to read files into Colaboratory:\n",
        "!pip install -U -q PyDrive\n",
        "from pydrive.auth import GoogleAuth\n",
        "from pydrive.drive import GoogleDrive\n",
        "from google.colab import auth\n",
        "from oauth2client.client import GoogleCredentials\n",
        "# Authenticate and create the PyDrive client.\n",
        "auth.authenticate_user()\n",
        "gauth = GoogleAuth()\n",
        "gauth.credentials = GoogleCredentials.get_application_default()\n",
        "drive = GoogleDrive(gauth)"
      ],
      "execution_count": 0,
      "outputs": []
    },
    {
      "cell_type": "code",
      "metadata": {
        "id": "m9OtD8Ot0--a",
        "colab_type": "code",
        "colab": {
          "base_uri": "https://localhost:8080/",
          "height": 34
        },
        "outputId": "9051103d-16d4-4a53-ce41-3e4dee210a3d"
      },
      "source": [
        "#Getting testCases_v4a package file\n",
        "link = 'https://drive.google.com/open?id=1rCNvN1f2Q8Xcz6vU6QPTq9xnhuVIB1Ct'\n",
        "fluff, id = link.split('=')\n",
        "print (id) # Verify that you have everything after '='\n",
        "\n",
        "downloaded = drive.CreateFile({'id':id}) \n",
        "downloaded.GetContentFile('testCases_v4a.py')"
      ],
      "execution_count": 4,
      "outputs": [
        {
          "output_type": "stream",
          "text": [
            "1rCNvN1f2Q8Xcz6vU6QPTq9xnhuVIB1Ct\n"
          ],
          "name": "stdout"
        }
      ]
    },
    {
      "cell_type": "code",
      "metadata": {
        "id": "SfWSyM2m1INw",
        "colab_type": "code",
        "colab": {
          "base_uri": "https://localhost:8080/",
          "height": 34
        },
        "outputId": "e2e3d1a1-0256-441d-d79a-7de0cf735622"
      },
      "source": [
        "#Getting dnn_utils_v2 package file\n",
        "link = 'https://drive.google.com/open?id=1GGim5lLwKn_nPDeszE-JQefEom72jiLC'\n",
        "fluff, id = link.split('=')\n",
        "print (id) # Verify that you have everything after '='\n",
        "\n",
        "downloaded = drive.CreateFile({'id':id}) \n",
        "downloaded.GetContentFile('dnn_utils_v2.py')"
      ],
      "execution_count": 5,
      "outputs": [
        {
          "output_type": "stream",
          "text": [
            "1GGim5lLwKn_nPDeszE-JQefEom72jiLC\n"
          ],
          "name": "stdout"
        }
      ]
    },
    {
      "cell_type": "code",
      "metadata": {
        "id": "O0emCyTv06MS",
        "colab_type": "code",
        "colab": {}
      },
      "source": [
        "#Importing functions from the packages\n",
        "from testCases_v4a import *\n",
        "from dnn_utils_v2 import sigmoid, sigmoid_backward, relu, relu_backward"
      ],
      "execution_count": 0,
      "outputs": []
    },
    {
      "cell_type": "markdown",
      "metadata": {
        "id": "3rGK9cbs1xye",
        "colab_type": "text"
      },
      "source": [
        "## Initializing model parameters"
      ]
    },
    {
      "cell_type": "code",
      "metadata": {
        "id": "BLXRGUZu1377",
        "colab_type": "code",
        "colab": {}
      },
      "source": [
        "def initialize_params(x, h, ny):\n",
        "    \n",
        "    np.random.seed(12)\n",
        "    \n",
        "    W1 = np.random.randn(h,x)*0.01\n",
        "    b1 = np.zeros((h,1))\n",
        "    W2 = np.random.randn(y, h)*0.01\n",
        "    b2 = np.zeros((y,1))\n",
        "\n",
        "    assert(W1.shape == (h, x))\n",
        "    assert(b1.shape == (h, 1))\n",
        "    assert(W2.shape == (y, h))\n",
        "    assert(b2.shape == (y, 1))\n",
        "    \n",
        "    params = {\"W1\": W1,\n",
        "                  \"b1\": b1,\n",
        "                  \"W2\": W2,\n",
        "                  \"b2\": b2}\n",
        "    \n",
        "    return params"
      ],
      "execution_count": 0,
      "outputs": []
    },
    {
      "cell_type": "markdown",
      "metadata": {
        "id": "2XL4k0482oS-",
        "colab_type": "text"
      },
      "source": [
        "## Initializing L-layer Neural Network parameters"
      ]
    },
    {
      "cell_type": "code",
      "metadata": {
        "id": "5GUbqpvB2OHL",
        "colab_type": "code",
        "colab": {}
      },
      "source": [
        "def initialize_params_deep(layer_dims):\n",
        "  \n",
        "    np.random.seed(3)\n",
        "    params = {}\n",
        "    L = len(layer_dims)          \n",
        "\n",
        "    for l in range(1, L):\n",
        "        params['W' + str(l)] = np.random.randn(layer_dims[l], layer_dims[l-1]) * 0.01\n",
        "        params['b' + str(l)] = np.zeros((layer_dims[l], 1))\n",
        "        assert(params['W' + str(l)].shape == (layer_dims[l], layer_dims[l-1]))\n",
        "        assert(params['b' + str(l)].shape == (layer_dims[l], 1))\n",
        "\n",
        "        \n",
        "    return params"
      ],
      "execution_count": 0,
      "outputs": []
    },
    {
      "cell_type": "markdown",
      "metadata": {
        "id": "A0ltEC8I2td5",
        "colab_type": "text"
      },
      "source": [
        "## Implementing Forward propagation module"
      ]
    },
    {
      "cell_type": "code",
      "metadata": {
        "id": "CvP5UJ2K2-oc",
        "colab_type": "code",
        "colab": {}
      },
      "source": [
        "#Building the linear part of forward propagation module\n",
        "def linear_fwd(A, W, b):\n",
        "    \n",
        "    Z = np.dot(W,A)+b\n",
        "\n",
        "    assert(Z.shape == (W.shape[0], A.shape[1]))\n",
        "    op = (A, W, b)\n",
        "    \n",
        "    return Z, op"
      ],
      "execution_count": 0,
      "outputs": []
    },
    {
      "cell_type": "code",
      "metadata": {
        "id": "K5252y3U3T_r",
        "colab_type": "code",
        "colab": {}
      },
      "source": [
        "#Implementing the forward propagation of the LINEAR->ACTIVATION layer\n",
        "def linear_activation_fwd(A_prev, W, b, activation):\n",
        "    \n",
        "    if activation == \"sigmoid\":\n",
        "     \n",
        "        Z, linear_op = linear_fwd(A_prev, W, b)\n",
        "        A, activation_op = sigmoid(Z)\n",
        "       \n",
        "    elif activation == \"relu\":\n",
        "     \n",
        "        Z, linear_op = linear_fwd(A_prev, W, b)\n",
        "        A, activation_op = relu(Z)\n",
        "\n",
        "    assert (A.shape == (W.shape[0], A_prev.shape[1]))\n",
        "    op = (linear_op, activation_op)\n",
        "\n",
        "    return A, op"
      ],
      "execution_count": 0,
      "outputs": []
    },
    {
      "cell_type": "code",
      "metadata": {
        "id": "LNjqs4l-30t_",
        "colab_type": "code",
        "colab": {}
      },
      "source": [
        "#Implementing the forward propagation of the L-layer model\n",
        "def L_model_fwd(X, params):\n",
        "\n",
        "    ops = []\n",
        "    A = X\n",
        "    L = len(params) // 2                \n",
        "    for l in range(1, L):\n",
        "        A_prev = A \n",
        "        A, op = linear_activation_fwd(A_prev, \n",
        "                                             params['W' + str(l)], \n",
        "                                             params['b' + str(l)], \n",
        "                                             activation='relu')\n",
        "        ops.append(op)\n",
        "        \n",
        "    AL, op = linear_activation_fwd(A, \n",
        "                                          params['W' + str(L)], \n",
        "                                          params['b' + str(L)], \n",
        "                                          activation='sigmoid')\n",
        "    ops.append(op)\n",
        "    assert(AL.shape == (1,X.shape[1]))\n",
        "    return AL, ops"
      ],
      "execution_count": 0,
      "outputs": []
    },
    {
      "cell_type": "markdown",
      "metadata": {
        "id": "rbf-VmI85SYq",
        "colab_type": "text"
      },
      "source": [
        "## Implementing loss function"
      ]
    },
    {
      "cell_type": "code",
      "metadata": {
        "id": "zWtSyc_t5Mbx",
        "colab_type": "code",
        "colab": {}
      },
      "source": [
        "def compute_loss(AL, Y):\n",
        "\n",
        "    r = Y.shape[1]\n",
        "\n",
        "    loss = (-1/r)* np.sum(np.multiply(Y, np.log(AL)) + np.multiply(1-Y, np.log(1-AL)))\n",
        "\n",
        "    loss = np.squeeze(loss)    \n",
        "    assert(loss.shape == ())\n",
        "    \n",
        "    return loss"
      ],
      "execution_count": 0,
      "outputs": []
    },
    {
      "cell_type": "markdown",
      "metadata": {
        "id": "_vWE4xxm5lpm",
        "colab_type": "text"
      },
      "source": [
        "## Implementing Backward propagation module"
      ]
    },
    {
      "cell_type": "code",
      "metadata": {
        "id": "7KFhQWFz5hoD",
        "colab_type": "code",
        "colab": {}
      },
      "source": [
        "#Implementing linear backward\n",
        "def linear_bwd(dZ, op):\n",
        "    A_prev, W, b = op\n",
        "    r = A_prev.shape[1]\n",
        "\n",
        "    dW = (1/r)*np.dot(dZ, A_prev.T)\n",
        "    db = (1/r)*np.sum(dZ, axis=1, keepdims=True)\n",
        "    dA_prev = np.dot(W.T,dZ)\n",
        "  \n",
        "    assert (dA_prev.shape == A_prev.shape)\n",
        "    assert (dW.shape == W.shape)\n",
        "    assert (db.shape == b.shape)\n",
        "    \n",
        "    return dA_prev, dW, db"
      ],
      "execution_count": 0,
      "outputs": []
    },
    {
      "cell_type": "code",
      "metadata": {
        "id": "WtcWapbj6TwT",
        "colab_type": "code",
        "colab": {}
      },
      "source": [
        "#Implementing the backward propagation of the LINEAR->ACTIVATION layer\n",
        "def linear_activation_bwd(dA, op, activation):\n",
        "   \n",
        "    linear_op, activation_op = op\n",
        "    \n",
        "    if activation == \"relu\":\n",
        "       \n",
        "        dZ = relu_backward(dA, op[1])\n",
        "        dA_prev, dW, db = linear_bwd(dZ, linear_op)\n",
        "      \n",
        "    elif activation == \"sigmoid\":\n",
        "       \n",
        "        dZ = sigmoid_backward(dA, op[1])\n",
        "        dA_prev, dW, db = linear_bwd(dZ, linear_op)\n",
        "  \n",
        "    return dA_prev, dW, db"
      ],
      "execution_count": 0,
      "outputs": []
    },
    {
      "cell_type": "code",
      "metadata": {
        "id": "Zj3jwG7Y6tVs",
        "colab_type": "code",
        "colab": {}
      },
      "source": [
        "#Implementing the backward propagation of the L-layer model\n",
        "def L_model_bwd(AL, Y, ops):\n",
        "\n",
        "    gradients = {}\n",
        "    \n",
        "    L = len(ops) \n",
        "    r = AL.shape[1]\n",
        "    Y = Y.reshape(AL.shape) \n",
        "    \n",
        "    dAL = - (np.divide(Y, AL) - np.divide(1 - Y, 1 - AL))\n",
        "\n",
        "    current_op = ops[L-1]\n",
        "    gradients[\"dA\" + str(L-1)], gradients[\"dW\" + str(L)], gradients[\"db\" + str(L)] = linear_activation_bwd(dAL, current_op, activation = \"sigmoid\")\n",
        "    for l in reversed(range(L-1)):\n",
        "\n",
        "        current_op = ops[l]\n",
        "        dA_prev_temp, dW_temp, db_temp = linear_activation_bwd(gradients[\"dA\" + str(l + 1)], current_op, activation = \"relu\")\n",
        "        gradients[\"dA\" + str(l)] = dA_prev_temp\n",
        "        gradients[\"dW\" + str(l + 1)] = dW_temp\n",
        "        gradients[\"db\" + str(l + 1)] = db_temp\n",
        "    return gradients"
      ],
      "execution_count": 0,
      "outputs": []
    },
    {
      "cell_type": "markdown",
      "metadata": {
        "id": "zIClyiaf7wRJ",
        "colab_type": "text"
      },
      "source": [
        "## Updating parameters using gradient descent"
      ]
    },
    {
      "cell_type": "code",
      "metadata": {
        "id": "Y_iAdFU97QAs",
        "colab_type": "code",
        "colab": {}
      },
      "source": [
        "## Updating parameters using gradient descent\n",
        "def update_params(params, gradients, learning_rate):\n",
        "    \n",
        "    L = len(params) // 2 \n",
        "\n",
        "    for l in range(L):\n",
        "        params[\"W\" + str(l+1)] = params[\"W\" + str(l+1)] - learning_rate * gradients[\"dW\" + str(l + 1)]\n",
        "        params[\"b\" + str(l+1)] = params[\"b\" + str(l+1)] - learning_rate * gradients[\"db\" + str(l + 1)]\n",
        "\n",
        "    return params"
      ],
      "execution_count": 0,
      "outputs": []
    },
    {
      "cell_type": "markdown",
      "metadata": {
        "id": "dcYG0oxj77Mk",
        "colab_type": "text"
      },
      "source": [
        "## Conclusion\n",
        "\n",
        "In this assignment I learned how to build our own deep neural network model"
      ]
    }
  ]
}